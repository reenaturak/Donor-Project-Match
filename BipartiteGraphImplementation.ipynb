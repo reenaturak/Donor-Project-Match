{
 "cells": [
  {
   "cell_type": "code",
   "execution_count": 1,
   "metadata": {},
   "outputs": [],
   "source": [
    "import numpy as np\n",
    "import scipy\n",
    "import pandas as pd\n",
    "import math\n",
    "import random\n",
    "import sklearn\n",
    "from nltk.corpus import stopwords\n",
    "from sklearn.model_selection import train_test_split\n",
    "from sklearn.feature_extraction.text import TfidfVectorizer\n",
    "from sklearn.metrics.pairwise import cosine_similarity\n",
    "from scipy.sparse.linalg import svds\n",
    "import matplotlib.pyplot as plt\n",
    "import networkx as nx\n",
    "from networkx.algorithms import bipartite\n",
    "import warnings\n",
    "import sys\n",
    "sys.path.append('C:\\\\Users\\Reena\\Documents\\Reena\\pyEvaluator-master')\n",
    "from pyEvaluator.Evaluator import Evaluator\n",
    "#from recsys.evaluation.decision import PrecisionRecallF1\n",
    "#from recsys.evaluation.decision import PrecisionRecallF1\n",
    "from datetime import datetime\n",
    "from nxviz import CircosPlot"
   ]
  },
  {
   "cell_type": "code",
   "execution_count": 2,
   "metadata": {},
   "outputs": [],
   "source": [
    "#Read all the csv files\n",
    "donations = pd.read_csv('Donations.csv')\n",
    "donors = pd.read_csv('Donors.csv',low_memory=False)\n",
    "schools = pd.read_csv('Schools.csv',error_bad_lines=False)\n",
    "teachers = pd.read_csv('Teachers.csv',error_bad_lines=False)\n",
    "projects = pd.read_csv('Projects.csv',error_bad_lines=False)\n",
    "resources = pd.read_csv('Resources.csv',error_bad_lines=False,warn_bad_lines=False)"
   ]
  },
  {
   "cell_type": "code",
   "execution_count": 3,
   "metadata": {},
   "outputs": [
    {
     "name": "stdout",
     "output_type": "stream",
     "text": [
      "(2122640, 5)\n"
     ]
    },
    {
     "data": {
      "text/plain": [
       "2122640"
      ]
     },
     "execution_count": 3,
     "metadata": {},
     "output_type": "execute_result"
    }
   ],
   "source": [
    "donors.head()\n",
    "print(donors.shape)\n",
    "donors['Donor ID'].nunique()"
   ]
  },
  {
   "cell_type": "code",
   "execution_count": 4,
   "metadata": {},
   "outputs": [
    {
     "name": "stdout",
     "output_type": "stream",
     "text": [
      "(1110017, 18)\n"
     ]
    },
    {
     "data": {
      "text/plain": [
       "51"
      ]
     },
     "execution_count": 4,
     "metadata": {},
     "output_type": "execute_result"
    }
   ],
   "source": [
    "print(projects.shape)\n",
    "projects['Project ID'].nunique()\n",
    "projects.head()\n",
    "projects['Project Subject Category Tree'].nunique()"
   ]
  },
  {
   "cell_type": "code",
   "execution_count": 5,
   "metadata": {},
   "outputs": [
    {
     "name": "stdout",
     "output_type": "stream",
     "text": [
      "2024554\n"
     ]
    },
    {
     "data": {
      "text/plain": [
       "(4687884, 7)"
      ]
     },
     "execution_count": 5,
     "metadata": {},
     "output_type": "execute_result"
    }
   ],
   "source": [
    "print(donations['Donor ID'].nunique())\n",
    "donations.shape"
   ]
  },
  {
   "cell_type": "code",
   "execution_count": 6,
   "metadata": {},
   "outputs": [
    {
     "data": {
      "text/plain": [
       "901965"
      ]
     },
     "execution_count": 6,
     "metadata": {},
     "output_type": "execute_result"
    }
   ],
   "source": [
    "donations['Project ID'].nunique()"
   ]
  },
  {
   "cell_type": "code",
   "execution_count": 7,
   "metadata": {},
   "outputs": [
    {
     "data": {
      "text/plain": [
       "(722945, 7)"
      ]
     },
     "execution_count": 7,
     "metadata": {},
     "output_type": "execute_result"
    }
   ],
   "source": [
    "#donations.loc[donations['Donor ID'].isin((donations.groupby('Donor ID').size().Value >= 1).index)]\n",
    "df = donations[donations.groupby('Donor ID')['Donor ID'].transform('size') > 100]\n",
    "df.shape"
   ]
  },
  {
   "cell_type": "code",
   "execution_count": 8,
   "metadata": {},
   "outputs": [
    {
     "data": {
      "text/plain": [
       "(722945, 24)"
      ]
     },
     "execution_count": 8,
     "metadata": {},
     "output_type": "execute_result"
    }
   ],
   "source": [
    "df_project = pd.merge(df, projects, on='Project ID', how='left')\n",
    "df_project.shape"
   ]
  },
  {
   "cell_type": "code",
   "execution_count": 9,
   "metadata": {
    "scrolled": true
   },
   "outputs": [
    {
     "data": {
      "text/plain": [
       "Project ID                                 0\n",
       "Donation ID                                0\n",
       "Donor ID                                   0\n",
       "Donation Included Optional Donation        0\n",
       "Donation Amount                            0\n",
       "Donor Cart Sequence                        0\n",
       "Donation Received Date                     0\n",
       "School ID                              16994\n",
       "Teacher ID                             16994\n",
       "Teacher Project Posted Sequence        16994\n",
       "Project Type                           16994\n",
       "Project Title                          16996\n",
       "Project Essay                          16994\n",
       "Project Short Description              16994\n",
       "Project Need Statement                 16995\n",
       "Project Subject Category Tree          17024\n",
       "Project Subject Subcategory Tree       17024\n",
       "Project Grade Level Category           16994\n",
       "Project Resource Category              17027\n",
       "Project Cost                           16994\n",
       "Project Posted Date                    16994\n",
       "Project Expiration Date                16994\n",
       "Project Current Status                 16994\n",
       "Project Fully Funded Date              59403\n",
       "dtype: int64"
      ]
     },
     "execution_count": 9,
     "metadata": {},
     "output_type": "execute_result"
    }
   ],
   "source": [
    "df_project.isnull().sum()"
   ]
  },
  {
   "cell_type": "code",
   "execution_count": 10,
   "metadata": {},
   "outputs": [],
   "source": [
    "df_project = df_project.dropna(how='any')"
   ]
  },
  {
   "cell_type": "code",
   "execution_count": 11,
   "metadata": {},
   "outputs": [
    {
     "data": {
      "text/plain": [
       "Project ID                             0\n",
       "Donation ID                            0\n",
       "Donor ID                               0\n",
       "Donation Included Optional Donation    0\n",
       "Donation Amount                        0\n",
       "Donor Cart Sequence                    0\n",
       "Donation Received Date                 0\n",
       "School ID                              0\n",
       "Teacher ID                             0\n",
       "Teacher Project Posted Sequence        0\n",
       "Project Type                           0\n",
       "Project Title                          0\n",
       "Project Essay                          0\n",
       "Project Short Description              0\n",
       "Project Need Statement                 0\n",
       "Project Subject Category Tree          0\n",
       "Project Subject Subcategory Tree       0\n",
       "Project Grade Level Category           0\n",
       "Project Resource Category              0\n",
       "Project Cost                           0\n",
       "Project Posted Date                    0\n",
       "Project Expiration Date                0\n",
       "Project Current Status                 0\n",
       "Project Fully Funded Date              0\n",
       "dtype: int64"
      ]
     },
     "execution_count": 11,
     "metadata": {},
     "output_type": "execute_result"
    }
   ],
   "source": [
    "pd.options.display.float_format = \"{:.2f}\".format\n",
    "df_project.isnull().sum()"
   ]
  },
  {
   "cell_type": "code",
   "execution_count": 12,
   "metadata": {},
   "outputs": [
    {
     "data": {
      "text/html": [
       "<div>\n",
       "<style scoped>\n",
       "    .dataframe tbody tr th:only-of-type {\n",
       "        vertical-align: middle;\n",
       "    }\n",
       "\n",
       "    .dataframe tbody tr th {\n",
       "        vertical-align: top;\n",
       "    }\n",
       "\n",
       "    .dataframe thead th {\n",
       "        text-align: right;\n",
       "    }\n",
       "</style>\n",
       "<table border=\"1\" class=\"dataframe\">\n",
       "  <thead>\n",
       "    <tr style=\"text-align: right;\">\n",
       "      <th></th>\n",
       "      <th>Donation Amount</th>\n",
       "      <th>Donor Cart Sequence</th>\n",
       "      <th>Teacher Project Posted Sequence</th>\n",
       "      <th>Project Cost</th>\n",
       "    </tr>\n",
       "  </thead>\n",
       "  <tbody>\n",
       "    <tr>\n",
       "      <th>count</th>\n",
       "      <td>663506.00</td>\n",
       "      <td>663506.00</td>\n",
       "      <td>663506.00</td>\n",
       "      <td>663506.00</td>\n",
       "    </tr>\n",
       "    <tr>\n",
       "      <th>mean</th>\n",
       "      <td>48.14</td>\n",
       "      <td>927.28</td>\n",
       "      <td>36.61</td>\n",
       "      <td>685.33</td>\n",
       "    </tr>\n",
       "    <tr>\n",
       "      <th>std</th>\n",
       "      <td>187.40</td>\n",
       "      <td>2127.57</td>\n",
       "      <td>54.99</td>\n",
       "      <td>2405.63</td>\n",
       "    </tr>\n",
       "    <tr>\n",
       "      <th>min</th>\n",
       "      <td>0.06</td>\n",
       "      <td>1.00</td>\n",
       "      <td>1.00</td>\n",
       "      <td>35.29</td>\n",
       "    </tr>\n",
       "    <tr>\n",
       "      <th>25%</th>\n",
       "      <td>1.00</td>\n",
       "      <td>78.00</td>\n",
       "      <td>3.00</td>\n",
       "      <td>305.59</td>\n",
       "    </tr>\n",
       "    <tr>\n",
       "      <th>50%</th>\n",
       "      <td>3.00</td>\n",
       "      <td>226.00</td>\n",
       "      <td>13.00</td>\n",
       "      <td>453.46</td>\n",
       "    </tr>\n",
       "    <tr>\n",
       "      <th>75%</th>\n",
       "      <td>25.00</td>\n",
       "      <td>767.00</td>\n",
       "      <td>46.00</td>\n",
       "      <td>670.82</td>\n",
       "    </tr>\n",
       "    <tr>\n",
       "      <th>max</th>\n",
       "      <td>60000.00</td>\n",
       "      <td>18115.00</td>\n",
       "      <td>497.00</td>\n",
       "      <td>255737.67</td>\n",
       "    </tr>\n",
       "  </tbody>\n",
       "</table>\n",
       "</div>"
      ],
      "text/plain": [
       "       Donation Amount  Donor Cart Sequence  Teacher Project Posted Sequence  \\\n",
       "count        663506.00            663506.00                        663506.00   \n",
       "mean             48.14               927.28                            36.61   \n",
       "std             187.40              2127.57                            54.99   \n",
       "min               0.06                 1.00                             1.00   \n",
       "25%               1.00                78.00                             3.00   \n",
       "50%               3.00               226.00                            13.00   \n",
       "75%              25.00               767.00                            46.00   \n",
       "max           60000.00             18115.00                           497.00   \n",
       "\n",
       "       Project Cost  \n",
       "count     663506.00  \n",
       "mean         685.33  \n",
       "std         2405.63  \n",
       "min           35.29  \n",
       "25%          305.59  \n",
       "50%          453.46  \n",
       "75%          670.82  \n",
       "max       255737.67  "
      ]
     },
     "execution_count": 12,
     "metadata": {},
     "output_type": "execute_result"
    }
   ],
   "source": [
    "pd.options.display.float_format = \"{:.2f}\".format\n",
    "df_project.describe()"
   ]
  },
  {
   "cell_type": "code",
   "execution_count": 13,
   "metadata": {},
   "outputs": [
    {
     "name": "stdout",
     "output_type": "stream",
     "text": [
      "(663506, 24)\n",
      "192099\n",
      "1822\n"
     ]
    }
   ],
   "source": [
    "print(df_project.shape)\n",
    "print(df_project['Project ID'].nunique())\n",
    "print(df_project['Donor ID'].nunique())"
   ]
  },
  {
   "cell_type": "code",
   "execution_count": 14,
   "metadata": {},
   "outputs": [],
   "source": [
    "df_final = df_project[['Donor ID', 'Project ID', 'Project Title']]"
   ]
  },
  {
   "cell_type": "code",
   "execution_count": 15,
   "metadata": {},
   "outputs": [
    {
     "name": "stdout",
     "output_type": "stream",
     "text": [
      "(464454, 3)\n",
      "(199052, 3)\n"
     ]
    }
   ],
   "source": [
    "df_train, df_test = train_test_split(df_final, test_size=0.30, random_state=42)\n",
    "print(df_train.shape)\n",
    "print(df_test.shape)"
   ]
  },
  {
   "cell_type": "code",
   "execution_count": 16,
   "metadata": {},
   "outputs": [
    {
     "data": {
      "text/html": [
       "<div>\n",
       "<style scoped>\n",
       "    .dataframe tbody tr th:only-of-type {\n",
       "        vertical-align: middle;\n",
       "    }\n",
       "\n",
       "    .dataframe tbody tr th {\n",
       "        vertical-align: top;\n",
       "    }\n",
       "\n",
       "    .dataframe thead th {\n",
       "        text-align: right;\n",
       "    }\n",
       "</style>\n",
       "<table border=\"1\" class=\"dataframe\">\n",
       "  <thead>\n",
       "    <tr style=\"text-align: right;\">\n",
       "      <th></th>\n",
       "      <th>Donor ID</th>\n",
       "      <th>Project ID</th>\n",
       "      <th>Project Title</th>\n",
       "    </tr>\n",
       "  </thead>\n",
       "  <tbody>\n",
       "    <tr>\n",
       "      <th>171992</th>\n",
       "      <td>1756d766dab5b3cac8f2aa500430f326</td>\n",
       "      <td>3d6bf5ce473ed6980a86d676055b4d48</td>\n",
       "      <td>Professional Learning With Students in Mind!</td>\n",
       "    </tr>\n",
       "    <tr>\n",
       "      <th>476704</th>\n",
       "      <td>237db43817f34988f9d543ca518be4ee</td>\n",
       "      <td>a938cc8dd9942c946250734d64f84d0a</td>\n",
       "      <td>Move Your Bus!</td>\n",
       "    </tr>\n",
       "    <tr>\n",
       "      <th>613674</th>\n",
       "      <td>40c8b5781c5b591a8a0a646d8c513803</td>\n",
       "      <td>d8c59f8d7a62292ab25970c8d01630d1</td>\n",
       "      <td>Chromebooks for Differentiated Instruction</td>\n",
       "    </tr>\n",
       "    <tr>\n",
       "      <th>145917</th>\n",
       "      <td>237db43817f34988f9d543ca518be4ee</td>\n",
       "      <td>33dfd819f86b876adea7ebcb5b2c1f38</td>\n",
       "      <td>Knock, Knock, Knocking on Donations for NoteKn...</td>\n",
       "    </tr>\n",
       "    <tr>\n",
       "      <th>86481</th>\n",
       "      <td>99e91ab81ac57fc8fd3ccfd7da0a4889</td>\n",
       "      <td>1ee6ad53517b7950f4fd4bb282316ebb</td>\n",
       "      <td>A Carpet Spot for Everyone!</td>\n",
       "    </tr>\n",
       "  </tbody>\n",
       "</table>\n",
       "</div>"
      ],
      "text/plain": [
       "                                Donor ID                        Project ID  \\\n",
       "171992  1756d766dab5b3cac8f2aa500430f326  3d6bf5ce473ed6980a86d676055b4d48   \n",
       "476704  237db43817f34988f9d543ca518be4ee  a938cc8dd9942c946250734d64f84d0a   \n",
       "613674  40c8b5781c5b591a8a0a646d8c513803  d8c59f8d7a62292ab25970c8d01630d1   \n",
       "145917  237db43817f34988f9d543ca518be4ee  33dfd819f86b876adea7ebcb5b2c1f38   \n",
       "86481   99e91ab81ac57fc8fd3ccfd7da0a4889  1ee6ad53517b7950f4fd4bb282316ebb   \n",
       "\n",
       "                                            Project Title  \n",
       "171992       Professional Learning With Students in Mind!  \n",
       "476704                                     Move Your Bus!  \n",
       "613674         Chromebooks for Differentiated Instruction  \n",
       "145917  Knock, Knock, Knocking on Donations for NoteKn...  \n",
       "86481                         A Carpet Spot for Everyone!  "
      ]
     },
     "execution_count": 16,
     "metadata": {},
     "output_type": "execute_result"
    }
   ],
   "source": [
    "warnings.filterwarnings('ignore')\n",
    "\n",
    "# Get the duplicate records\n",
    "#df_dups = df_train.duplicated(['Donor ID','Project ID'])\n",
    "df_train = df_train.drop_duplicates(subset=['Donor ID', 'Project ID'])\n",
    "#df_train = df_train.drop([df_train['Donor ID'] == 'c2d29ea8217363101da5e173cc06eefbd'])\n",
    "#df_train.drop(df_train[df_train['is_duplicate'] == True].index, inplace=True)\n",
    "#print((df_train[\"is_duplicate\"] == True).sum())\n",
    "df_train.head()"
   ]
  },
  {
   "cell_type": "code",
   "execution_count": 17,
   "metadata": {},
   "outputs": [
    {
     "name": "stdout",
     "output_type": "stream",
     "text": [
      "                                 Donor ID                        Project ID  \\\n",
      "602992  b64afe5b7b5e07e1e8efdb7bc8913a5ed  d50c6873020eefe1258b693831756253   \n",
      "519897  be833db4f16df25696356b1194a14308d  b877a4f95b0f050a3b4afbdfb29affaa   \n",
      "385765  efdfbced227238f845028a1ff45cac90d  89ea58f1827e67601e68217e85f7ad53   \n",
      "379654  16a9158ae440705ca92eee38148d65b1d  87b75689dbcf139c269d570aa2f3ed61   \n",
      "242958  1be8ff2501f21dbe85a2fc87afb641e8d  5633bccf0cfc11bb65f79488133ced2a   \n",
      "\n",
      "                                           Project Title  \n",
      "602992                                Help Us Go Chrome!  \n",
      "519897       Our Classroom Writing Center Needs Supplies  \n",
      "385765                        Fitness is for Everyone!!!  \n",
      "379654  Behind the Scenes, the Odds and Ends of Teaching  \n",
      "242958         Listen Up!  Becoming Readers is Hard Work  \n"
     ]
    }
   ],
   "source": [
    "df_train['Donor ID'] = df_train['Donor ID'] + 'd'\n",
    "df_test['Donor ID'] = df_test['Donor ID'] + 'd'\n",
    "print(df_test.head())"
   ]
  },
  {
   "cell_type": "code",
   "execution_count": 18,
   "metadata": {},
   "outputs": [],
   "source": [
    "#Testing Data\n",
    "df_train = df_train.sample(n=6000)\n",
    "df_test = df_test.sample(n=2500)\n",
    "#df_test = df_test.append({'Donor ID' : 'c2d29ea8217363101da5e173cc06eefbd' , 'Project ID' : '00d328a7d6eae881b1e004b6a42e8603'} , ignore_index=True)  \n",
    "\n",
    "#print(df_train)\n",
    "#print(df_test)\n",
    "#df_test_eval = df_train.head(5)\n",
    "#df_test1 = df_test.head(5)\n",
    "#df_test1['Donor ID'] = df_test1['Donor ID'] + 'd'\n",
    "#print(df_test_eval)\n",
    "#df_test_eval\n",
    "#df_test_eval = df_test_eval.append({'Donor ID' : '7c2ae0d7c1cc6b760cf1ac8473d52cf7d' , 'Project ID' : '23044192e3a8d66a85f8b256cea18d3c'} , ignore_index=True)  \n",
    "#df_test1 = df_test1.append({'Donor ID' : '74f7db06bcd9557d1e992dc029db69ccd' , 'Project ID' : '17ac509d5f8668e5f4bbe5ebcc04438e'} , ignore_index=True)  \n"
   ]
  },
  {
   "cell_type": "code",
   "execution_count": 19,
   "metadata": {},
   "outputs": [
    {
     "name": "stdout",
     "output_type": "stream",
     "text": [
      "True\n"
     ]
    },
    {
     "data": {
      "text/plain": [
       "0"
      ]
     },
     "execution_count": 19,
     "metadata": {},
     "output_type": "execute_result"
    }
   ],
   "source": [
    "G = nx.Graph()\n",
    "G.add_nodes_from(df_train['Donor ID'], bipartite=0)\n",
    "G.add_nodes_from(df_train['Project ID'], bipartite=1)\n",
    "G.add_edges_from([(row['Donor ID'], row['Project ID']) for idx, row in df_train.iterrows()])\n",
    "\n",
    "#G.add_edges_from([('89938b0c7cca8e61dcd93d9363609bd1d', '3aacea50a59ee9a7a968addd2be334da')])\n",
    "\n",
    "print(bipartite.is_bipartite(G))\n",
    "G.number_of_selfloops()"
   ]
  },
  {
   "cell_type": "code",
   "execution_count": 20,
   "metadata": {},
   "outputs": [],
   "source": [
    "# Get number of nodes in the Donor and Project partition:\n",
    "\n",
    "def get_nodes_from_partition(G,partition):\n",
    "    # Initialize an empty list for nodes to be returned\n",
    "    nodes = []\n",
    "    # Iterate over each node in the graph G\n",
    "    for n in G.nodes():\n",
    "        # Check that the node belongs to the particular partition\n",
    "        if G.node[n]['bipartite'] == partition:\n",
    "            # If so, append it to the list of nodes\n",
    "            nodes.append(n)\n",
    "    return nodes\n",
    "\n",
    "# Print the number of nodes in the Donor partition\n",
    "#print(len(get_nodes_from_partition(G,0)))\n",
    "\n",
    "# Print the number of nodes in the Project partition\n",
    "#print(len(get_nodes_from_partition(G,1)))\n",
    "\n",
    "\n",
    "def shared_partition_nodes(G,node1, node2):\n",
    "    # Check that the nodes belong to the same partition\n",
    "    assert G.node[node1]['bipartite'] == G.node[node2]['bipartite']\n",
    "\n",
    "    # Get neighbors of node 1: nbrs1\n",
    "    nbrs1 = G.neighbors(node1)\n",
    "    # Get neighbors of node 2: nbrs2\n",
    "    nbrs2 = G.neighbors(node2)\n",
    "\n",
    "    # Compute the overlap using set intersections\n",
    "    overlap = set(nbrs1).intersection(nbrs2)\n",
    "    return overlap"
   ]
  },
  {
   "cell_type": "code",
   "execution_count": 21,
   "metadata": {},
   "outputs": [],
   "source": [
    "# Print the number of same projects between donors\n",
    "#print(len(shared_partition_nodes(G,'74f7db06bcd9557d1e992dc029db69ccd','97b554d710370d87cc4b26c18263ca76d')))\n",
    "\n",
    "\n",
    "def user_similarity(G, user1, user2, proj_nodes):\n",
    "    # Check that the nodes belong to the 'users' partition\n",
    "    assert G.node[user1]['bipartite'] == 0\n",
    "    assert G.node[user2]['bipartite'] == 0\n",
    "\n",
    "    # Get the set of nodes shared between the two users\n",
    "    shared_nodes = shared_partition_nodes(G,user1,user2)\n",
    "\n",
    "    # Return the fraction of nodes in the projects partition\n",
    "    return len(shared_nodes) / len(proj_nodes)\n",
    "\n",
    "# Compute the similarity score between users 'u4560' and 'u1880'\n",
    "#project_nodes = get_nodes_from_partition(G,1)\n",
    "#print(len(project_nodes))\n",
    "#similarity_score = user_similarity( G,'74f7db06bcd9557d1e992dc029db69ccd' , '7c2ae0d7c1cc6b760cf1ac8473d52cf7d',project_nodes)\n",
    "\n",
    "#print('similarity_score: ', '%.2f' % similarity_score)"
   ]
  },
  {
   "cell_type": "code",
   "execution_count": 22,
   "metadata": {},
   "outputs": [],
   "source": [
    "from collections import defaultdict\n",
    "\n",
    "def most_similar_users(G, user, user_nodes, proj_nodes):\n",
    "    # Data checks\n",
    "    assert G.node[user]['bipartite'] == 0\n",
    "\n",
    "    # Get other nodes from user partition\n",
    "    user_nodes = set(user_nodes)\n",
    "    user_nodes.remove(user)\n",
    "\n",
    "    # Create the dictionary: similarities\n",
    "    similarities = defaultdict(list)\n",
    "    for n in user_nodes:\n",
    "        similarity = user_similarity(G, user, n, proj_nodes)\n",
    "        similarities[similarity].append(n)\n",
    "        #print(similarities)\n",
    "\n",
    "    # Compute maximum similarity score: max_similarity\n",
    "    #max_similarity = max(similarities.keys())\n",
    "    #max(k for k, v in similarities.iteritems() if k != 0)\n",
    "    max_similarity = max(similarities.keys())\n",
    "    if max_similarity == 0:\n",
    "        max_similarity = None\n",
    "\n",
    "    # Return list of users that share maximal similarity\n",
    "    return similarities[max_similarity]\n",
    "\n",
    "#user_nodes = get_nodes_from_partition(G,0)\n",
    "#project_nodes = get_nodes_from_partition(G, 1)\n",
    "\n",
    "#print(most_similar_users(G,'31a0bef69915d4c5cbfeaab09fcad292d',user_nodes,project_nodes))"
   ]
  },
  {
   "cell_type": "code",
   "execution_count": 23,
   "metadata": {},
   "outputs": [],
   "source": [
    "# Recommend\n",
    "\n",
    "def recommend_repositories(G,from_user,to_user):\n",
    "    # Get the set of repositories that from_user has contributed to\n",
    "    from_repos = set(G.neighbors(from_user[0]))\n",
    "    #print(from_repos)\n",
    "    # Get the set of repositories that to_user has contributed to\n",
    "    to_repos = set(G.neighbors(to_user))\n",
    "    #print(to_repos)\n",
    "    # Identify repositories that the from_user is connected to that the to_user is not connected to\n",
    "    # Return a new graph that contains the edges that exist in G but not in H.\n",
    "\n",
    "    return from_repos.difference(to_repos)\n",
    "\n",
    "#Print the repositories to be recommended\n",
    "#recommended = recommend_repositories(G ,'7c2ae0d7c1cc6b760cf1ac8473d52cf7d','74f7db06bcd9557d1e992dc029db69ccd')"
   ]
  },
  {
   "cell_type": "code",
   "execution_count": 24,
   "metadata": {},
   "outputs": [],
   "source": [
    "def recommend_projects(G,donor_id, topn=10):\n",
    "    \n",
    "\n",
    "    user_nodes = get_nodes_from_partition(G,0)\n",
    "    project_nodes = get_nodes_from_partition(G, 1)\n",
    "    from_user = most_similar_users(G,donor_id,user_nodes,project_nodes)\n",
    "    #print(from_user)\n",
    "    if not from_user:\n",
    "        return None\n",
    "    recommended = recommend_repositories(G ,from_user,donor_id)\n",
    "    #print(recommended);\n",
    "    #myDict.update({donor_id:recommended})\n",
    "\n",
    "    return recommended\n",
    "\n",
    "#print(recommend_projects(G,'31a0bef69915d4c5cbfeaab09fcad292d', topn=10))"
   ]
  },
  {
   "cell_type": "code",
   "execution_count": 25,
   "metadata": {
    "scrolled": true
   },
   "outputs": [
    {
     "name": "stdout",
     "output_type": "stream",
     "text": [
      "Precision: 0.0029962144602249806\n",
      "Recall: 0.0029981503278964177\n",
      "F1-Score: 0.0018891710585001293\n",
      "3130\n"
     ]
    }
   ],
   "source": [
    "precision = 0\n",
    "recall = 0\n",
    "f1Score = 0\n",
    "count = 0\n",
    "for index, row in df_train.iterrows():\n",
    "        actual = df_test['Project ID'][df_test['Donor ID'] == row['Donor ID']]\n",
    "        recommendedProjects = recommend_projects(G,row['Donor ID'], topn=5)\n",
    "        \n",
    "        if (recommendedProjects == None or len(recommendedProjects) == 0):\n",
    "            continue\n",
    "        predicted = list(recommendedProjects)\n",
    "        #print(row['Donor ID'])\n",
    "        ev = Evaluator(gold_terms=set(actual), pred_terms=set(predicted))\n",
    "        count = count +1\n",
    "        precision = precision + ev.precision()\n",
    "        recall = recall + ev.recall()\n",
    "        f1Score = f1Score + ev.f1_score()\n",
    "        \n",
    "print(\"Precision: {}\".format(precision/count))\n",
    "print(\"Recall: {}\".format(recall/count))\n",
    "print(\"F1-Score: {}\".format(f1Score/count))\n",
    "print(count)"
   ]
  }
 ],
 "metadata": {
  "kernelspec": {
   "display_name": "Python 3",
   "language": "python",
   "name": "python3"
  },
  "language_info": {
   "codemirror_mode": {
    "name": "ipython",
    "version": 3
   },
   "file_extension": ".py",
   "mimetype": "text/x-python",
   "name": "python",
   "nbconvert_exporter": "python",
   "pygments_lexer": "ipython3",
   "version": "3.7.0"
  }
 },
 "nbformat": 4,
 "nbformat_minor": 2
}
