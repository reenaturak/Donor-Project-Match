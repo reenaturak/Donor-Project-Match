{
  "nbformat": 4,
  "nbformat_minor": 0,
  "metadata": {
    "colab": {
      "name": "post_conversation.ipynb",
      "provenance": [],
      "collapsed_sections": [
        "9n5lCtqHN7e1",
        "gsveNB5ruRf_",
        "k2Ww-qX8ZWMd",
        "HLWXkg_vvU7J"
      ],
      "authorship_tag": "ABX9TyNKW8avok+5/V1pYn8USByK",
      "include_colab_link": true
    },
    "kernelspec": {
      "name": "python3",
      "display_name": "Python 3"
    },
    "language_info": {
      "name": "python"
    }
  },
  "cells": [
    {
      "cell_type": "markdown",
      "metadata": {
        "id": "view-in-github",
        "colab_type": "text"
      },
      "source": [
        "<a href=\"https://colab.research.google.com/github/reenaturak/Donor_Project_Match/blob/master/post_conversation.ipynb\" target=\"_parent\"><img src=\"https://colab.research.google.com/assets/colab-badge.svg\" alt=\"Open In Colab\"/></a>"
      ]
    },
    {
      "cell_type": "markdown",
      "source": [
        "## Mount google drive and import reqiured libs\n"
      ],
      "metadata": {
        "id": "9n5lCtqHN7e1"
      }
    },
    {
      "cell_type": "code",
      "metadata": {
        "id": "8MMjp66hfAZ6",
        "colab": {
          "base_uri": "https://localhost:8080/"
        },
        "outputId": "a5494035-ab28-4f19-d958-53517a8f343f"
      },
      "source": [
        "from google.colab import drive\n",
        "drive.mount('/content/drive')\n",
        "drive.mount(\"/content/drive\", force_remount=True)"
      ],
      "execution_count": 1,
      "outputs": [
        {
          "output_type": "stream",
          "name": "stdout",
          "text": [
            "Drive already mounted at /content/drive; to attempt to forcibly remount, call drive.mount(\"/content/drive\", force_remount=True).\n",
            "Mounted at /content/drive\n"
          ]
        }
      ]
    },
    {
      "cell_type": "code",
      "metadata": {
        "id": "oQQ7AgevfGlD"
      },
      "source": [
        "import pandas as pd\n",
        "import numpy as np\n",
        "import math\n",
        "import warnings\n",
        "\n",
        "#from pandas_profiling import ProfileReport\n",
        "\n",
        "warnings.filterwarnings(\"ignore\")"
      ],
      "execution_count": 2,
      "outputs": []
    },
    {
      "cell_type": "code",
      "metadata": {
        "id": "unO0alAKE1xc"
      },
      "source": [
        "pd.options.display.max_rows = 5000\n",
        "pd.options.display.max_columns = 5000"
      ],
      "execution_count": 3,
      "outputs": []
    },
    {
      "cell_type": "code",
      "source": [
        "#!pip3 install pandas_profiling --upgrade"
      ],
      "metadata": {
        "id": "5uQoovBHGqG7"
      },
      "execution_count": 4,
      "outputs": []
    },
    {
      "cell_type": "markdown",
      "source": [
        "## Read CSV"
      ],
      "metadata": {
        "id": "JCRvDLS7va4x"
      }
    },
    {
      "cell_type": "code",
      "source": [
        "# Evertrue\n",
        "input_df = pd.read_csv(\"/content/drive/MyDrive/prospecting_model/EverTrue_data/2022-06-24 Post-Engagement Aggregate.csv\")\n",
        "activities_df = pd.read_csv(\"/content/drive/MyDrive/prospecting_model/EverTrue_data/2022-06-24 Post-Engagement Activities.csv\")\n",
        "\n",
        "# Alice\n",
        "# input_df = pd.read_csv(\"/content/drive/MyDrive/prospecting_model/Alice_data/2022-06-27 ALICE Post-Engagement Aggregate.csv\")\n",
        "# activities_df = pd.read_csv(\"/content/drive/MyDrive/prospecting_model/Alice_data/2022-06-27 ALICE Post-Engagement Activities.csv\")\n"
      ],
      "metadata": {
        "id": "1KTyeYoBvacp"
      },
      "execution_count": 5,
      "outputs": []
    },
    {
      "cell_type": "code",
      "source": [
        "activities_df.head()"
      ],
      "metadata": {
        "colab": {
          "base_uri": "https://localhost:8080/",
          "height": 357
        },
        "id": "w5L13Thlvb1Q",
        "outputId": "39602500-c142-466e-a70c-5769f8a05260"
      },
      "execution_count": 6,
      "outputs": [
        {
          "output_type": "execute_result",
          "data": {
            "text/plain": [
              "   account_id  account_owner     account_create_date  account_is_successful  \\\n",
              "0      652637        34792.0  2017-11-27 13:31:48+00                   True   \n",
              "1      652637        34792.0  2017-11-27 13:31:48+00                   True   \n",
              "2      652637        34792.0  2017-11-27 13:31:48+00                   True   \n",
              "3      652637        34792.0  2017-11-27 13:31:48+00                   True   \n",
              "4      652637        34792.0  2017-11-27 13:31:48+00                   True   \n",
              "\n",
              "   contact_id  pre_engagement_successful  post_engagement_successful  \\\n",
              "0    61550476                       True                        True   \n",
              "1    61550476                       True                        True   \n",
              "2    61550476                       True                        True   \n",
              "3    61550476                       True                        True   \n",
              "4    61550476                       True                        True   \n",
              "\n",
              "           first_activity        first_connection         opp_create_date  \\\n",
              "0  2021-04-30 19:23:34+00  2021-05-05 21:19:24+00  2021-05-06 15:28:23+00   \n",
              "1  2021-04-30 19:23:34+00  2021-05-05 21:19:24+00  2021-05-06 15:28:23+00   \n",
              "2  2021-04-30 19:23:34+00  2021-05-05 21:19:24+00  2021-05-06 15:28:23+00   \n",
              "3  2021-04-30 19:23:34+00  2021-05-05 21:19:24+00  2021-05-06 15:28:23+00   \n",
              "4  2021-04-30 19:23:34+00  2021-05-05 21:19:24+00  2021-05-06 15:28:23+00   \n",
              "\n",
              "  final_prospecting_activity    prospecting_end_date  activity_id  \\\n",
              "0     2021-05-06 15:35:00+00  2021-05-06 15:37:50+00     46739311   \n",
              "1     2021-05-06 15:35:00+00  2021-05-06 15:37:50+00     46808897   \n",
              "2     2021-05-06 15:35:00+00  2021-05-06 15:37:50+00     46813131   \n",
              "3     2021-05-06 15:35:00+00  2021-05-06 15:37:50+00     46811761   \n",
              "4     2021-05-06 15:35:00+00  2021-05-06 15:37:50+00     46813133   \n",
              "\n",
              "                sf_id           activity_date  activity_owner  icon  \\\n",
              "0  00T1Q00005ncNqZUAU  2021-05-05 21:19:24+00           86089  mail   \n",
              "1  00T1Q00005ncnDhUAI  2021-05-06 14:46:32+00           86089  mail   \n",
              "2  00T1Q00005ncoLtUAI  2021-05-06 15:24:33+00           86089  mail   \n",
              "3  00T1Q00005ncphwUAA  2021-05-06 15:32:57+00         1079381  mail   \n",
              "4  00T1Q00005ncpY3UAI  2021-05-06 15:33:36+00           86089  mail   \n",
              "\n",
              "   flesch_reading_ease  flesch_kincaid_grade  word_count direction  \\\n",
              "0                78.59                   6.8        36.0   inbound   \n",
              "1                78.59                   6.8        54.0  outbound   \n",
              "2                82.75                   5.2        97.0  outbound   \n",
              "3                94.15                   2.9        11.0   inbound   \n",
              "4                62.34                   6.8         9.0   inbound   \n",
              "\n",
              "                     tag_name is_connection  pre_engagement  cycle_start  \\\n",
              "0                {interested}          True           False        False   \n",
              "1                  {followup}         False           False        False   \n",
              "2  {followup,templated_email}         False           False        False   \n",
              "3                {interested}          True           False        False   \n",
              "4                         NaN          True           False        False   \n",
              "\n",
              "  is_response prev_contact_activity_date prev_contact_rep_activity_date  \\\n",
              "0       False     2021-05-05 20:44:21+00         2021-05-05 20:44:21+00   \n",
              "1        True     2021-05-05 21:19:24+00         2021-05-05 21:19:24+00   \n",
              "2       False     2021-05-06 14:46:32+00         2021-05-06 14:46:32+00   \n",
              "3       False     2021-05-06 15:24:33+00                            NaN   \n",
              "4       False     2021-05-06 15:32:57+00         2021-05-06 15:24:33+00   \n",
              "\n",
              "   time_since_last big_activity_gap  \n",
              "0         0.024340            False  \n",
              "1         0.727176            False  \n",
              "2         0.026400            False  \n",
              "3              NaN              NaN  \n",
              "4         0.006285            False  "
            ],
            "text/html": [
              "\n",
              "  <div id=\"df-0f61b18c-7a7b-4521-a579-fae46ffe250a\">\n",
              "    <div class=\"colab-df-container\">\n",
              "      <div>\n",
              "<style scoped>\n",
              "    .dataframe tbody tr th:only-of-type {\n",
              "        vertical-align: middle;\n",
              "    }\n",
              "\n",
              "    .dataframe tbody tr th {\n",
              "        vertical-align: top;\n",
              "    }\n",
              "\n",
              "    .dataframe thead th {\n",
              "        text-align: right;\n",
              "    }\n",
              "</style>\n",
              "<table border=\"1\" class=\"dataframe\">\n",
              "  <thead>\n",
              "    <tr style=\"text-align: right;\">\n",
              "      <th></th>\n",
              "      <th>account_id</th>\n",
              "      <th>account_owner</th>\n",
              "      <th>account_create_date</th>\n",
              "      <th>account_is_successful</th>\n",
              "      <th>contact_id</th>\n",
              "      <th>pre_engagement_successful</th>\n",
              "      <th>post_engagement_successful</th>\n",
              "      <th>first_activity</th>\n",
              "      <th>first_connection</th>\n",
              "      <th>opp_create_date</th>\n",
              "      <th>final_prospecting_activity</th>\n",
              "      <th>prospecting_end_date</th>\n",
              "      <th>activity_id</th>\n",
              "      <th>sf_id</th>\n",
              "      <th>activity_date</th>\n",
              "      <th>activity_owner</th>\n",
              "      <th>icon</th>\n",
              "      <th>flesch_reading_ease</th>\n",
              "      <th>flesch_kincaid_grade</th>\n",
              "      <th>word_count</th>\n",
              "      <th>direction</th>\n",
              "      <th>tag_name</th>\n",
              "      <th>is_connection</th>\n",
              "      <th>pre_engagement</th>\n",
              "      <th>cycle_start</th>\n",
              "      <th>is_response</th>\n",
              "      <th>prev_contact_activity_date</th>\n",
              "      <th>prev_contact_rep_activity_date</th>\n",
              "      <th>time_since_last</th>\n",
              "      <th>big_activity_gap</th>\n",
              "    </tr>\n",
              "  </thead>\n",
              "  <tbody>\n",
              "    <tr>\n",
              "      <th>0</th>\n",
              "      <td>652637</td>\n",
              "      <td>34792.0</td>\n",
              "      <td>2017-11-27 13:31:48+00</td>\n",
              "      <td>True</td>\n",
              "      <td>61550476</td>\n",
              "      <td>True</td>\n",
              "      <td>True</td>\n",
              "      <td>2021-04-30 19:23:34+00</td>\n",
              "      <td>2021-05-05 21:19:24+00</td>\n",
              "      <td>2021-05-06 15:28:23+00</td>\n",
              "      <td>2021-05-06 15:35:00+00</td>\n",
              "      <td>2021-05-06 15:37:50+00</td>\n",
              "      <td>46739311</td>\n",
              "      <td>00T1Q00005ncNqZUAU</td>\n",
              "      <td>2021-05-05 21:19:24+00</td>\n",
              "      <td>86089</td>\n",
              "      <td>mail</td>\n",
              "      <td>78.59</td>\n",
              "      <td>6.8</td>\n",
              "      <td>36.0</td>\n",
              "      <td>inbound</td>\n",
              "      <td>{interested}</td>\n",
              "      <td>True</td>\n",
              "      <td>False</td>\n",
              "      <td>False</td>\n",
              "      <td>False</td>\n",
              "      <td>2021-05-05 20:44:21+00</td>\n",
              "      <td>2021-05-05 20:44:21+00</td>\n",
              "      <td>0.024340</td>\n",
              "      <td>False</td>\n",
              "    </tr>\n",
              "    <tr>\n",
              "      <th>1</th>\n",
              "      <td>652637</td>\n",
              "      <td>34792.0</td>\n",
              "      <td>2017-11-27 13:31:48+00</td>\n",
              "      <td>True</td>\n",
              "      <td>61550476</td>\n",
              "      <td>True</td>\n",
              "      <td>True</td>\n",
              "      <td>2021-04-30 19:23:34+00</td>\n",
              "      <td>2021-05-05 21:19:24+00</td>\n",
              "      <td>2021-05-06 15:28:23+00</td>\n",
              "      <td>2021-05-06 15:35:00+00</td>\n",
              "      <td>2021-05-06 15:37:50+00</td>\n",
              "      <td>46808897</td>\n",
              "      <td>00T1Q00005ncnDhUAI</td>\n",
              "      <td>2021-05-06 14:46:32+00</td>\n",
              "      <td>86089</td>\n",
              "      <td>mail</td>\n",
              "      <td>78.59</td>\n",
              "      <td>6.8</td>\n",
              "      <td>54.0</td>\n",
              "      <td>outbound</td>\n",
              "      <td>{followup}</td>\n",
              "      <td>False</td>\n",
              "      <td>False</td>\n",
              "      <td>False</td>\n",
              "      <td>True</td>\n",
              "      <td>2021-05-05 21:19:24+00</td>\n",
              "      <td>2021-05-05 21:19:24+00</td>\n",
              "      <td>0.727176</td>\n",
              "      <td>False</td>\n",
              "    </tr>\n",
              "    <tr>\n",
              "      <th>2</th>\n",
              "      <td>652637</td>\n",
              "      <td>34792.0</td>\n",
              "      <td>2017-11-27 13:31:48+00</td>\n",
              "      <td>True</td>\n",
              "      <td>61550476</td>\n",
              "      <td>True</td>\n",
              "      <td>True</td>\n",
              "      <td>2021-04-30 19:23:34+00</td>\n",
              "      <td>2021-05-05 21:19:24+00</td>\n",
              "      <td>2021-05-06 15:28:23+00</td>\n",
              "      <td>2021-05-06 15:35:00+00</td>\n",
              "      <td>2021-05-06 15:37:50+00</td>\n",
              "      <td>46813131</td>\n",
              "      <td>00T1Q00005ncoLtUAI</td>\n",
              "      <td>2021-05-06 15:24:33+00</td>\n",
              "      <td>86089</td>\n",
              "      <td>mail</td>\n",
              "      <td>82.75</td>\n",
              "      <td>5.2</td>\n",
              "      <td>97.0</td>\n",
              "      <td>outbound</td>\n",
              "      <td>{followup,templated_email}</td>\n",
              "      <td>False</td>\n",
              "      <td>False</td>\n",
              "      <td>False</td>\n",
              "      <td>False</td>\n",
              "      <td>2021-05-06 14:46:32+00</td>\n",
              "      <td>2021-05-06 14:46:32+00</td>\n",
              "      <td>0.026400</td>\n",
              "      <td>False</td>\n",
              "    </tr>\n",
              "    <tr>\n",
              "      <th>3</th>\n",
              "      <td>652637</td>\n",
              "      <td>34792.0</td>\n",
              "      <td>2017-11-27 13:31:48+00</td>\n",
              "      <td>True</td>\n",
              "      <td>61550476</td>\n",
              "      <td>True</td>\n",
              "      <td>True</td>\n",
              "      <td>2021-04-30 19:23:34+00</td>\n",
              "      <td>2021-05-05 21:19:24+00</td>\n",
              "      <td>2021-05-06 15:28:23+00</td>\n",
              "      <td>2021-05-06 15:35:00+00</td>\n",
              "      <td>2021-05-06 15:37:50+00</td>\n",
              "      <td>46811761</td>\n",
              "      <td>00T1Q00005ncphwUAA</td>\n",
              "      <td>2021-05-06 15:32:57+00</td>\n",
              "      <td>1079381</td>\n",
              "      <td>mail</td>\n",
              "      <td>94.15</td>\n",
              "      <td>2.9</td>\n",
              "      <td>11.0</td>\n",
              "      <td>inbound</td>\n",
              "      <td>{interested}</td>\n",
              "      <td>True</td>\n",
              "      <td>False</td>\n",
              "      <td>False</td>\n",
              "      <td>False</td>\n",
              "      <td>2021-05-06 15:24:33+00</td>\n",
              "      <td>NaN</td>\n",
              "      <td>NaN</td>\n",
              "      <td>NaN</td>\n",
              "    </tr>\n",
              "    <tr>\n",
              "      <th>4</th>\n",
              "      <td>652637</td>\n",
              "      <td>34792.0</td>\n",
              "      <td>2017-11-27 13:31:48+00</td>\n",
              "      <td>True</td>\n",
              "      <td>61550476</td>\n",
              "      <td>True</td>\n",
              "      <td>True</td>\n",
              "      <td>2021-04-30 19:23:34+00</td>\n",
              "      <td>2021-05-05 21:19:24+00</td>\n",
              "      <td>2021-05-06 15:28:23+00</td>\n",
              "      <td>2021-05-06 15:35:00+00</td>\n",
              "      <td>2021-05-06 15:37:50+00</td>\n",
              "      <td>46813133</td>\n",
              "      <td>00T1Q00005ncpY3UAI</td>\n",
              "      <td>2021-05-06 15:33:36+00</td>\n",
              "      <td>86089</td>\n",
              "      <td>mail</td>\n",
              "      <td>62.34</td>\n",
              "      <td>6.8</td>\n",
              "      <td>9.0</td>\n",
              "      <td>inbound</td>\n",
              "      <td>NaN</td>\n",
              "      <td>True</td>\n",
              "      <td>False</td>\n",
              "      <td>False</td>\n",
              "      <td>False</td>\n",
              "      <td>2021-05-06 15:32:57+00</td>\n",
              "      <td>2021-05-06 15:24:33+00</td>\n",
              "      <td>0.006285</td>\n",
              "      <td>False</td>\n",
              "    </tr>\n",
              "  </tbody>\n",
              "</table>\n",
              "</div>\n",
              "      <button class=\"colab-df-convert\" onclick=\"convertToInteractive('df-0f61b18c-7a7b-4521-a579-fae46ffe250a')\"\n",
              "              title=\"Convert this dataframe to an interactive table.\"\n",
              "              style=\"display:none;\">\n",
              "        \n",
              "  <svg xmlns=\"http://www.w3.org/2000/svg\" height=\"24px\"viewBox=\"0 0 24 24\"\n",
              "       width=\"24px\">\n",
              "    <path d=\"M0 0h24v24H0V0z\" fill=\"none\"/>\n",
              "    <path d=\"M18.56 5.44l.94 2.06.94-2.06 2.06-.94-2.06-.94-.94-2.06-.94 2.06-2.06.94zm-11 1L8.5 8.5l.94-2.06 2.06-.94-2.06-.94L8.5 2.5l-.94 2.06-2.06.94zm10 10l.94 2.06.94-2.06 2.06-.94-2.06-.94-.94-2.06-.94 2.06-2.06.94z\"/><path d=\"M17.41 7.96l-1.37-1.37c-.4-.4-.92-.59-1.43-.59-.52 0-1.04.2-1.43.59L10.3 9.45l-7.72 7.72c-.78.78-.78 2.05 0 2.83L4 21.41c.39.39.9.59 1.41.59.51 0 1.02-.2 1.41-.59l7.78-7.78 2.81-2.81c.8-.78.8-2.07 0-2.86zM5.41 20L4 18.59l7.72-7.72 1.47 1.35L5.41 20z\"/>\n",
              "  </svg>\n",
              "      </button>\n",
              "      \n",
              "  <style>\n",
              "    .colab-df-container {\n",
              "      display:flex;\n",
              "      flex-wrap:wrap;\n",
              "      gap: 12px;\n",
              "    }\n",
              "\n",
              "    .colab-df-convert {\n",
              "      background-color: #E8F0FE;\n",
              "      border: none;\n",
              "      border-radius: 50%;\n",
              "      cursor: pointer;\n",
              "      display: none;\n",
              "      fill: #1967D2;\n",
              "      height: 32px;\n",
              "      padding: 0 0 0 0;\n",
              "      width: 32px;\n",
              "    }\n",
              "\n",
              "    .colab-df-convert:hover {\n",
              "      background-color: #E2EBFA;\n",
              "      box-shadow: 0px 1px 2px rgba(60, 64, 67, 0.3), 0px 1px 3px 1px rgba(60, 64, 67, 0.15);\n",
              "      fill: #174EA6;\n",
              "    }\n",
              "\n",
              "    [theme=dark] .colab-df-convert {\n",
              "      background-color: #3B4455;\n",
              "      fill: #D2E3FC;\n",
              "    }\n",
              "\n",
              "    [theme=dark] .colab-df-convert:hover {\n",
              "      background-color: #434B5C;\n",
              "      box-shadow: 0px 1px 3px 1px rgba(0, 0, 0, 0.15);\n",
              "      filter: drop-shadow(0px 1px 2px rgba(0, 0, 0, 0.3));\n",
              "      fill: #FFFFFF;\n",
              "    }\n",
              "  </style>\n",
              "\n",
              "      <script>\n",
              "        const buttonEl =\n",
              "          document.querySelector('#df-0f61b18c-7a7b-4521-a579-fae46ffe250a button.colab-df-convert');\n",
              "        buttonEl.style.display =\n",
              "          google.colab.kernel.accessAllowed ? 'block' : 'none';\n",
              "\n",
              "        async function convertToInteractive(key) {\n",
              "          const element = document.querySelector('#df-0f61b18c-7a7b-4521-a579-fae46ffe250a');\n",
              "          const dataTable =\n",
              "            await google.colab.kernel.invokeFunction('convertToInteractive',\n",
              "                                                     [key], {});\n",
              "          if (!dataTable) return;\n",
              "\n",
              "          const docLinkHtml = 'Like what you see? Visit the ' +\n",
              "            '<a target=\"_blank\" href=https://colab.research.google.com/notebooks/data_table.ipynb>data table notebook</a>'\n",
              "            + ' to learn more about interactive tables.';\n",
              "          element.innerHTML = '';\n",
              "          dataTable['output_type'] = 'display_data';\n",
              "          await google.colab.output.renderOutput(dataTable, element);\n",
              "          const docLink = document.createElement('div');\n",
              "          docLink.innerHTML = docLinkHtml;\n",
              "          element.appendChild(docLink);\n",
              "        }\n",
              "      </script>\n",
              "    </div>\n",
              "  </div>\n",
              "  "
            ]
          },
          "metadata": {},
          "execution_count": 6
        }
      ]
    },
    {
      "cell_type": "code",
      "source": [
        "input_df.shape"
      ],
      "metadata": {
        "colab": {
          "base_uri": "https://localhost:8080/"
        },
        "id": "MV-7i4lb6zxx",
        "outputId": "64f3e451-0025-485e-cbaa-998f02319228"
      },
      "execution_count": 7,
      "outputs": [
        {
          "output_type": "execute_result",
          "data": {
            "text/plain": [
              "(624, 37)"
            ]
          },
          "metadata": {},
          "execution_count": 7
        }
      ]
    },
    {
      "cell_type": "code",
      "source": [
        "input_df.tail()"
      ],
      "metadata": {
        "id": "PoHu2lna6wnk",
        "colab": {
          "base_uri": "https://localhost:8080/",
          "height": 357
        },
        "outputId": "cf1937a6-a384-4a36-b86d-75ce2d59324d"
      },
      "execution_count": 8,
      "outputs": [
        {
          "output_type": "execute_result",
          "data": {
            "text/plain": [
              "     account_id  account_is_successful  contact_id  pre_engagement_successful  \\\n",
              "619    88185836                  False   140632349                       True   \n",
              "620    88186436                   True   140633159                       True   \n",
              "621    88186446                   True   140633170                       True   \n",
              "622    88214845                  False   140648723                       True   \n",
              "623    88216568                   True   140651165                       True   \n",
              "\n",
              "     post_engagement_successful        first_connection  \\\n",
              "619                       False  2022-06-23 12:21:52+00   \n",
              "620                        True  2022-06-22 03:08:16+00   \n",
              "621                        True  2022-06-21 19:24:06+00   \n",
              "622                       False  2022-06-12 18:56:27+00   \n",
              "623                        True  2022-06-23 18:45:00+00   \n",
              "\n",
              "              prospecting_end_date  time_in_post_conversation  avg_word_count  \\\n",
              "619  2022-06-24 16:26:07.734833+00                   1.169627       19.000000   \n",
              "620         2022-06-22 21:42:56+00                   0.774074       36.250000   \n",
              "621         2022-06-22 21:39:21+00                   1.093924      104.000000   \n",
              "622  2022-06-24 16:26:07.734833+00                  11.895610       56.428571   \n",
              "623         2022-06-23 20:27:51+00                   0.071424             NaN   \n",
              "\n",
              "     avg_flesch_kincaid_grade  avg_flesch_reading_ease  contact_count  \\\n",
              "619                  4.600000                73.540001              1   \n",
              "620                  3.075000                88.074999              1   \n",
              "621                  5.139573                81.730003              1   \n",
              "622                  2.399158                94.648572              1   \n",
              "623                       NaN                      NaN              1   \n",
              "\n",
              "     connected_contact_count  activity_count  connection_count  meeting_count  \\\n",
              "619                        1               1                 1              0   \n",
              "620                        1               4                 2              0   \n",
              "621                        1               2                 1              0   \n",
              "622                        1               9                 5              2   \n",
              "623                        1               1                 1              1   \n",
              "\n",
              "     email_count  inbound_count  outbound_count  templated_email_count  \\\n",
              "619            1              1               0                      0   \n",
              "620            4              2               2                      0   \n",
              "621            1              0               1                      0   \n",
              "622            7              3               4                      0   \n",
              "623            0              0               0                      0   \n",
              "\n",
              "     call_count  connected_call_count  linkedin_count  sms_count  \\\n",
              "619           0                     0               0          0   \n",
              "620           0                     0               0          0   \n",
              "621           1                     1               0          0   \n",
              "622           0                     0               0          0   \n",
              "623           0                     0               0          0   \n",
              "\n",
              "     activity_type_count  rep_count  big_gap_count  avg_big_gap  \\\n",
              "619                    1          1              0          NaN   \n",
              "620                    1          1              0          NaN   \n",
              "621                    2          2              0          NaN   \n",
              "622                    2          2              0          NaN   \n",
              "623                    1          1              0          NaN   \n",
              "\n",
              "     activity_velocity  email_velocity  inbound_velocity  outbound_velocity  \\\n",
              "619           0.854974        0.854974          0.854974           0.000000   \n",
              "620           5.167464        4.000000          2.000000           2.000000   \n",
              "621           1.828281        0.914141          0.000000           0.914141   \n",
              "622           0.756582        0.588452          0.252194           0.336258   \n",
              "623          14.000972        0.000000          0.000000           0.000000   \n",
              "\n",
              "     call_velocity  calendar_velocity  connection_velocity  avg_followup  \\\n",
              "619       0.000000           0.000000             0.854974           NaN   \n",
              "620       0.000000           0.000000             2.000000           NaN   \n",
              "621       0.914141           0.000000             0.914141           NaN   \n",
              "622       0.000000           0.168129             0.420323      0.008079   \n",
              "623       0.000000           1.000000             1.000000           NaN   \n",
              "\n",
              "      avg_ttr  \n",
              "619       NaN  \n",
              "620  0.296088  \n",
              "621       NaN  \n",
              "622  0.387477  \n",
              "623       NaN  "
            ],
            "text/html": [
              "\n",
              "  <div id=\"df-647e6858-9f24-4479-85de-391848a63b12\">\n",
              "    <div class=\"colab-df-container\">\n",
              "      <div>\n",
              "<style scoped>\n",
              "    .dataframe tbody tr th:only-of-type {\n",
              "        vertical-align: middle;\n",
              "    }\n",
              "\n",
              "    .dataframe tbody tr th {\n",
              "        vertical-align: top;\n",
              "    }\n",
              "\n",
              "    .dataframe thead th {\n",
              "        text-align: right;\n",
              "    }\n",
              "</style>\n",
              "<table border=\"1\" class=\"dataframe\">\n",
              "  <thead>\n",
              "    <tr style=\"text-align: right;\">\n",
              "      <th></th>\n",
              "      <th>account_id</th>\n",
              "      <th>account_is_successful</th>\n",
              "      <th>contact_id</th>\n",
              "      <th>pre_engagement_successful</th>\n",
              "      <th>post_engagement_successful</th>\n",
              "      <th>first_connection</th>\n",
              "      <th>prospecting_end_date</th>\n",
              "      <th>time_in_post_conversation</th>\n",
              "      <th>avg_word_count</th>\n",
              "      <th>avg_flesch_kincaid_grade</th>\n",
              "      <th>avg_flesch_reading_ease</th>\n",
              "      <th>contact_count</th>\n",
              "      <th>connected_contact_count</th>\n",
              "      <th>activity_count</th>\n",
              "      <th>connection_count</th>\n",
              "      <th>meeting_count</th>\n",
              "      <th>email_count</th>\n",
              "      <th>inbound_count</th>\n",
              "      <th>outbound_count</th>\n",
              "      <th>templated_email_count</th>\n",
              "      <th>call_count</th>\n",
              "      <th>connected_call_count</th>\n",
              "      <th>linkedin_count</th>\n",
              "      <th>sms_count</th>\n",
              "      <th>activity_type_count</th>\n",
              "      <th>rep_count</th>\n",
              "      <th>big_gap_count</th>\n",
              "      <th>avg_big_gap</th>\n",
              "      <th>activity_velocity</th>\n",
              "      <th>email_velocity</th>\n",
              "      <th>inbound_velocity</th>\n",
              "      <th>outbound_velocity</th>\n",
              "      <th>call_velocity</th>\n",
              "      <th>calendar_velocity</th>\n",
              "      <th>connection_velocity</th>\n",
              "      <th>avg_followup</th>\n",
              "      <th>avg_ttr</th>\n",
              "    </tr>\n",
              "  </thead>\n",
              "  <tbody>\n",
              "    <tr>\n",
              "      <th>619</th>\n",
              "      <td>88185836</td>\n",
              "      <td>False</td>\n",
              "      <td>140632349</td>\n",
              "      <td>True</td>\n",
              "      <td>False</td>\n",
              "      <td>2022-06-23 12:21:52+00</td>\n",
              "      <td>2022-06-24 16:26:07.734833+00</td>\n",
              "      <td>1.169627</td>\n",
              "      <td>19.000000</td>\n",
              "      <td>4.600000</td>\n",
              "      <td>73.540001</td>\n",
              "      <td>1</td>\n",
              "      <td>1</td>\n",
              "      <td>1</td>\n",
              "      <td>1</td>\n",
              "      <td>0</td>\n",
              "      <td>1</td>\n",
              "      <td>1</td>\n",
              "      <td>0</td>\n",
              "      <td>0</td>\n",
              "      <td>0</td>\n",
              "      <td>0</td>\n",
              "      <td>0</td>\n",
              "      <td>0</td>\n",
              "      <td>1</td>\n",
              "      <td>1</td>\n",
              "      <td>0</td>\n",
              "      <td>NaN</td>\n",
              "      <td>0.854974</td>\n",
              "      <td>0.854974</td>\n",
              "      <td>0.854974</td>\n",
              "      <td>0.000000</td>\n",
              "      <td>0.000000</td>\n",
              "      <td>0.000000</td>\n",
              "      <td>0.854974</td>\n",
              "      <td>NaN</td>\n",
              "      <td>NaN</td>\n",
              "    </tr>\n",
              "    <tr>\n",
              "      <th>620</th>\n",
              "      <td>88186436</td>\n",
              "      <td>True</td>\n",
              "      <td>140633159</td>\n",
              "      <td>True</td>\n",
              "      <td>True</td>\n",
              "      <td>2022-06-22 03:08:16+00</td>\n",
              "      <td>2022-06-22 21:42:56+00</td>\n",
              "      <td>0.774074</td>\n",
              "      <td>36.250000</td>\n",
              "      <td>3.075000</td>\n",
              "      <td>88.074999</td>\n",
              "      <td>1</td>\n",
              "      <td>1</td>\n",
              "      <td>4</td>\n",
              "      <td>2</td>\n",
              "      <td>0</td>\n",
              "      <td>4</td>\n",
              "      <td>2</td>\n",
              "      <td>2</td>\n",
              "      <td>0</td>\n",
              "      <td>0</td>\n",
              "      <td>0</td>\n",
              "      <td>0</td>\n",
              "      <td>0</td>\n",
              "      <td>1</td>\n",
              "      <td>1</td>\n",
              "      <td>0</td>\n",
              "      <td>NaN</td>\n",
              "      <td>5.167464</td>\n",
              "      <td>4.000000</td>\n",
              "      <td>2.000000</td>\n",
              "      <td>2.000000</td>\n",
              "      <td>0.000000</td>\n",
              "      <td>0.000000</td>\n",
              "      <td>2.000000</td>\n",
              "      <td>NaN</td>\n",
              "      <td>0.296088</td>\n",
              "    </tr>\n",
              "    <tr>\n",
              "      <th>621</th>\n",
              "      <td>88186446</td>\n",
              "      <td>True</td>\n",
              "      <td>140633170</td>\n",
              "      <td>True</td>\n",
              "      <td>True</td>\n",
              "      <td>2022-06-21 19:24:06+00</td>\n",
              "      <td>2022-06-22 21:39:21+00</td>\n",
              "      <td>1.093924</td>\n",
              "      <td>104.000000</td>\n",
              "      <td>5.139573</td>\n",
              "      <td>81.730003</td>\n",
              "      <td>1</td>\n",
              "      <td>1</td>\n",
              "      <td>2</td>\n",
              "      <td>1</td>\n",
              "      <td>0</td>\n",
              "      <td>1</td>\n",
              "      <td>0</td>\n",
              "      <td>1</td>\n",
              "      <td>0</td>\n",
              "      <td>1</td>\n",
              "      <td>1</td>\n",
              "      <td>0</td>\n",
              "      <td>0</td>\n",
              "      <td>2</td>\n",
              "      <td>2</td>\n",
              "      <td>0</td>\n",
              "      <td>NaN</td>\n",
              "      <td>1.828281</td>\n",
              "      <td>0.914141</td>\n",
              "      <td>0.000000</td>\n",
              "      <td>0.914141</td>\n",
              "      <td>0.914141</td>\n",
              "      <td>0.000000</td>\n",
              "      <td>0.914141</td>\n",
              "      <td>NaN</td>\n",
              "      <td>NaN</td>\n",
              "    </tr>\n",
              "    <tr>\n",
              "      <th>622</th>\n",
              "      <td>88214845</td>\n",
              "      <td>False</td>\n",
              "      <td>140648723</td>\n",
              "      <td>True</td>\n",
              "      <td>False</td>\n",
              "      <td>2022-06-12 18:56:27+00</td>\n",
              "      <td>2022-06-24 16:26:07.734833+00</td>\n",
              "      <td>11.895610</td>\n",
              "      <td>56.428571</td>\n",
              "      <td>2.399158</td>\n",
              "      <td>94.648572</td>\n",
              "      <td>1</td>\n",
              "      <td>1</td>\n",
              "      <td>9</td>\n",
              "      <td>5</td>\n",
              "      <td>2</td>\n",
              "      <td>7</td>\n",
              "      <td>3</td>\n",
              "      <td>4</td>\n",
              "      <td>0</td>\n",
              "      <td>0</td>\n",
              "      <td>0</td>\n",
              "      <td>0</td>\n",
              "      <td>0</td>\n",
              "      <td>2</td>\n",
              "      <td>2</td>\n",
              "      <td>0</td>\n",
              "      <td>NaN</td>\n",
              "      <td>0.756582</td>\n",
              "      <td>0.588452</td>\n",
              "      <td>0.252194</td>\n",
              "      <td>0.336258</td>\n",
              "      <td>0.000000</td>\n",
              "      <td>0.168129</td>\n",
              "      <td>0.420323</td>\n",
              "      <td>0.008079</td>\n",
              "      <td>0.387477</td>\n",
              "    </tr>\n",
              "    <tr>\n",
              "      <th>623</th>\n",
              "      <td>88216568</td>\n",
              "      <td>True</td>\n",
              "      <td>140651165</td>\n",
              "      <td>True</td>\n",
              "      <td>True</td>\n",
              "      <td>2022-06-23 18:45:00+00</td>\n",
              "      <td>2022-06-23 20:27:51+00</td>\n",
              "      <td>0.071424</td>\n",
              "      <td>NaN</td>\n",
              "      <td>NaN</td>\n",
              "      <td>NaN</td>\n",
              "      <td>1</td>\n",
              "      <td>1</td>\n",
              "      <td>1</td>\n",
              "      <td>1</td>\n",
              "      <td>1</td>\n",
              "      <td>0</td>\n",
              "      <td>0</td>\n",
              "      <td>0</td>\n",
              "      <td>0</td>\n",
              "      <td>0</td>\n",
              "      <td>0</td>\n",
              "      <td>0</td>\n",
              "      <td>0</td>\n",
              "      <td>1</td>\n",
              "      <td>1</td>\n",
              "      <td>0</td>\n",
              "      <td>NaN</td>\n",
              "      <td>14.000972</td>\n",
              "      <td>0.000000</td>\n",
              "      <td>0.000000</td>\n",
              "      <td>0.000000</td>\n",
              "      <td>0.000000</td>\n",
              "      <td>1.000000</td>\n",
              "      <td>1.000000</td>\n",
              "      <td>NaN</td>\n",
              "      <td>NaN</td>\n",
              "    </tr>\n",
              "  </tbody>\n",
              "</table>\n",
              "</div>\n",
              "      <button class=\"colab-df-convert\" onclick=\"convertToInteractive('df-647e6858-9f24-4479-85de-391848a63b12')\"\n",
              "              title=\"Convert this dataframe to an interactive table.\"\n",
              "              style=\"display:none;\">\n",
              "        \n",
              "  <svg xmlns=\"http://www.w3.org/2000/svg\" height=\"24px\"viewBox=\"0 0 24 24\"\n",
              "       width=\"24px\">\n",
              "    <path d=\"M0 0h24v24H0V0z\" fill=\"none\"/>\n",
              "    <path d=\"M18.56 5.44l.94 2.06.94-2.06 2.06-.94-2.06-.94-.94-2.06-.94 2.06-2.06.94zm-11 1L8.5 8.5l.94-2.06 2.06-.94-2.06-.94L8.5 2.5l-.94 2.06-2.06.94zm10 10l.94 2.06.94-2.06 2.06-.94-2.06-.94-.94-2.06-.94 2.06-2.06.94z\"/><path d=\"M17.41 7.96l-1.37-1.37c-.4-.4-.92-.59-1.43-.59-.52 0-1.04.2-1.43.59L10.3 9.45l-7.72 7.72c-.78.78-.78 2.05 0 2.83L4 21.41c.39.39.9.59 1.41.59.51 0 1.02-.2 1.41-.59l7.78-7.78 2.81-2.81c.8-.78.8-2.07 0-2.86zM5.41 20L4 18.59l7.72-7.72 1.47 1.35L5.41 20z\"/>\n",
              "  </svg>\n",
              "      </button>\n",
              "      \n",
              "  <style>\n",
              "    .colab-df-container {\n",
              "      display:flex;\n",
              "      flex-wrap:wrap;\n",
              "      gap: 12px;\n",
              "    }\n",
              "\n",
              "    .colab-df-convert {\n",
              "      background-color: #E8F0FE;\n",
              "      border: none;\n",
              "      border-radius: 50%;\n",
              "      cursor: pointer;\n",
              "      display: none;\n",
              "      fill: #1967D2;\n",
              "      height: 32px;\n",
              "      padding: 0 0 0 0;\n",
              "      width: 32px;\n",
              "    }\n",
              "\n",
              "    .colab-df-convert:hover {\n",
              "      background-color: #E2EBFA;\n",
              "      box-shadow: 0px 1px 2px rgba(60, 64, 67, 0.3), 0px 1px 3px 1px rgba(60, 64, 67, 0.15);\n",
              "      fill: #174EA6;\n",
              "    }\n",
              "\n",
              "    [theme=dark] .colab-df-convert {\n",
              "      background-color: #3B4455;\n",
              "      fill: #D2E3FC;\n",
              "    }\n",
              "\n",
              "    [theme=dark] .colab-df-convert:hover {\n",
              "      background-color: #434B5C;\n",
              "      box-shadow: 0px 1px 3px 1px rgba(0, 0, 0, 0.15);\n",
              "      filter: drop-shadow(0px 1px 2px rgba(0, 0, 0, 0.3));\n",
              "      fill: #FFFFFF;\n",
              "    }\n",
              "  </style>\n",
              "\n",
              "      <script>\n",
              "        const buttonEl =\n",
              "          document.querySelector('#df-647e6858-9f24-4479-85de-391848a63b12 button.colab-df-convert');\n",
              "        buttonEl.style.display =\n",
              "          google.colab.kernel.accessAllowed ? 'block' : 'none';\n",
              "\n",
              "        async function convertToInteractive(key) {\n",
              "          const element = document.querySelector('#df-647e6858-9f24-4479-85de-391848a63b12');\n",
              "          const dataTable =\n",
              "            await google.colab.kernel.invokeFunction('convertToInteractive',\n",
              "                                                     [key], {});\n",
              "          if (!dataTable) return;\n",
              "\n",
              "          const docLinkHtml = 'Like what you see? Visit the ' +\n",
              "            '<a target=\"_blank\" href=https://colab.research.google.com/notebooks/data_table.ipynb>data table notebook</a>'\n",
              "            + ' to learn more about interactive tables.';\n",
              "          element.innerHTML = '';\n",
              "          dataTable['output_type'] = 'display_data';\n",
              "          await google.colab.output.renderOutput(dataTable, element);\n",
              "          const docLink = document.createElement('div');\n",
              "          docLink.innerHTML = docLinkHtml;\n",
              "          element.appendChild(docLink);\n",
              "        }\n",
              "      </script>\n",
              "    </div>\n",
              "  </div>\n",
              "  "
            ]
          },
          "metadata": {},
          "execution_count": 8
        }
      ]
    },
    {
      "cell_type": "code",
      "source": [
        "input_df['contact_id'].nunique()"
      ],
      "metadata": {
        "colab": {
          "base_uri": "https://localhost:8080/"
        },
        "id": "gw08549FW2E6",
        "outputId": "e61d2ccc-9112-4c71-aae3-af74a0f1f545"
      },
      "execution_count": 9,
      "outputs": [
        {
          "output_type": "execute_result",
          "data": {
            "text/plain": [
              "624"
            ]
          },
          "metadata": {},
          "execution_count": 9
        }
      ]
    },
    {
      "cell_type": "code",
      "source": [
        "input_df['post_engagement_successful'].value_counts()"
      ],
      "metadata": {
        "colab": {
          "base_uri": "https://localhost:8080/"
        },
        "id": "Z1vKZSFY1vB2",
        "outputId": "3f790703-2889-49e6-d332-3d6acc885f36"
      },
      "execution_count": 10,
      "outputs": [
        {
          "output_type": "execute_result",
          "data": {
            "text/plain": [
              "True     416\n",
              "False    208\n",
              "Name: post_engagement_successful, dtype: int64"
            ]
          },
          "metadata": {},
          "execution_count": 10
        }
      ]
    },
    {
      "cell_type": "code",
      "source": [
        "additional_metrics =  pd.DataFrame(columns=['metrics_name','sub_classification','partition_type','partition_value','total_count','successful_count','unsuccessful_count'])"
      ],
      "metadata": {
        "id": "XD8IFiqPIn8v"
      },
      "execution_count": 11,
      "outputs": []
    },
    {
      "cell_type": "markdown",
      "source": [
        "## Number of Contacts"
      ],
      "metadata": {
        "id": "gsveNB5ruRf_"
      }
    },
    {
      "cell_type": "code",
      "source": [
        "# Get account level success \n",
        "# Account is successful if any of the contact is post_engagement_successful\n",
        "\n",
        "input_df['post_conversation_account_success'] = input_df.groupby('account_id')['post_engagement_successful'].transform('any')"
      ],
      "metadata": {
        "id": "2rEo-vxTuQUT"
      },
      "execution_count": null,
      "outputs": []
    },
    {
      "cell_type": "code",
      "source": [
        "total_accounts = input_df['account_id'].nunique()"
      ],
      "metadata": {
        "id": "J95OK57LDV6_"
      },
      "execution_count": null,
      "outputs": []
    },
    {
      "cell_type": "code",
      "source": [
        "# Get count of unique contact_id group by account\n",
        "input_contacts_metrics = input_df.groupby(['account_id', 'post_conversation_account_success'])['contact_id'].nunique()\n",
        "\n",
        "input_contacts_metrics_df = input_contacts_metrics.to_frame()\n",
        "input_contacts_metrics_df.reset_index(inplace=True)"
      ],
      "metadata": {
        "id": "wrKLvhcqxkGf"
      },
      "execution_count": null,
      "outputs": []
    },
    {
      "cell_type": "code",
      "source": [
        "# Compute single contact and add to additional_metrics\n",
        "\n",
        "single_contact_df = input_contacts_metrics_df[input_contacts_metrics_df['contact_id']==1]\n",
        "single_contact_count = single_contact_df.shape\n",
        "single_contact_class_count = single_contact_df['post_conversation_account_success'].value_counts()\n",
        "\n",
        "additional_metrics.append({'metrics_name' : 'number_of_contacts', 'sub_classification' : 'single_contact', \n",
        "                           'partition_type' : 'account', 'partition_value' : 'post_conversation',\n",
        "                           'total_count': single_contact_count[0],'successful_count':single_contact_class_count[1] ,\n",
        "                           'unsuccessful_count': single_contact_class_count[0]}, ignore_index = True)"
      ],
      "metadata": {
        "colab": {
          "base_uri": "https://localhost:8080/",
          "height": 81
        },
        "id": "lD2lYFA7wskR",
        "outputId": "3a50de39-a7b1-492e-a84b-06971568af56"
      },
      "execution_count": null,
      "outputs": [
        {
          "output_type": "execute_result",
          "data": {
            "text/plain": [
              "         metrics_name sub_classification partition_type    partition_value  \\\n",
              "0  number_of_contacts     single_contact        account  post_conversation   \n",
              "\n",
              "  total_count successful_count unsuccessful_count  \n",
              "0         575              392                183  "
            ],
            "text/html": [
              "\n",
              "  <div id=\"df-72842294-a50f-4b83-a78f-c23442cccfbb\">\n",
              "    <div class=\"colab-df-container\">\n",
              "      <div>\n",
              "<style scoped>\n",
              "    .dataframe tbody tr th:only-of-type {\n",
              "        vertical-align: middle;\n",
              "    }\n",
              "\n",
              "    .dataframe tbody tr th {\n",
              "        vertical-align: top;\n",
              "    }\n",
              "\n",
              "    .dataframe thead th {\n",
              "        text-align: right;\n",
              "    }\n",
              "</style>\n",
              "<table border=\"1\" class=\"dataframe\">\n",
              "  <thead>\n",
              "    <tr style=\"text-align: right;\">\n",
              "      <th></th>\n",
              "      <th>metrics_name</th>\n",
              "      <th>sub_classification</th>\n",
              "      <th>partition_type</th>\n",
              "      <th>partition_value</th>\n",
              "      <th>total_count</th>\n",
              "      <th>successful_count</th>\n",
              "      <th>unsuccessful_count</th>\n",
              "    </tr>\n",
              "  </thead>\n",
              "  <tbody>\n",
              "    <tr>\n",
              "      <th>0</th>\n",
              "      <td>number_of_contacts</td>\n",
              "      <td>single_contact</td>\n",
              "      <td>account</td>\n",
              "      <td>post_conversation</td>\n",
              "      <td>575</td>\n",
              "      <td>392</td>\n",
              "      <td>183</td>\n",
              "    </tr>\n",
              "  </tbody>\n",
              "</table>\n",
              "</div>\n",
              "      <button class=\"colab-df-convert\" onclick=\"convertToInteractive('df-72842294-a50f-4b83-a78f-c23442cccfbb')\"\n",
              "              title=\"Convert this dataframe to an interactive table.\"\n",
              "              style=\"display:none;\">\n",
              "        \n",
              "  <svg xmlns=\"http://www.w3.org/2000/svg\" height=\"24px\"viewBox=\"0 0 24 24\"\n",
              "       width=\"24px\">\n",
              "    <path d=\"M0 0h24v24H0V0z\" fill=\"none\"/>\n",
              "    <path d=\"M18.56 5.44l.94 2.06.94-2.06 2.06-.94-2.06-.94-.94-2.06-.94 2.06-2.06.94zm-11 1L8.5 8.5l.94-2.06 2.06-.94-2.06-.94L8.5 2.5l-.94 2.06-2.06.94zm10 10l.94 2.06.94-2.06 2.06-.94-2.06-.94-.94-2.06-.94 2.06-2.06.94z\"/><path d=\"M17.41 7.96l-1.37-1.37c-.4-.4-.92-.59-1.43-.59-.52 0-1.04.2-1.43.59L10.3 9.45l-7.72 7.72c-.78.78-.78 2.05 0 2.83L4 21.41c.39.39.9.59 1.41.59.51 0 1.02-.2 1.41-.59l7.78-7.78 2.81-2.81c.8-.78.8-2.07 0-2.86zM5.41 20L4 18.59l7.72-7.72 1.47 1.35L5.41 20z\"/>\n",
              "  </svg>\n",
              "      </button>\n",
              "      \n",
              "  <style>\n",
              "    .colab-df-container {\n",
              "      display:flex;\n",
              "      flex-wrap:wrap;\n",
              "      gap: 12px;\n",
              "    }\n",
              "\n",
              "    .colab-df-convert {\n",
              "      background-color: #E8F0FE;\n",
              "      border: none;\n",
              "      border-radius: 50%;\n",
              "      cursor: pointer;\n",
              "      display: none;\n",
              "      fill: #1967D2;\n",
              "      height: 32px;\n",
              "      padding: 0 0 0 0;\n",
              "      width: 32px;\n",
              "    }\n",
              "\n",
              "    .colab-df-convert:hover {\n",
              "      background-color: #E2EBFA;\n",
              "      box-shadow: 0px 1px 2px rgba(60, 64, 67, 0.3), 0px 1px 3px 1px rgba(60, 64, 67, 0.15);\n",
              "      fill: #174EA6;\n",
              "    }\n",
              "\n",
              "    [theme=dark] .colab-df-convert {\n",
              "      background-color: #3B4455;\n",
              "      fill: #D2E3FC;\n",
              "    }\n",
              "\n",
              "    [theme=dark] .colab-df-convert:hover {\n",
              "      background-color: #434B5C;\n",
              "      box-shadow: 0px 1px 3px 1px rgba(0, 0, 0, 0.15);\n",
              "      filter: drop-shadow(0px 1px 2px rgba(0, 0, 0, 0.3));\n",
              "      fill: #FFFFFF;\n",
              "    }\n",
              "  </style>\n",
              "\n",
              "      <script>\n",
              "        const buttonEl =\n",
              "          document.querySelector('#df-72842294-a50f-4b83-a78f-c23442cccfbb button.colab-df-convert');\n",
              "        buttonEl.style.display =\n",
              "          google.colab.kernel.accessAllowed ? 'block' : 'none';\n",
              "\n",
              "        async function convertToInteractive(key) {\n",
              "          const element = document.querySelector('#df-72842294-a50f-4b83-a78f-c23442cccfbb');\n",
              "          const dataTable =\n",
              "            await google.colab.kernel.invokeFunction('convertToInteractive',\n",
              "                                                     [key], {});\n",
              "          if (!dataTable) return;\n",
              "\n",
              "          const docLinkHtml = 'Like what you see? Visit the ' +\n",
              "            '<a target=\"_blank\" href=https://colab.research.google.com/notebooks/data_table.ipynb>data table notebook</a>'\n",
              "            + ' to learn more about interactive tables.';\n",
              "          element.innerHTML = '';\n",
              "          dataTable['output_type'] = 'display_data';\n",
              "          await google.colab.output.renderOutput(dataTable, element);\n",
              "          const docLink = document.createElement('div');\n",
              "          docLink.innerHTML = docLinkHtml;\n",
              "          element.appendChild(docLink);\n",
              "        }\n",
              "      </script>\n",
              "    </div>\n",
              "  </div>\n",
              "  "
            ]
          },
          "metadata": {},
          "execution_count": 41
        }
      ]
    },
    {
      "cell_type": "code",
      "source": [
        "single_contact_df['post_conversation_account_success'].value_counts()"
      ],
      "metadata": {
        "colab": {
          "base_uri": "https://localhost:8080/"
        },
        "id": "FG8pzB6chtZx",
        "outputId": "0b760a9e-6647-4fcc-f08c-9b48b3dfc741"
      },
      "execution_count": null,
      "outputs": [
        {
          "output_type": "execute_result",
          "data": {
            "text/plain": [
              "True     392\n",
              "False    183\n",
              "Name: post_conversation_account_success, dtype: int64"
            ]
          },
          "metadata": {},
          "execution_count": 42
        }
      ]
    },
    {
      "cell_type": "code",
      "source": [
        "# Compute more than one contact and add to additional_metrics\n",
        "\n",
        "additional_metrics\n",
        "more_than_one_contact_df = input_contacts_metrics_df[input_contacts_metrics_df['contact_id']>1]\n",
        "more_than_one_contact_count = more_than_one_contact_df.shape\n",
        "more_than_one_contact_class_count = more_than_one_contact_df['post_conversation_account_success'].value_counts()\n",
        "\n",
        "additional_metrics.append({'metrics_name' : 'number_of_contacts', 'sub_classification' : 'more_than_one_contact', \n",
        "                           'partition_type' : 'account', 'partition_value' : 'post_conversation',\n",
        "                           'total_count': more_than_one_contact_count[0],'successful_count':more_than_one_contact_class_count[1] ,\n",
        "                           'unsuccessful_count': more_than_one_contact_class_count[0]}, ignore_index = True)"
      ],
      "metadata": {
        "colab": {
          "base_uri": "https://localhost:8080/",
          "height": 81
        },
        "id": "nZsH36c2Ur2i",
        "outputId": "b34546a0-21bf-4181-a312-53055c2cb07b"
      },
      "execution_count": null,
      "outputs": [
        {
          "output_type": "execute_result",
          "data": {
            "text/plain": [
              "         metrics_name     sub_classification partition_type  \\\n",
              "0  number_of_contacts  more_than_one_contact        account   \n",
              "\n",
              "     partition_value total_count successful_count unsuccessful_count  \n",
              "0  post_conversation          22               11                 11  "
            ],
            "text/html": [
              "\n",
              "  <div id=\"df-c8d04d94-50d5-49c1-84a5-320578ade6d6\">\n",
              "    <div class=\"colab-df-container\">\n",
              "      <div>\n",
              "<style scoped>\n",
              "    .dataframe tbody tr th:only-of-type {\n",
              "        vertical-align: middle;\n",
              "    }\n",
              "\n",
              "    .dataframe tbody tr th {\n",
              "        vertical-align: top;\n",
              "    }\n",
              "\n",
              "    .dataframe thead th {\n",
              "        text-align: right;\n",
              "    }\n",
              "</style>\n",
              "<table border=\"1\" class=\"dataframe\">\n",
              "  <thead>\n",
              "    <tr style=\"text-align: right;\">\n",
              "      <th></th>\n",
              "      <th>metrics_name</th>\n",
              "      <th>sub_classification</th>\n",
              "      <th>partition_type</th>\n",
              "      <th>partition_value</th>\n",
              "      <th>total_count</th>\n",
              "      <th>successful_count</th>\n",
              "      <th>unsuccessful_count</th>\n",
              "    </tr>\n",
              "  </thead>\n",
              "  <tbody>\n",
              "    <tr>\n",
              "      <th>0</th>\n",
              "      <td>number_of_contacts</td>\n",
              "      <td>more_than_one_contact</td>\n",
              "      <td>account</td>\n",
              "      <td>post_conversation</td>\n",
              "      <td>22</td>\n",
              "      <td>11</td>\n",
              "      <td>11</td>\n",
              "    </tr>\n",
              "  </tbody>\n",
              "</table>\n",
              "</div>\n",
              "      <button class=\"colab-df-convert\" onclick=\"convertToInteractive('df-c8d04d94-50d5-49c1-84a5-320578ade6d6')\"\n",
              "              title=\"Convert this dataframe to an interactive table.\"\n",
              "              style=\"display:none;\">\n",
              "        \n",
              "  <svg xmlns=\"http://www.w3.org/2000/svg\" height=\"24px\"viewBox=\"0 0 24 24\"\n",
              "       width=\"24px\">\n",
              "    <path d=\"M0 0h24v24H0V0z\" fill=\"none\"/>\n",
              "    <path d=\"M18.56 5.44l.94 2.06.94-2.06 2.06-.94-2.06-.94-.94-2.06-.94 2.06-2.06.94zm-11 1L8.5 8.5l.94-2.06 2.06-.94-2.06-.94L8.5 2.5l-.94 2.06-2.06.94zm10 10l.94 2.06.94-2.06 2.06-.94-2.06-.94-.94-2.06-.94 2.06-2.06.94z\"/><path d=\"M17.41 7.96l-1.37-1.37c-.4-.4-.92-.59-1.43-.59-.52 0-1.04.2-1.43.59L10.3 9.45l-7.72 7.72c-.78.78-.78 2.05 0 2.83L4 21.41c.39.39.9.59 1.41.59.51 0 1.02-.2 1.41-.59l7.78-7.78 2.81-2.81c.8-.78.8-2.07 0-2.86zM5.41 20L4 18.59l7.72-7.72 1.47 1.35L5.41 20z\"/>\n",
              "  </svg>\n",
              "      </button>\n",
              "      \n",
              "  <style>\n",
              "    .colab-df-container {\n",
              "      display:flex;\n",
              "      flex-wrap:wrap;\n",
              "      gap: 12px;\n",
              "    }\n",
              "\n",
              "    .colab-df-convert {\n",
              "      background-color: #E8F0FE;\n",
              "      border: none;\n",
              "      border-radius: 50%;\n",
              "      cursor: pointer;\n",
              "      display: none;\n",
              "      fill: #1967D2;\n",
              "      height: 32px;\n",
              "      padding: 0 0 0 0;\n",
              "      width: 32px;\n",
              "    }\n",
              "\n",
              "    .colab-df-convert:hover {\n",
              "      background-color: #E2EBFA;\n",
              "      box-shadow: 0px 1px 2px rgba(60, 64, 67, 0.3), 0px 1px 3px 1px rgba(60, 64, 67, 0.15);\n",
              "      fill: #174EA6;\n",
              "    }\n",
              "\n",
              "    [theme=dark] .colab-df-convert {\n",
              "      background-color: #3B4455;\n",
              "      fill: #D2E3FC;\n",
              "    }\n",
              "\n",
              "    [theme=dark] .colab-df-convert:hover {\n",
              "      background-color: #434B5C;\n",
              "      box-shadow: 0px 1px 3px 1px rgba(0, 0, 0, 0.15);\n",
              "      filter: drop-shadow(0px 1px 2px rgba(0, 0, 0, 0.3));\n",
              "      fill: #FFFFFF;\n",
              "    }\n",
              "  </style>\n",
              "\n",
              "      <script>\n",
              "        const buttonEl =\n",
              "          document.querySelector('#df-c8d04d94-50d5-49c1-84a5-320578ade6d6 button.colab-df-convert');\n",
              "        buttonEl.style.display =\n",
              "          google.colab.kernel.accessAllowed ? 'block' : 'none';\n",
              "\n",
              "        async function convertToInteractive(key) {\n",
              "          const element = document.querySelector('#df-c8d04d94-50d5-49c1-84a5-320578ade6d6');\n",
              "          const dataTable =\n",
              "            await google.colab.kernel.invokeFunction('convertToInteractive',\n",
              "                                                     [key], {});\n",
              "          if (!dataTable) return;\n",
              "\n",
              "          const docLinkHtml = 'Like what you see? Visit the ' +\n",
              "            '<a target=\"_blank\" href=https://colab.research.google.com/notebooks/data_table.ipynb>data table notebook</a>'\n",
              "            + ' to learn more about interactive tables.';\n",
              "          element.innerHTML = '';\n",
              "          dataTable['output_type'] = 'display_data';\n",
              "          await google.colab.output.renderOutput(dataTable, element);\n",
              "          const docLink = document.createElement('div');\n",
              "          docLink.innerHTML = docLinkHtml;\n",
              "          element.appendChild(docLink);\n",
              "        }\n",
              "      </script>\n",
              "    </div>\n",
              "  </div>\n",
              "  "
            ]
          },
          "metadata": {},
          "execution_count": 43
        }
      ]
    },
    {
      "cell_type": "code",
      "source": [
        "# Verification\n",
        "\n",
        "#input_df[input_df['account_id']==87986917]\n",
        "#df12[df12['account_id']==87986917]"
      ],
      "metadata": {
        "id": "SBurNODuHfRE"
      },
      "execution_count": null,
      "outputs": []
    },
    {
      "cell_type": "markdown",
      "source": [
        "## Single/Multi channel"
      ],
      "metadata": {
        "id": "l55G7LrZyRVd"
      }
    },
    {
      "cell_type": "code",
      "source": [
        "# Get counts for single and multi channel at contact level\n",
        "\n",
        "df11 = input_df[ (input_df['outbound_count']>0) &\n",
        "          (input_df['meeting_count']==0) &\n",
        "          (input_df['connected_call_count']==0) &\n",
        "          (input_df['linkedin_count']==0) \n",
        "         ]\n",
        "\n",
        "def get_single_channel_count(df):\n",
        "  additional_metrics =  pd.DataFrame(columns=['metrics_name','sub_classification','partition_type','partition_value','total_count','successful_count','unsuccessful_count'])\n",
        "  outbound_only = input_df[ (input_df['outbound_count']>0) &\n",
        "                            (input_df['meeting_count']==0) &\n",
        "                            (input_df['connected_call_count']==0) &\n",
        "                            (input_df['linkedin_count']==0) &\n",
        "                            (input_df['sms_count']==0)  \n",
        "                          ]\n",
        "  \n",
        "  meeting_only = input_df[ (input_df['outbound_count']==0) &\n",
        "                            (input_df['meeting_count']>0) &\n",
        "                            (input_df['connected_call_count']==0) &\n",
        "                            (input_df['linkedin_count']==0) &\n",
        "                            (input_df['sms_count']==0) \n",
        "                          ]\n",
        "  \n",
        "  calls_only = input_df[ (input_df['outbound_count']==0) &\n",
        "                         (input_df['meeting_count']==0) &\n",
        "                         (input_df['connected_call_count']>0) &\n",
        "                         (input_df['linkedin_count']==0) &\n",
        "                         (input_df['sms_count']==0)\n",
        "                          ]\n",
        "  metrics = {\"outbound_only\": outbound_only, \"meeting_only\": meeting_only, \"calls_only\": calls_only}\n",
        "\n",
        "  for metrics_name, metric in metrics.items():\n",
        "    contact_count = metric.shape\n",
        "    class_count = metric['post_engagement_successful'].value_counts()\n",
        "\n",
        "    additional_metrics = additional_metrics.append({'metrics_name' : 'single/multi channel', \n",
        "                                                       'sub_classification' : metrics_name, \n",
        "                                                       'partition_type' : 'contact', \n",
        "                                                       'partition_value' : 'post_conversation',\n",
        "                                                       'total_count': contact_count[0],\n",
        "                                                       'successful_count': class_count[1] ,\n",
        "                                                       'unsuccessful_count': class_count[0]}, \n",
        "                                                      ignore_index = True)\n",
        "  \n",
        "  return additional_metrics"
      ],
      "metadata": {
        "id": "htWDl1FwyU-8"
      },
      "execution_count": 30,
      "outputs": []
    },
    {
      "cell_type": "code",
      "source": [
        "# Get single channel metrics\n",
        "\n",
        "additional_metrics1 = get_single_channel_count(input_df)\n",
        "additional_metrics1"
      ],
      "metadata": {
        "colab": {
          "base_uri": "https://localhost:8080/",
          "height": 143
        },
        "id": "UgpOIbS67jkj",
        "outputId": "da62b04e-f18c-41aa-b420-54bc3a2d48f5"
      },
      "execution_count": 31,
      "outputs": [
        {
          "output_type": "execute_result",
          "data": {
            "text/plain": [
              "           metrics_name sub_classification partition_type    partition_value  \\\n",
              "0  single/multi channel      outbound_only        contact  post_conversation   \n",
              "1  single/multi channel       meeting_only        contact  post_conversation   \n",
              "2  single/multi channel         calls_only        contact  post_conversation   \n",
              "\n",
              "  total_count successful_count unsuccessful_count  \n",
              "0         161              102                 59  \n",
              "1         118              102                 16  \n",
              "2          32               17                 15  "
            ],
            "text/html": [
              "\n",
              "  <div id=\"df-b65b09f9-9484-437a-bb9e-0d405bed81a6\">\n",
              "    <div class=\"colab-df-container\">\n",
              "      <div>\n",
              "<style scoped>\n",
              "    .dataframe tbody tr th:only-of-type {\n",
              "        vertical-align: middle;\n",
              "    }\n",
              "\n",
              "    .dataframe tbody tr th {\n",
              "        vertical-align: top;\n",
              "    }\n",
              "\n",
              "    .dataframe thead th {\n",
              "        text-align: right;\n",
              "    }\n",
              "</style>\n",
              "<table border=\"1\" class=\"dataframe\">\n",
              "  <thead>\n",
              "    <tr style=\"text-align: right;\">\n",
              "      <th></th>\n",
              "      <th>metrics_name</th>\n",
              "      <th>sub_classification</th>\n",
              "      <th>partition_type</th>\n",
              "      <th>partition_value</th>\n",
              "      <th>total_count</th>\n",
              "      <th>successful_count</th>\n",
              "      <th>unsuccessful_count</th>\n",
              "    </tr>\n",
              "  </thead>\n",
              "  <tbody>\n",
              "    <tr>\n",
              "      <th>0</th>\n",
              "      <td>single/multi channel</td>\n",
              "      <td>outbound_only</td>\n",
              "      <td>contact</td>\n",
              "      <td>post_conversation</td>\n",
              "      <td>161</td>\n",
              "      <td>102</td>\n",
              "      <td>59</td>\n",
              "    </tr>\n",
              "    <tr>\n",
              "      <th>1</th>\n",
              "      <td>single/multi channel</td>\n",
              "      <td>meeting_only</td>\n",
              "      <td>contact</td>\n",
              "      <td>post_conversation</td>\n",
              "      <td>118</td>\n",
              "      <td>102</td>\n",
              "      <td>16</td>\n",
              "    </tr>\n",
              "    <tr>\n",
              "      <th>2</th>\n",
              "      <td>single/multi channel</td>\n",
              "      <td>calls_only</td>\n",
              "      <td>contact</td>\n",
              "      <td>post_conversation</td>\n",
              "      <td>32</td>\n",
              "      <td>17</td>\n",
              "      <td>15</td>\n",
              "    </tr>\n",
              "  </tbody>\n",
              "</table>\n",
              "</div>\n",
              "      <button class=\"colab-df-convert\" onclick=\"convertToInteractive('df-b65b09f9-9484-437a-bb9e-0d405bed81a6')\"\n",
              "              title=\"Convert this dataframe to an interactive table.\"\n",
              "              style=\"display:none;\">\n",
              "        \n",
              "  <svg xmlns=\"http://www.w3.org/2000/svg\" height=\"24px\"viewBox=\"0 0 24 24\"\n",
              "       width=\"24px\">\n",
              "    <path d=\"M0 0h24v24H0V0z\" fill=\"none\"/>\n",
              "    <path d=\"M18.56 5.44l.94 2.06.94-2.06 2.06-.94-2.06-.94-.94-2.06-.94 2.06-2.06.94zm-11 1L8.5 8.5l.94-2.06 2.06-.94-2.06-.94L8.5 2.5l-.94 2.06-2.06.94zm10 10l.94 2.06.94-2.06 2.06-.94-2.06-.94-.94-2.06-.94 2.06-2.06.94z\"/><path d=\"M17.41 7.96l-1.37-1.37c-.4-.4-.92-.59-1.43-.59-.52 0-1.04.2-1.43.59L10.3 9.45l-7.72 7.72c-.78.78-.78 2.05 0 2.83L4 21.41c.39.39.9.59 1.41.59.51 0 1.02-.2 1.41-.59l7.78-7.78 2.81-2.81c.8-.78.8-2.07 0-2.86zM5.41 20L4 18.59l7.72-7.72 1.47 1.35L5.41 20z\"/>\n",
              "  </svg>\n",
              "      </button>\n",
              "      \n",
              "  <style>\n",
              "    .colab-df-container {\n",
              "      display:flex;\n",
              "      flex-wrap:wrap;\n",
              "      gap: 12px;\n",
              "    }\n",
              "\n",
              "    .colab-df-convert {\n",
              "      background-color: #E8F0FE;\n",
              "      border: none;\n",
              "      border-radius: 50%;\n",
              "      cursor: pointer;\n",
              "      display: none;\n",
              "      fill: #1967D2;\n",
              "      height: 32px;\n",
              "      padding: 0 0 0 0;\n",
              "      width: 32px;\n",
              "    }\n",
              "\n",
              "    .colab-df-convert:hover {\n",
              "      background-color: #E2EBFA;\n",
              "      box-shadow: 0px 1px 2px rgba(60, 64, 67, 0.3), 0px 1px 3px 1px rgba(60, 64, 67, 0.15);\n",
              "      fill: #174EA6;\n",
              "    }\n",
              "\n",
              "    [theme=dark] .colab-df-convert {\n",
              "      background-color: #3B4455;\n",
              "      fill: #D2E3FC;\n",
              "    }\n",
              "\n",
              "    [theme=dark] .colab-df-convert:hover {\n",
              "      background-color: #434B5C;\n",
              "      box-shadow: 0px 1px 3px 1px rgba(0, 0, 0, 0.15);\n",
              "      filter: drop-shadow(0px 1px 2px rgba(0, 0, 0, 0.3));\n",
              "      fill: #FFFFFF;\n",
              "    }\n",
              "  </style>\n",
              "\n",
              "      <script>\n",
              "        const buttonEl =\n",
              "          document.querySelector('#df-b65b09f9-9484-437a-bb9e-0d405bed81a6 button.colab-df-convert');\n",
              "        buttonEl.style.display =\n",
              "          google.colab.kernel.accessAllowed ? 'block' : 'none';\n",
              "\n",
              "        async function convertToInteractive(key) {\n",
              "          const element = document.querySelector('#df-b65b09f9-9484-437a-bb9e-0d405bed81a6');\n",
              "          const dataTable =\n",
              "            await google.colab.kernel.invokeFunction('convertToInteractive',\n",
              "                                                     [key], {});\n",
              "          if (!dataTable) return;\n",
              "\n",
              "          const docLinkHtml = 'Like what you see? Visit the ' +\n",
              "            '<a target=\"_blank\" href=https://colab.research.google.com/notebooks/data_table.ipynb>data table notebook</a>'\n",
              "            + ' to learn more about interactive tables.';\n",
              "          element.innerHTML = '';\n",
              "          dataTable['output_type'] = 'display_data';\n",
              "          await google.colab.output.renderOutput(dataTable, element);\n",
              "          const docLink = document.createElement('div');\n",
              "          docLink.innerHTML = docLinkHtml;\n",
              "          element.appendChild(docLink);\n",
              "        }\n",
              "      </script>\n",
              "    </div>\n",
              "  </div>\n",
              "  "
            ]
          },
          "metadata": {},
          "execution_count": 31
        }
      ]
    },
    {
      "cell_type": "markdown",
      "source": [
        "## Thresholds at contact-level"
      ],
      "metadata": {
        "id": "k2Ww-qX8ZWMd"
      }
    },
    {
      "cell_type": "code",
      "source": [
        "#input_metrics_contact = input_df[['contact_id', 'activity_count','avg_word_count',\t'avg_flesch_kincaid_grade', 'avg_big_gap' ]]"
      ],
      "metadata": {
        "id": "dPAEESow3khF"
      },
      "execution_count": null,
      "outputs": []
    },
    {
      "cell_type": "code",
      "source": [
        "# Aggregate at contact level\n",
        "\n",
        "# input_metrics_contact = input_df.groupby('contact_id').agg({'activity_count':[('avg_activity_count','mean')],\n",
        "#                                                             'big_gap_count':[('avg_big_gap_count','mean')],\n",
        "#                                                             'avg_big_gap':[('avg_big_gap','mean')],\n",
        "#                                                             'avg_word_count':[('avg_word_count','mean')],\n",
        "#                                                             'avg_flesch_kincaid_grade':[('avg_flesch_kincaid_grade','mean')],\n",
        "#                                                             })\n",
        "\n",
        "input_metrics_contact = input_df.groupby('contact_id').agg({'avg_followup':[('avg_rep_followup_time','mean')],\n",
        "                                                            'avg_ttr':[('avg_rep_response_time','mean')]})\n"
      ],
      "metadata": {
        "id": "hqATIRNp5MOL"
      },
      "execution_count": null,
      "outputs": []
    },
    {
      "cell_type": "code",
      "source": [
        "# Drop multi-index for columns and reset index\n",
        "input_metrics_contact.columns = input_metrics_contact.columns.droplevel()\n",
        "input_metrics_contact.reset_index(inplace=True)\n",
        "\n",
        "# input_metrics_contact['avg_big_gap'].fillna(0, inplace=True)\n",
        "# input_metrics_contact.head()"
      ],
      "metadata": {
        "id": "DB-mkuAFhTb9"
      },
      "execution_count": null,
      "outputs": []
    },
    {
      "cell_type": "code",
      "source": [
        "input_metrics_contact.isnull().sum()\n",
        "#avg_activity_count.shape"
      ],
      "metadata": {
        "colab": {
          "base_uri": "https://localhost:8080/"
        },
        "id": "q9dAFufFBzOu",
        "outputId": "cdf36465-9cc9-4de6-f6bb-cacd233586ce"
      },
      "execution_count": null,
      "outputs": [
        {
          "output_type": "execute_result",
          "data": {
            "text/plain": [
              "contact_id                0\n",
              "avg_rep_followup_time    77\n",
              "avg_rep_response_time    96\n",
              "dtype: int64"
            ]
          },
          "metadata": {},
          "execution_count": 52
        }
      ]
    },
    {
      "cell_type": "code",
      "source": [
        "input_metrics_contact.dropna(inplace=True)\n",
        "input_metrics_contact.shape"
      ],
      "metadata": {
        "colab": {
          "base_uri": "https://localhost:8080/"
        },
        "id": "-kErMvDbXdlE",
        "outputId": "5988bd5f-979b-44be-f758-141eb985e450"
      },
      "execution_count": null,
      "outputs": [
        {
          "output_type": "execute_result",
          "data": {
            "text/plain": [
              "(170, 3)"
            ]
          },
          "metadata": {},
          "execution_count": 53
        }
      ]
    },
    {
      "cell_type": "code",
      "source": [
        "input_metrics = pd.merge(input_df[['contact_id','post_engagement_successful']], input_metrics_contact, how='inner', on='contact_id')\n",
        "input_metrics['stage_name'] = 'post_engagement'\n",
        "input_metrics.rename(columns={\"contact_id\": \"opportunity_id\", \"post_engagement_successful\": \"is_won\"}, inplace=True)\n",
        "input_metrics.to_csv(\"/content/drive/MyDrive/prospecting_model/Alice_post_06272022_org_13.csv\", index=False)\n",
        "\n",
        "input_metrics['is_won'].value_counts()"
      ],
      "metadata": {
        "colab": {
          "base_uri": "https://localhost:8080/"
        },
        "id": "JJhS32XOX1dQ",
        "outputId": "fed41568-df4e-4013-e0a8-07230ed294de"
      },
      "execution_count": null,
      "outputs": [
        {
          "output_type": "execute_result",
          "data": {
            "text/plain": [
              "True     100\n",
              "False     70\n",
              "Name: is_won, dtype: int64"
            ]
          },
          "metadata": {},
          "execution_count": 54
        }
      ]
    },
    {
      "cell_type": "code",
      "source": [
        "input_metrics['opportunity_id'].nunique()"
      ],
      "metadata": {
        "colab": {
          "base_uri": "https://localhost:8080/"
        },
        "id": "NhfdlYF2poAu",
        "outputId": "f592d5ed-46de-4175-d797-8700f180cfd5"
      },
      "execution_count": null,
      "outputs": [
        {
          "output_type": "execute_result",
          "data": {
            "text/plain": [
              "174"
            ]
          },
          "metadata": {},
          "execution_count": 13
        }
      ]
    },
    {
      "cell_type": "markdown",
      "source": [
        "## Cycle Length/Gap"
      ],
      "metadata": {
        "id": "HLWXkg_vvU7J"
      }
    },
    {
      "cell_type": "code",
      "source": [
        "input_metrics_cycle_len = input_df.groupby(['contact_id', 'post_engagement_successful']).agg({'cycle_length':[('cycle_length_avg','mean')],\n",
        "                                                         'cycle_gap':[('cycle_gap_avg','mean')]})\n"
      ],
      "metadata": {
        "id": "4niI8x583VtK"
      },
      "execution_count": null,
      "outputs": []
    },
    {
      "cell_type": "code",
      "source": [
        "# Drop multi-index for columns and reset index\n",
        "\n",
        "input_metrics_cycle_len.columns = input_metrics_cycle_len.columns.droplevel()\n",
        "input_metrics_cycle_len.reset_index(inplace=True)\n",
        "input_metrics_cycle_len.head()"
      ],
      "metadata": {
        "colab": {
          "base_uri": "https://localhost:8080/",
          "height": 206
        },
        "id": "THPm9EFwvbEP",
        "outputId": "e0c941bf-dcec-4944-b7e1-12ed604525fe"
      },
      "execution_count": null,
      "outputs": [
        {
          "output_type": "execute_result",
          "data": {
            "text/plain": [
              "   contact_id  post_engagement_successful  cycle_length_avg  cycle_gap_avg\n",
              "0        2464                       False         16.929699     622.289676\n",
              "1        3679                       False         26.235822            NaN\n",
              "2        3977                       False         25.656273     658.732373\n",
              "3        3994                        True          0.083125            NaN\n",
              "4        4094                       False         25.183938     222.776875"
            ],
            "text/html": [
              "\n",
              "  <div id=\"df-efa0baca-6ce9-4162-9a10-cdd0b6712e8c\">\n",
              "    <div class=\"colab-df-container\">\n",
              "      <div>\n",
              "<style scoped>\n",
              "    .dataframe tbody tr th:only-of-type {\n",
              "        vertical-align: middle;\n",
              "    }\n",
              "\n",
              "    .dataframe tbody tr th {\n",
              "        vertical-align: top;\n",
              "    }\n",
              "\n",
              "    .dataframe thead th {\n",
              "        text-align: right;\n",
              "    }\n",
              "</style>\n",
              "<table border=\"1\" class=\"dataframe\">\n",
              "  <thead>\n",
              "    <tr style=\"text-align: right;\">\n",
              "      <th></th>\n",
              "      <th>contact_id</th>\n",
              "      <th>post_engagement_successful</th>\n",
              "      <th>cycle_length_avg</th>\n",
              "      <th>cycle_gap_avg</th>\n",
              "    </tr>\n",
              "  </thead>\n",
              "  <tbody>\n",
              "    <tr>\n",
              "      <th>0</th>\n",
              "      <td>2464</td>\n",
              "      <td>False</td>\n",
              "      <td>16.929699</td>\n",
              "      <td>622.289676</td>\n",
              "    </tr>\n",
              "    <tr>\n",
              "      <th>1</th>\n",
              "      <td>3679</td>\n",
              "      <td>False</td>\n",
              "      <td>26.235822</td>\n",
              "      <td>NaN</td>\n",
              "    </tr>\n",
              "    <tr>\n",
              "      <th>2</th>\n",
              "      <td>3977</td>\n",
              "      <td>False</td>\n",
              "      <td>25.656273</td>\n",
              "      <td>658.732373</td>\n",
              "    </tr>\n",
              "    <tr>\n",
              "      <th>3</th>\n",
              "      <td>3994</td>\n",
              "      <td>True</td>\n",
              "      <td>0.083125</td>\n",
              "      <td>NaN</td>\n",
              "    </tr>\n",
              "    <tr>\n",
              "      <th>4</th>\n",
              "      <td>4094</td>\n",
              "      <td>False</td>\n",
              "      <td>25.183938</td>\n",
              "      <td>222.776875</td>\n",
              "    </tr>\n",
              "  </tbody>\n",
              "</table>\n",
              "</div>\n",
              "      <button class=\"colab-df-convert\" onclick=\"convertToInteractive('df-efa0baca-6ce9-4162-9a10-cdd0b6712e8c')\"\n",
              "              title=\"Convert this dataframe to an interactive table.\"\n",
              "              style=\"display:none;\">\n",
              "        \n",
              "  <svg xmlns=\"http://www.w3.org/2000/svg\" height=\"24px\"viewBox=\"0 0 24 24\"\n",
              "       width=\"24px\">\n",
              "    <path d=\"M0 0h24v24H0V0z\" fill=\"none\"/>\n",
              "    <path d=\"M18.56 5.44l.94 2.06.94-2.06 2.06-.94-2.06-.94-.94-2.06-.94 2.06-2.06.94zm-11 1L8.5 8.5l.94-2.06 2.06-.94-2.06-.94L8.5 2.5l-.94 2.06-2.06.94zm10 10l.94 2.06.94-2.06 2.06-.94-2.06-.94-.94-2.06-.94 2.06-2.06.94z\"/><path d=\"M17.41 7.96l-1.37-1.37c-.4-.4-.92-.59-1.43-.59-.52 0-1.04.2-1.43.59L10.3 9.45l-7.72 7.72c-.78.78-.78 2.05 0 2.83L4 21.41c.39.39.9.59 1.41.59.51 0 1.02-.2 1.41-.59l7.78-7.78 2.81-2.81c.8-.78.8-2.07 0-2.86zM5.41 20L4 18.59l7.72-7.72 1.47 1.35L5.41 20z\"/>\n",
              "  </svg>\n",
              "      </button>\n",
              "      \n",
              "  <style>\n",
              "    .colab-df-container {\n",
              "      display:flex;\n",
              "      flex-wrap:wrap;\n",
              "      gap: 12px;\n",
              "    }\n",
              "\n",
              "    .colab-df-convert {\n",
              "      background-color: #E8F0FE;\n",
              "      border: none;\n",
              "      border-radius: 50%;\n",
              "      cursor: pointer;\n",
              "      display: none;\n",
              "      fill: #1967D2;\n",
              "      height: 32px;\n",
              "      padding: 0 0 0 0;\n",
              "      width: 32px;\n",
              "    }\n",
              "\n",
              "    .colab-df-convert:hover {\n",
              "      background-color: #E2EBFA;\n",
              "      box-shadow: 0px 1px 2px rgba(60, 64, 67, 0.3), 0px 1px 3px 1px rgba(60, 64, 67, 0.15);\n",
              "      fill: #174EA6;\n",
              "    }\n",
              "\n",
              "    [theme=dark] .colab-df-convert {\n",
              "      background-color: #3B4455;\n",
              "      fill: #D2E3FC;\n",
              "    }\n",
              "\n",
              "    [theme=dark] .colab-df-convert:hover {\n",
              "      background-color: #434B5C;\n",
              "      box-shadow: 0px 1px 3px 1px rgba(0, 0, 0, 0.15);\n",
              "      filter: drop-shadow(0px 1px 2px rgba(0, 0, 0, 0.3));\n",
              "      fill: #FFFFFF;\n",
              "    }\n",
              "  </style>\n",
              "\n",
              "      <script>\n",
              "        const buttonEl =\n",
              "          document.querySelector('#df-efa0baca-6ce9-4162-9a10-cdd0b6712e8c button.colab-df-convert');\n",
              "        buttonEl.style.display =\n",
              "          google.colab.kernel.accessAllowed ? 'block' : 'none';\n",
              "\n",
              "        async function convertToInteractive(key) {\n",
              "          const element = document.querySelector('#df-efa0baca-6ce9-4162-9a10-cdd0b6712e8c');\n",
              "          const dataTable =\n",
              "            await google.colab.kernel.invokeFunction('convertToInteractive',\n",
              "                                                     [key], {});\n",
              "          if (!dataTable) return;\n",
              "\n",
              "          const docLinkHtml = 'Like what you see? Visit the ' +\n",
              "            '<a target=\"_blank\" href=https://colab.research.google.com/notebooks/data_table.ipynb>data table notebook</a>'\n",
              "            + ' to learn more about interactive tables.';\n",
              "          element.innerHTML = '';\n",
              "          dataTable['output_type'] = 'display_data';\n",
              "          await google.colab.output.renderOutput(dataTable, element);\n",
              "          const docLink = document.createElement('div');\n",
              "          docLink.innerHTML = docLinkHtml;\n",
              "          element.appendChild(docLink);\n",
              "        }\n",
              "      </script>\n",
              "    </div>\n",
              "  </div>\n",
              "  "
            ]
          },
          "metadata": {},
          "execution_count": 28
        }
      ]
    },
    {
      "cell_type": "code",
      "source": [
        "input_metrics_cycle_len.hist(column=[\"cycle_length_avg\"],  figsize=(10, 8))"
      ],
      "metadata": {
        "colab": {
          "base_uri": "https://localhost:8080/",
          "height": 535
        },
        "id": "G2FWnykpvjSx",
        "outputId": "52be7caf-1064-4cf0-d2f5-70d367ba9fa5"
      },
      "execution_count": null,
      "outputs": [
        {
          "output_type": "execute_result",
          "data": {
            "text/plain": [
              "array([[<matplotlib.axes._subplots.AxesSubplot object at 0x7efae7e98310>]],\n",
              "      dtype=object)"
            ]
          },
          "metadata": {},
          "execution_count": 29
        },
        {
          "output_type": "display_data",
          "data": {
            "text/plain": [
              "<Figure size 720x576 with 1 Axes>"
            ],
            "image/png": "[encoded data removed]"
          },
          "metadata": {
            "needs_background": "light"
          }
        }
      ]
    },
    {
      "cell_type": "code",
      "source": [
        "df1 = input_metrics_cycle_len[input_metrics_cycle_len['cycle_length_avg']<=5]\n",
        "df1['post_engagement_successful'].value_counts()"
      ],
      "metadata": {
        "colab": {
          "base_uri": "https://localhost:8080/"
        },
        "id": "Q5Q18jymMMZX",
        "outputId": "1e519eb1-43b7-497c-dd5c-a0c58d533a89"
      },
      "execution_count": null,
      "outputs": [
        {
          "output_type": "execute_result",
          "data": {
            "text/plain": [
              "True     220\n",
              "False     14\n",
              "Name: post_engagement_successful, dtype: int64"
            ]
          },
          "metadata": {},
          "execution_count": 37
        }
      ]
    },
    {
      "cell_type": "code",
      "source": [
        "df91 = input_df[ (input_df['outbound_count']>0) &\n",
        "            (input_df['meeting_count']>0) \n",
        "             #(input_df['connected_call_count']>0) \n",
        "            #  (input_df['linkedin_count']==0)\n",
        "             ]\n",
        "\n",
        "df91['post_engagement_successful'].value_counts()"
      ],
      "metadata": {
        "colab": {
          "base_uri": "https://localhost:8080/"
        },
        "id": "tC4nGOkXLMEs",
        "outputId": "8ae3e799-25da-4b51-9956-34cac9415b70"
      },
      "execution_count": null,
      "outputs": [
        {
          "output_type": "execute_result",
          "data": {
            "text/plain": [
              "True     124\n",
              "False     76\n",
              "Name: post_engagement_successful, dtype: int64"
            ]
          },
          "metadata": {},
          "execution_count": 68
        }
      ]
    },
    {
      "cell_type": "code",
      "source": [
        "# Groub by contact and post_engagement_successful to get prospecting cycle count and sum of activity count\n",
        "\n",
        "df1 = input_df.groupby(['contact_id', 'post_engagement_successful'])\\\n",
        "                          .agg({'cycle_num':[('prospecting_cycle_count','max')],\n",
        "                                'activity_count':[('avg_activity_count','sum')]})\n",
        "\n",
        "df1.columns = df1.columns.droplevel()\n",
        "df1.reset_index(inplace=True)\n",
        "\n",
        "print(\"df1 shape: \", df1.shape)\n",
        "print(\"Unique contacts in df1: \", df1['contact_id'].nunique())\n",
        "\n",
        "df1.head()"
      ],
      "metadata": {
        "id": "HIF2ur_MnbFd"
      },
      "execution_count": null,
      "outputs": []
    },
    {
      "cell_type": "code",
      "source": [
        "# Contacts having 1 prospecting cycle\n",
        "df2 = df1[df1['prospecting_cycle_count']>0]\n",
        "\n",
        "print(\"df2 shape: \", df2.shape)\n",
        "print(\"Unique contacts in df2: \", df2['contact_id'].nunique())\n",
        "\n",
        "df2['post_engagement_successful'].value_counts()"
      ],
      "metadata": {
        "colab": {
          "base_uri": "https://localhost:8080/"
        },
        "id": "xfFEjWi6prxQ",
        "outputId": "c06e1e34-db69-4065-d702-596cecabe433"
      },
      "execution_count": null,
      "outputs": [
        {
          "output_type": "stream",
          "name": "stdout",
          "text": [
            "df2 shape:  (390, 4)\n",
            "Unique contacts in df2:  390\n"
          ]
        },
        {
          "output_type": "execute_result",
          "data": {
            "text/plain": [
              "True     298\n",
              "False     92\n",
              "Name: post_engagement_successful, dtype: int64"
            ]
          },
          "metadata": {},
          "execution_count": 36
        }
      ]
    },
    {
      "cell_type": "code",
      "source": [
        "# prospecting cycle =1 and any number of activities\n",
        "\n",
        "df81 = pd.merge(input_df[['account_id', 'contact_id', 'inbound_count', 'outbound_count', 'call_count', 'connected_call_count' ,\n",
        "                         'meeting_count', 'linkedin_count', 'sms_count']], \n",
        "               df2, on='contact_id' , how='inner')\n",
        "\n",
        "df91 = df81[ \n",
        "            (df81['connected_call_count']>0) &\n",
        "             (df81['outbound_count']>0) &\n",
        "             (df81['linkedin_count']==0) &\n",
        "              (df81['meeting_count']==0) &\n",
        "             (df81['sms_count']==0)]\n",
        "\n",
        "#  & (df81['call_count']==0) & \n",
        "#             (df81['outbound_count']==0) & (df81['linkedin_count']==0) & (df81['sms_count']==0)\n",
        "\n",
        "df91['post_engagement_successful'].value_counts()"
      ],
      "metadata": {
        "colab": {
          "base_uri": "https://localhost:8080/"
        },
        "id": "__O7MpcjdxAH",
        "outputId": "4588268a-b78a-4673-9eb4-63baee93ad5f"
      },
      "execution_count": null,
      "outputs": [
        {
          "output_type": "execute_result",
          "data": {
            "text/plain": [
              "True     22\n",
              "False     4\n",
              "Name: post_engagement_successful, dtype: int64"
            ]
          },
          "metadata": {},
          "execution_count": 54
        }
      ]
    },
    {
      "cell_type": "code",
      "source": [
        "# Prospecting cycle having 1 cycle and 1 activity count\n",
        "df3 = df1[(df1['prospecting_cycle_count']==1) & (df1['avg_activity_count']==1)]\n",
        "\n",
        "print(\"df3 shape: \", df3.shape)\n",
        "print(\"Unique contacts in df3: \", df3['contact_id'].nunique())\n",
        "\n",
        "df3['post_engagement_successful'].value_counts()"
      ],
      "metadata": {
        "colab": {
          "base_uri": "https://localhost:8080/"
        },
        "id": "VQvLefsfsae5",
        "outputId": "d35067da-d5a0-41ac-9e1f-a6ea542ab13a"
      },
      "execution_count": null,
      "outputs": [
        {
          "output_type": "stream",
          "name": "stdout",
          "text": [
            "df3 shape:  (135, 4)\n",
            "Unique contacts in df3:  135\n"
          ]
        },
        {
          "output_type": "execute_result",
          "data": {
            "text/plain": [
              "True     100\n",
              "False     35\n",
              "Name: post_engagement_successful, dtype: int64"
            ]
          },
          "metadata": {},
          "execution_count": 13
        }
      ]
    },
    {
      "cell_type": "code",
      "source": [
        "# Prospecting cycle having 1 cycle and 2 activity count\n",
        "df4 = df1[(df1['prospecting_cycle_count']==1) & (df1['avg_activity_count']==2)]\n",
        "\n",
        "print(\"df4 shape: \", df4.shape)\n",
        "print(\"Unique contacts in df4: \", df4['contact_id'].nunique())\n",
        "\n",
        "df4['post_engagement_successful'].value_counts()"
      ],
      "metadata": {
        "colab": {
          "base_uri": "https://localhost:8080/"
        },
        "id": "bkNVFUdltNKy",
        "outputId": "04db7696-708c-47db-850c-1444a4097257"
      },
      "execution_count": null,
      "outputs": [
        {
          "output_type": "stream",
          "name": "stdout",
          "text": [
            "df4 shape:  (84, 4)\n",
            "Unique contacts in df4:  84\n"
          ]
        },
        {
          "output_type": "execute_result",
          "data": {
            "text/plain": [
              "True     61\n",
              "False    23\n",
              "Name: post_engagement_successful, dtype: int64"
            ]
          },
          "metadata": {},
          "execution_count": 24
        }
      ]
    },
    {
      "cell_type": "code",
      "source": [
        "# Prospecting cycle having 1 cycle and 2 or more activity count\n",
        "df5 = df1[(df1['prospecting_cycle_count']==1) & (df1['avg_activity_count']>=2)]\n",
        "\n",
        "print(\"df5 shape: \", df5.shape)\n",
        "print(\"Unique contacts in df5: \", df5['contact_id'].nunique())\n",
        "\n",
        "df5['post_engagement_successful'].value_counts()"
      ],
      "metadata": {
        "colab": {
          "base_uri": "https://localhost:8080/"
        },
        "id": "PX7MtQhAte1s",
        "outputId": "73aabb0e-7d2b-479a-fdf7-9ace86e1fce1"
      },
      "execution_count": null,
      "outputs": [
        {
          "output_type": "stream",
          "name": "stdout",
          "text": [
            "df5 shape:  (255, 4)\n",
            "Unique contacts in df5:  255\n"
          ]
        },
        {
          "output_type": "execute_result",
          "data": {
            "text/plain": [
              "True     198\n",
              "False     57\n",
              "Name: post_engagement_successful, dtype: int64"
            ]
          },
          "metadata": {},
          "execution_count": 25
        }
      ]
    },
    {
      "cell_type": "code",
      "source": [
        "# Prospecting cycle having 1 cycle and more than 2 activity count\n",
        "df6 = df1[(df1['prospecting_cycle_count']==1) & (df1['avg_activity_count']>2)]\n",
        "\n",
        "print(\"df6 shape: \", df6.shape)\n",
        "print(\"Unique contacts in df6: \", df6['contact_id'].nunique())\n",
        "\n",
        "df6['post_engagement_successful'].value_counts()"
      ],
      "metadata": {
        "colab": {
          "base_uri": "https://localhost:8080/"
        },
        "id": "TYVy0gX4t3c5",
        "outputId": "dd444182-1eb7-4893-894e-5521b638a480"
      },
      "execution_count": null,
      "outputs": [
        {
          "output_type": "stream",
          "name": "stdout",
          "text": [
            "df6 shape:  (171, 4)\n",
            "Unique contacts in df6:  171\n"
          ]
        },
        {
          "output_type": "execute_result",
          "data": {
            "text/plain": [
              "True     137\n",
              "False     34\n",
              "Name: post_engagement_successful, dtype: int64"
            ]
          },
          "metadata": {},
          "execution_count": 26
        }
      ]
    },
    {
      "cell_type": "code",
      "source": [
        "# when activity count =1 what type of activity \n",
        "df7 = pd.merge(input_df[['account_id', 'contact_id', 'inbound_count', 'outbound_count', 'call_count', \n",
        "                         'meeting_count', 'linkedin_count', 'sms_count']], \n",
        "               df3, on='contact_id' , how='inner')\n",
        "\n",
        "df77 = pd.merge(activities_df[['account_id', 'contact_id', 'activity_id']], \n",
        "               df7, on='contact_id' , how='inner')\n",
        "\n",
        "\n",
        "print(\"df7 shape: \", df7.shape)\n",
        "# print(\"Unique contacts in df7: \", df7['contact_id'].nunique())\n",
        "# print(\" \\n Inbound counts: \\n\",  df7['inbound_count'].value_counts())\n",
        "# print(\" \\n Outbound counts: \\n\", df7['outbound_count'].value_counts())\n",
        "# print(\" \\n Meeting counts: \\n\", df7['meeting_count'].value_counts())\n",
        "# print(\" \\n Calls counts: \\n\", df7['call_count'].value_counts())\n",
        "# print(\" \\n Linkedin counts: \\n\", df7['linkedin_count'].value_counts())\n",
        "# print(\" \\n Sms counts: \\n\", df7['sms_count'].value_counts())\n",
        "\n",
        "#df77[(df77['meeting_count']>0) & (df77['call_count']==0) & (df77['outbound_count']==0) & (df77['inbound_count']==0)]"
      ],
      "metadata": {
        "id": "SJGBEELqudP5"
      },
      "execution_count": null,
      "outputs": []
    },
    {
      "cell_type": "code",
      "source": [
        "f2 = df7[df7['inbound_count']>0]\n",
        "f2.shape\n",
        "f2['post_engagement_successful'].value_counts()\n",
        "f2"
      ],
      "metadata": {
        "id": "oyszUdGBAdWE"
      },
      "execution_count": null,
      "outputs": []
    },
    {
      "cell_type": "code",
      "source": [
        "# when activity count =2 what type of activity type combinations work\n",
        "df8 = pd.merge(input_df[['account_id', 'contact_id', 'inbound_count', 'outbound_count', 'call_count', 'meeting_count']], \n",
        "               df4, on='contact_id' , how='inner')\n",
        "\n",
        "\n",
        "print(\"df8 shape: \", df8.shape)\n",
        "print(\"Unique contacts in df8: \", df8['contact_id'].nunique())\n",
        "\n",
        "print(\" \\n Inbound counts: \\n\",  df8['inbound_count'].value_counts())\n",
        "print(\" \\n Outbound counts: \\n\", df8['outbound_count'].value_counts())\n",
        "print(\" \\n Meeting counts: \\n\", df8['meeting_count'].value_counts())\n",
        "print(\" \\n Calls counts: \\n\", df8['call_count'].value_counts())"
      ],
      "metadata": {
        "colab": {
          "base_uri": "https://localhost:8080/"
        },
        "id": "4fniyzhCyeDP",
        "outputId": "594cffe8-3ffe-4df8-c4fe-b3b675b59450"
      },
      "execution_count": null,
      "outputs": [
        {
          "output_type": "stream",
          "name": "stdout",
          "text": [
            "df8 shape:  (84, 9)\n",
            "Unique contacts in df8:  84\n",
            " \n",
            " Inbound counts: \n",
            " 1    47\n",
            "0    35\n",
            "2     2\n",
            "Name: inbound_count, dtype: int64\n",
            " \n",
            " Outbound counts: \n",
            " 1    61\n",
            "0    20\n",
            "2     3\n",
            "Name: outbound_count, dtype: int64\n",
            " \n",
            " Meeting counts: \n",
            " 0    56\n",
            "1    19\n",
            "2     9\n",
            "Name: meeting_count, dtype: int64\n",
            " \n",
            " Calls counts: \n",
            " 0    71\n",
            "1    13\n",
            "Name: call_count, dtype: int64\n"
          ]
        }
      ]
    },
    {
      "cell_type": "code",
      "source": [
        "f1 = df8[(df8['meeting_count']>0) &(df8['inbound_count']>0) ]\n",
        "f1.shape\n",
        "f1['post_engagement_successful'].value_counts()"
      ],
      "metadata": {
        "colab": {
          "base_uri": "https://localhost:8080/"
        },
        "id": "JJqA1X4b8SKS",
        "outputId": "504d694f-f39e-4c90-a23a-af57c3abcfc1"
      },
      "execution_count": null,
      "outputs": [
        {
          "output_type": "execute_result",
          "data": {
            "text/plain": [
              "True    6\n",
              "Name: post_engagement_successful, dtype: int64"
            ]
          },
          "metadata": {},
          "execution_count": 42
        }
      ]
    },
    {
      "cell_type": "code",
      "source": [
        "# Contacts having 2 prospecting cycle\n",
        "df9 = df1[df1['prospecting_cycle_count']>=2]\n",
        "\n",
        "print(\"df9 shape: \", df9.shape)\n",
        "print(\"Unique contacts in df9: \", df9['contact_id'].nunique())\n",
        "\n",
        "df9['post_engagement_successful'].value_counts()"
      ],
      "metadata": {
        "colab": {
          "base_uri": "https://localhost:8080/"
        },
        "id": "boNujG7po1-d",
        "outputId": "af0afdb0-959b-4f68-dda7-3112299ac576"
      },
      "execution_count": null,
      "outputs": [
        {
          "output_type": "stream",
          "name": "stdout",
          "text": [
            "df9 shape:  (213, 4)\n",
            "Unique contacts in df9:  213\n"
          ]
        },
        {
          "output_type": "execute_result",
          "data": {
            "text/plain": [
              "False    115\n",
              "True      98\n",
              "Name: post_engagement_successful, dtype: int64"
            ]
          },
          "metadata": {},
          "execution_count": 58
        }
      ]
    }
  ]
}