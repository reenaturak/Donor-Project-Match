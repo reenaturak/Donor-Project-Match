{
  "nbformat": 4,
  "nbformat_minor": 0,
  "metadata": {
    "colab": {
      "name": "stage_probability_model_notebook",
      "provenance": [],
      "collapsed_sections": [
        "9n5lCtqHN7e1",
        "sVBpxmTXKrQp"
      ],
      "authorship_tag": "ABX9TyO+OZ/aABNqrp7dYgnINfrv"
    },
    "kernelspec": {
      "name": "python3",
      "display_name": "Python 3"
    },
    "language_info": {
      "name": "python"
    }
  },
  "cells": [
    {
      "cell_type": "markdown",
      "metadata": {
        "id": "fwr2OiSsPOO6"
      },
      "source": [
        "# Notebook for feature processing and training the stage level probaility model\n",
        "\n",
        "\n"
      ]
    },
    {
      "cell_type": "markdown",
      "source": [
        "## Import reqiured libs, gcp auth and set project_id\n"
      ],
      "metadata": {
        "id": "9n5lCtqHN7e1"
      }
    },
    {
      "cell_type": "code",
      "metadata": {
        "id": "oQQ7AgevfGlD"
      },
      "source": [
        "import pandas as pd\n",
        "import numpy as np\n",
        "import math\n",
        "import warnings\n",
        "\n",
        "warnings.filterwarnings(\"ignore\")\n",
        "pd.options.display.max_rows = 5000\n",
        "pd.options.display.max_columns = 5000"
      ],
      "execution_count": null,
      "outputs": []
    },
    {
      "cell_type": "code",
      "source": [
        "from google.colab import auth\n",
        "auth.authenticate_user()\n",
        "\n",
        "project_id = 'buyersight'\n",
        "!gcloud config set project {project_id}"
      ],
      "metadata": {
        "colab": {
          "base_uri": "https://localhost:8080/"
        },
        "id": "vqykMEyd5H0y",
        "outputId": "edd59b78-87c3-46bf-a11d-ed20a6748827"
      },
      "execution_count": null,
      "outputs": [
        {
          "output_type": "stream",
          "name": "stdout",
          "text": [
            "Updated property [core/project].\n"
          ]
        }
      ]
    },
    {
      "cell_type": "markdown",
      "source": [
        "## Download the file from GCP cloud storage and read it as dataframe\n",
        "\n",
        "\n",
        "> Change the required input file path \n",
        "\n"
      ],
      "metadata": {
        "id": "xzDAZVEUb6bF"
      }
    },
    {
      "cell_type": "code",
      "source": [
        "# Download the file from a given Google Cloud Storage bucket\n",
        "!gsutil cp gs://triple-draw/stage_feature_metrics/organization_13/features_13_20220303-225858933.csv /tmp/features_13_20220303-225858933.csv\n",
        "  \n",
        "# Read the csv file in dataframe\n",
        "df_all_metrics = pd.read_csv(\"/tmp/features_13_20220303-225858933.csv\")"
      ],
      "metadata": {
        "colab": {
          "base_uri": "https://localhost:8080/"
        },
        "id": "pky6F1xyb5-p",
        "outputId": "a5f1f7a9-c1c1-4095-d620-9b235babcef5"
      },
      "execution_count": null,
      "outputs": [
        {
          "output_type": "stream",
          "name": "stdout",
          "text": [
            "Copying gs://triple-draw/stage_feature_metrics/organization_13/features_13_20220303-225858933.csv...\n",
            "/ [0 files][    0.0 B/  1.6 MiB]                                                \r/ [1 files][  1.6 MiB/  1.6 MiB]                                                \r\n",
            "Operation completed over 1 objects/1.6 MiB.                                      \n"
          ]
        }
      ]
    },
    {
      "cell_type": "markdown",
      "source": [
        "## Preprocess the input metrics"
      ],
      "metadata": {
        "id": "sVBpxmTXKrQp"
      }
    },
    {
      "cell_type": "code",
      "source": [
        "df_all_metrics.head()"
      ],
      "metadata": {
        "colab": {
          "base_uri": "https://localhost:8080/"
        },
        "id": "5FWUcJ8849vW",
        "outputId": "9a60801d-fab3-45f2-fda7-3152faf1196a"
      },
      "execution_count": null,
      "outputs": [
        {
          "output_type": "execute_result",
          "data": {
            "text/plain": [
              "   organization_id  account_id  opportunity_id start_date    end_date  \\\n",
              "0               13    20545198          386023  7/23/2020  12/21/2020   \n",
              "1               13    20545198          386023  7/23/2020  12/21/2020   \n",
              "2               13    20545198          386023  7/23/2020  12/21/2020   \n",
              "3               13    20545198          386023  7/23/2020  12/21/2020   \n",
              "4               13    20545198          386023  7/23/2020  12/21/2020   \n",
              "\n",
              "    stage_name stage_start_date stage_end_date did_progress  \\\n",
              "0          SQL        7/23/2020      7/29/2020         True   \n",
              "1     Proposal        7/29/2020      11/9/2020        False   \n",
              "2  Closed Lost        11/9/2020     11/19/2020        False   \n",
              "3     Proposal       11/19/2020     12/10/2020         True   \n",
              "4    Negotiate       12/10/2020     12/21/2020         True   \n",
              "\n",
              "  activity_start_date activity_end_date  time_in_stage  total_num_of_contacts  \\\n",
              "0           7/23/2020         7/29/2020       6.144074                      1   \n",
              "1           7/23/2020         11/9/2020     102.823299                      1   \n",
              "2           7/23/2020        11/19/2020      10.238762                      1   \n",
              "3           7/23/2020        12/10/2020      21.163148                      1   \n",
              "4           7/23/2020        12/21/2020      10.701100                      1   \n",
              "\n",
              "   rep_response_time_mean  prospect_response_time_mean  \\\n",
              "0                     NaN                          NaN   \n",
              "1                1.710776                     2.831102   \n",
              "2                1.591595                     8.969625   \n",
              "3                1.710776                     2.831102   \n",
              "4                1.488500                     2.543732   \n",
              "\n",
              "   rep_followup_time_mean  word_count_mean  flesch_kincaid_grade_mean  \\\n",
              "0                     NaN        28.000000                   2.500000   \n",
              "1                0.130428        95.500000                   5.046677   \n",
              "2               25.400266        83.200000                   4.527341   \n",
              "3                7.242310        76.769231                   4.721162   \n",
              "4                6.481075        71.656250                   4.668330   \n",
              "\n",
              "   daily_activity_velocity  daily_email_velocity  daily_outbound_velocity  \\\n",
              "0                 0.651034              0.162758                 0.162758   \n",
              "1                 0.192718              0.128479                 0.073416   \n",
              "2                 0.209721              0.150999                 0.083888   \n",
              "3                 0.391824              0.341955                 0.185226   \n",
              "4                 0.436882              0.390546                 0.211822   \n",
              "\n",
              "   daily_inbound_velocity  daily_call_velocity  daily_meeting_velocity  \\\n",
              "0                0.000000             0.162758                0.325517   \n",
              "1                0.055062             0.027531                0.036708   \n",
              "2                0.067111             0.025166                0.033555   \n",
              "3                0.156729             0.021372                0.028496   \n",
              "4                0.178725             0.019858                0.026478   \n",
              "\n",
              "   daily_sms_velocity  daily_linkedin_velocity  daily_task_velocity  \\\n",
              "0                   0                      0.0             0.000000   \n",
              "1                   0                      0.0             0.018354   \n",
              "2                   0                      0.0             0.016778   \n",
              "3                   0                      0.0             0.014248   \n",
              "4                   0                      0.0             0.013239   \n",
              "\n",
              "  starting_stage  stage_num_movements  stage_num_progress  stage_num_skipped  \\\n",
              "0            SQL                    0                   0                  0   \n",
              "1            SQL                    1                   0                  1   \n",
              "2            SQL                    2                   0                  1   \n",
              "3            SQL                    3                   0                  1   \n",
              "4            SQL                    4                   1                  1   \n",
              "\n",
              "   stage_avg_skip_size  stage_num_skipped_one  stage_num_skipped_many  \\\n",
              "0                  0.0                      0                       0   \n",
              "1                  3.0                      0                       1   \n",
              "2                  3.0                      0                       1   \n",
              "3                  3.0                      0                       1   \n",
              "4                  3.0                      0                       1   \n",
              "\n",
              "   stage_num_backward  stage_num_reopened  stage_num_closed first_close_date  \\\n",
              "0                   0                   0                 0        9/30/2020   \n",
              "1                   0                   0                 0        9/30/2020   \n",
              "2                   0                   0                 1        9/30/2020   \n",
              "3                   0                   1                 1        9/30/2020   \n",
              "4                   0                   1                 1        9/30/2020   \n",
              "\n",
              "  last_mid_stage_close_date last_close_date  close_date_movements  \\\n",
              "0                12/21/2020      12/21/2020                     1   \n",
              "1                12/21/2020      12/21/2020                     4   \n",
              "2                12/21/2020      12/21/2020                     4   \n",
              "3                12/21/2020      12/21/2020                     6   \n",
              "4                12/21/2020      12/21/2020                     9   \n",
              "\n",
              "   close_date_push_out_count  close_date_pull_in_count  \\\n",
              "0                          1                         0   \n",
              "1                          3                         1   \n",
              "2                          3                         1   \n",
              "3                          4                         2   \n",
              "4                          6                         3   \n",
              "\n",
              "   close_date_max_push_out  close_date_avg_push_out  close_date_max_pull_in  \\\n",
              "0                       61                61.000000                       0   \n",
              "1                       61                51.000000                      61   \n",
              "2                       61                51.000000                      61   \n",
              "3                       61                41.000000                      61   \n",
              "4                       61                29.333333                      61   \n",
              "\n",
              "   close_date_avg_pull_in  close_date_max_movement  close_date_avg_movement  \\\n",
              "0                0.000000                       61                61.000000   \n",
              "1               61.000000                       61                53.500000   \n",
              "2               61.000000                       61                53.500000   \n",
              "3               46.000000                       61                42.666667   \n",
              "4               31.333333                       61                30.000000   \n",
              "\n",
              "   close_date_final_movement  close_date_total_mid_stage_movement  \\\n",
              "0                         82                                   82   \n",
              "1                         82                                   82   \n",
              "2                         82                                   82   \n",
              "3                         82                                   82   \n",
              "4                         82                                   82   \n",
              "\n",
              "   close_date_final_pull_in  close_date_final_push_out  \\\n",
              "0                         0                         82   \n",
              "1                         0                         82   \n",
              "2                         0                         82   \n",
              "3                         0                         82   \n",
              "4                         0                         82   \n",
              "\n",
              "   close_date_total_mid_stage_pull_in  close_date_total_mid_stage_push_out  \\\n",
              "0                                   0                                   82   \n",
              "1                                   0                                   82   \n",
              "2                                   0                                   82   \n",
              "3                                   0                                   82   \n",
              "4                                   0                                   82   \n",
              "\n",
              "  min_close_date max_close_date          type  is_won  amount  \n",
              "0     11/30/2020     11/30/2020  New Business    True       0  \n",
              "1      9/30/2020     12/31/2020  New Business    True       0  \n",
              "2      9/30/2020     12/31/2020  New Business    True       0  \n",
              "3      9/30/2020     12/31/2020  New Business    True       0  \n",
              "4      9/30/2020     12/31/2020  New Business    True       0  "
            ],
            "text/html": [
              "\n",
              "  <div id=\"df-4b5e596f-6f9e-411e-ba1c-6a4f2fa99a13\">\n",
              "    <div class=\"colab-df-container\">\n",
              "      <div>\n",
              "<style scoped>\n",
              "    .dataframe tbody tr th:only-of-type {\n",
              "        vertical-align: middle;\n",
              "    }\n",
              "\n",
              "    .dataframe tbody tr th {\n",
              "        vertical-align: top;\n",
              "    }\n",
              "\n",
              "    .dataframe thead th {\n",
              "        text-align: right;\n",
              "    }\n",
              "</style>\n",
              "<table border=\"1\" class=\"dataframe\">\n",
              "  <thead>\n",
              "    <tr style=\"text-align: right;\">\n",
              "      <th></th>\n",
              "      <th>organization_id</th>\n",
              "      <th>account_id</th>\n",
              "      <th>opportunity_id</th>\n",
              "      <th>start_date</th>\n",
              "      <th>end_date</th>\n",
              "      <th>stage_name</th>\n",
              "      <th>stage_start_date</th>\n",
              "      <th>stage_end_date</th>\n",
              "      <th>did_progress</th>\n",
              "      <th>activity_start_date</th>\n",
              "      <th>activity_end_date</th>\n",
              "      <th>time_in_stage</th>\n",
              "      <th>total_num_of_contacts</th>\n",
              "      <th>rep_response_time_mean</th>\n",
              "      <th>prospect_response_time_mean</th>\n",
              "      <th>rep_followup_time_mean</th>\n",
              "      <th>word_count_mean</th>\n",
              "      <th>flesch_kincaid_grade_mean</th>\n",
              "      <th>daily_activity_velocity</th>\n",
              "      <th>daily_email_velocity</th>\n",
              "      <th>daily_outbound_velocity</th>\n",
              "      <th>daily_inbound_velocity</th>\n",
              "      <th>daily_call_velocity</th>\n",
              "      <th>daily_meeting_velocity</th>\n",
              "      <th>daily_sms_velocity</th>\n",
              "      <th>daily_linkedin_velocity</th>\n",
              "      <th>daily_task_velocity</th>\n",
              "      <th>starting_stage</th>\n",
              "      <th>stage_num_movements</th>\n",
              "      <th>stage_num_progress</th>\n",
              "      <th>stage_num_skipped</th>\n",
              "      <th>stage_avg_skip_size</th>\n",
              "      <th>stage_num_skipped_one</th>\n",
              "      <th>stage_num_skipped_many</th>\n",
              "      <th>stage_num_backward</th>\n",
              "      <th>stage_num_reopened</th>\n",
              "      <th>stage_num_closed</th>\n",
              "      <th>first_close_date</th>\n",
              "      <th>last_mid_stage_close_date</th>\n",
              "      <th>last_close_date</th>\n",
              "      <th>close_date_movements</th>\n",
              "      <th>close_date_push_out_count</th>\n",
              "      <th>close_date_pull_in_count</th>\n",
              "      <th>close_date_max_push_out</th>\n",
              "      <th>close_date_avg_push_out</th>\n",
              "      <th>close_date_max_pull_in</th>\n",
              "      <th>close_date_avg_pull_in</th>\n",
              "      <th>close_date_max_movement</th>\n",
              "      <th>close_date_avg_movement</th>\n",
              "      <th>close_date_final_movement</th>\n",
              "      <th>close_date_total_mid_stage_movement</th>\n",
              "      <th>close_date_final_pull_in</th>\n",
              "      <th>close_date_final_push_out</th>\n",
              "      <th>close_date_total_mid_stage_pull_in</th>\n",
              "      <th>close_date_total_mid_stage_push_out</th>\n",
              "      <th>min_close_date</th>\n",
              "      <th>max_close_date</th>\n",
              "      <th>type</th>\n",
              "      <th>is_won</th>\n",
              "      <th>amount</th>\n",
              "    </tr>\n",
              "  </thead>\n",
              "  <tbody>\n",
              "    <tr>\n",
              "      <th>0</th>\n",
              "      <td>13</td>\n",
              "      <td>20545198</td>\n",
              "      <td>386023</td>\n",
              "      <td>7/23/2020</td>\n",
              "      <td>12/21/2020</td>\n",
              "      <td>SQL</td>\n",
              "      <td>7/23/2020</td>\n",
              "      <td>7/29/2020</td>\n",
              "      <td>True</td>\n",
              "      <td>7/23/2020</td>\n",
              "      <td>7/29/2020</td>\n",
              "      <td>6.144074</td>\n",
              "      <td>1</td>\n",
              "      <td>NaN</td>\n",
              "      <td>NaN</td>\n",
              "      <td>NaN</td>\n",
              "      <td>28.000000</td>\n",
              "      <td>2.500000</td>\n",
              "      <td>0.651034</td>\n",
              "      <td>0.162758</td>\n",
              "      <td>0.162758</td>\n",
              "      <td>0.000000</td>\n",
              "      <td>0.162758</td>\n",
              "      <td>0.325517</td>\n",
              "      <td>0</td>\n",
              "      <td>0.0</td>\n",
              "      <td>0.000000</td>\n",
              "      <td>SQL</td>\n",
              "      <td>0</td>\n",
              "      <td>0</td>\n",
              "      <td>0</td>\n",
              "      <td>0.0</td>\n",
              "      <td>0</td>\n",
              "      <td>0</td>\n",
              "      <td>0</td>\n",
              "      <td>0</td>\n",
              "      <td>0</td>\n",
              "      <td>9/30/2020</td>\n",
              "      <td>12/21/2020</td>\n",
              "      <td>12/21/2020</td>\n",
              "      <td>1</td>\n",
              "      <td>1</td>\n",
              "      <td>0</td>\n",
              "      <td>61</td>\n",
              "      <td>61.000000</td>\n",
              "      <td>0</td>\n",
              "      <td>0.000000</td>\n",
              "      <td>61</td>\n",
              "      <td>61.000000</td>\n",
              "      <td>82</td>\n",
              "      <td>82</td>\n",
              "      <td>0</td>\n",
              "      <td>82</td>\n",
              "      <td>0</td>\n",
              "      <td>82</td>\n",
              "      <td>11/30/2020</td>\n",
              "      <td>11/30/2020</td>\n",
              "      <td>New Business</td>\n",
              "      <td>True</td>\n",
              "      <td>0</td>\n",
              "    </tr>\n",
              "    <tr>\n",
              "      <th>1</th>\n",
              "      <td>13</td>\n",
              "      <td>20545198</td>\n",
              "      <td>386023</td>\n",
              "      <td>7/23/2020</td>\n",
              "      <td>12/21/2020</td>\n",
              "      <td>Proposal</td>\n",
              "      <td>7/29/2020</td>\n",
              "      <td>11/9/2020</td>\n",
              "      <td>False</td>\n",
              "      <td>7/23/2020</td>\n",
              "      <td>11/9/2020</td>\n",
              "      <td>102.823299</td>\n",
              "      <td>1</td>\n",
              "      <td>1.710776</td>\n",
              "      <td>2.831102</td>\n",
              "      <td>0.130428</td>\n",
              "      <td>95.500000</td>\n",
              "      <td>5.046677</td>\n",
              "      <td>0.192718</td>\n",
              "      <td>0.128479</td>\n",
              "      <td>0.073416</td>\n",
              "      <td>0.055062</td>\n",
              "      <td>0.027531</td>\n",
              "      <td>0.036708</td>\n",
              "      <td>0</td>\n",
              "      <td>0.0</td>\n",
              "      <td>0.018354</td>\n",
              "      <td>SQL</td>\n",
              "      <td>1</td>\n",
              "      <td>0</td>\n",
              "      <td>1</td>\n",
              "      <td>3.0</td>\n",
              "      <td>0</td>\n",
              "      <td>1</td>\n",
              "      <td>0</td>\n",
              "      <td>0</td>\n",
              "      <td>0</td>\n",
              "      <td>9/30/2020</td>\n",
              "      <td>12/21/2020</td>\n",
              "      <td>12/21/2020</td>\n",
              "      <td>4</td>\n",
              "      <td>3</td>\n",
              "      <td>1</td>\n",
              "      <td>61</td>\n",
              "      <td>51.000000</td>\n",
              "      <td>61</td>\n",
              "      <td>61.000000</td>\n",
              "      <td>61</td>\n",
              "      <td>53.500000</td>\n",
              "      <td>82</td>\n",
              "      <td>82</td>\n",
              "      <td>0</td>\n",
              "      <td>82</td>\n",
              "      <td>0</td>\n",
              "      <td>82</td>\n",
              "      <td>9/30/2020</td>\n",
              "      <td>12/31/2020</td>\n",
              "      <td>New Business</td>\n",
              "      <td>True</td>\n",
              "      <td>0</td>\n",
              "    </tr>\n",
              "    <tr>\n",
              "      <th>2</th>\n",
              "      <td>13</td>\n",
              "      <td>20545198</td>\n",
              "      <td>386023</td>\n",
              "      <td>7/23/2020</td>\n",
              "      <td>12/21/2020</td>\n",
              "      <td>Closed Lost</td>\n",
              "      <td>11/9/2020</td>\n",
              "      <td>11/19/2020</td>\n",
              "      <td>False</td>\n",
              "      <td>7/23/2020</td>\n",
              "      <td>11/19/2020</td>\n",
              "      <td>10.238762</td>\n",
              "      <td>1</td>\n",
              "      <td>1.591595</td>\n",
              "      <td>8.969625</td>\n",
              "      <td>25.400266</td>\n",
              "      <td>83.200000</td>\n",
              "      <td>4.527341</td>\n",
              "      <td>0.209721</td>\n",
              "      <td>0.150999</td>\n",
              "      <td>0.083888</td>\n",
              "      <td>0.067111</td>\n",
              "      <td>0.025166</td>\n",
              "      <td>0.033555</td>\n",
              "      <td>0</td>\n",
              "      <td>0.0</td>\n",
              "      <td>0.016778</td>\n",
              "      <td>SQL</td>\n",
              "      <td>2</td>\n",
              "      <td>0</td>\n",
              "      <td>1</td>\n",
              "      <td>3.0</td>\n",
              "      <td>0</td>\n",
              "      <td>1</td>\n",
              "      <td>0</td>\n",
              "      <td>0</td>\n",
              "      <td>1</td>\n",
              "      <td>9/30/2020</td>\n",
              "      <td>12/21/2020</td>\n",
              "      <td>12/21/2020</td>\n",
              "      <td>4</td>\n",
              "      <td>3</td>\n",
              "      <td>1</td>\n",
              "      <td>61</td>\n",
              "      <td>51.000000</td>\n",
              "      <td>61</td>\n",
              "      <td>61.000000</td>\n",
              "      <td>61</td>\n",
              "      <td>53.500000</td>\n",
              "      <td>82</td>\n",
              "      <td>82</td>\n",
              "      <td>0</td>\n",
              "      <td>82</td>\n",
              "      <td>0</td>\n",
              "      <td>82</td>\n",
              "      <td>9/30/2020</td>\n",
              "      <td>12/31/2020</td>\n",
              "      <td>New Business</td>\n",
              "      <td>True</td>\n",
              "      <td>0</td>\n",
              "    </tr>\n",
              "    <tr>\n",
              "      <th>3</th>\n",
              "      <td>13</td>\n",
              "      <td>20545198</td>\n",
              "      <td>386023</td>\n",
              "      <td>7/23/2020</td>\n",
              "      <td>12/21/2020</td>\n",
              "      <td>Proposal</td>\n",
              "      <td>11/19/2020</td>\n",
              "      <td>12/10/2020</td>\n",
              "      <td>True</td>\n",
              "      <td>7/23/2020</td>\n",
              "      <td>12/10/2020</td>\n",
              "      <td>21.163148</td>\n",
              "      <td>1</td>\n",
              "      <td>1.710776</td>\n",
              "      <td>2.831102</td>\n",
              "      <td>7.242310</td>\n",
              "      <td>76.769231</td>\n",
              "      <td>4.721162</td>\n",
              "      <td>0.391824</td>\n",
              "      <td>0.341955</td>\n",
              "      <td>0.185226</td>\n",
              "      <td>0.156729</td>\n",
              "      <td>0.021372</td>\n",
              "      <td>0.028496</td>\n",
              "      <td>0</td>\n",
              "      <td>0.0</td>\n",
              "      <td>0.014248</td>\n",
              "      <td>SQL</td>\n",
              "      <td>3</td>\n",
              "      <td>0</td>\n",
              "      <td>1</td>\n",
              "      <td>3.0</td>\n",
              "      <td>0</td>\n",
              "      <td>1</td>\n",
              "      <td>0</td>\n",
              "      <td>1</td>\n",
              "      <td>1</td>\n",
              "      <td>9/30/2020</td>\n",
              "      <td>12/21/2020</td>\n",
              "      <td>12/21/2020</td>\n",
              "      <td>6</td>\n",
              "      <td>4</td>\n",
              "      <td>2</td>\n",
              "      <td>61</td>\n",
              "      <td>41.000000</td>\n",
              "      <td>61</td>\n",
              "      <td>46.000000</td>\n",
              "      <td>61</td>\n",
              "      <td>42.666667</td>\n",
              "      <td>82</td>\n",
              "      <td>82</td>\n",
              "      <td>0</td>\n",
              "      <td>82</td>\n",
              "      <td>0</td>\n",
              "      <td>82</td>\n",
              "      <td>9/30/2020</td>\n",
              "      <td>12/31/2020</td>\n",
              "      <td>New Business</td>\n",
              "      <td>True</td>\n",
              "      <td>0</td>\n",
              "    </tr>\n",
              "    <tr>\n",
              "      <th>4</th>\n",
              "      <td>13</td>\n",
              "      <td>20545198</td>\n",
              "      <td>386023</td>\n",
              "      <td>7/23/2020</td>\n",
              "      <td>12/21/2020</td>\n",
              "      <td>Negotiate</td>\n",
              "      <td>12/10/2020</td>\n",
              "      <td>12/21/2020</td>\n",
              "      <td>True</td>\n",
              "      <td>7/23/2020</td>\n",
              "      <td>12/21/2020</td>\n",
              "      <td>10.701100</td>\n",
              "      <td>1</td>\n",
              "      <td>1.488500</td>\n",
              "      <td>2.543732</td>\n",
              "      <td>6.481075</td>\n",
              "      <td>71.656250</td>\n",
              "      <td>4.668330</td>\n",
              "      <td>0.436882</td>\n",
              "      <td>0.390546</td>\n",
              "      <td>0.211822</td>\n",
              "      <td>0.178725</td>\n",
              "      <td>0.019858</td>\n",
              "      <td>0.026478</td>\n",
              "      <td>0</td>\n",
              "      <td>0.0</td>\n",
              "      <td>0.013239</td>\n",
              "      <td>SQL</td>\n",
              "      <td>4</td>\n",
              "      <td>1</td>\n",
              "      <td>1</td>\n",
              "      <td>3.0</td>\n",
              "      <td>0</td>\n",
              "      <td>1</td>\n",
              "      <td>0</td>\n",
              "      <td>1</td>\n",
              "      <td>1</td>\n",
              "      <td>9/30/2020</td>\n",
              "      <td>12/21/2020</td>\n",
              "      <td>12/21/2020</td>\n",
              "      <td>9</td>\n",
              "      <td>6</td>\n",
              "      <td>3</td>\n",
              "      <td>61</td>\n",
              "      <td>29.333333</td>\n",
              "      <td>61</td>\n",
              "      <td>31.333333</td>\n",
              "      <td>61</td>\n",
              "      <td>30.000000</td>\n",
              "      <td>82</td>\n",
              "      <td>82</td>\n",
              "      <td>0</td>\n",
              "      <td>82</td>\n",
              "      <td>0</td>\n",
              "      <td>82</td>\n",
              "      <td>9/30/2020</td>\n",
              "      <td>12/31/2020</td>\n",
              "      <td>New Business</td>\n",
              "      <td>True</td>\n",
              "      <td>0</td>\n",
              "    </tr>\n",
              "  </tbody>\n",
              "</table>\n",
              "</div>\n",
              "      <button class=\"colab-df-convert\" onclick=\"convertToInteractive('df-4b5e596f-6f9e-411e-ba1c-6a4f2fa99a13')\"\n",
              "              title=\"Convert this dataframe to an interactive table.\"\n",
              "              style=\"display:none;\">\n",
              "        \n",
              "  <svg xmlns=\"http://www.w3.org/2000/svg\" height=\"24px\"viewBox=\"0 0 24 24\"\n",
              "       width=\"24px\">\n",
              "    <path d=\"M0 0h24v24H0V0z\" fill=\"none\"/>\n",
              "    <path d=\"M18.56 5.44l.94 2.06.94-2.06 2.06-.94-2.06-.94-.94-2.06-.94 2.06-2.06.94zm-11 1L8.5 8.5l.94-2.06 2.06-.94-2.06-.94L8.5 2.5l-.94 2.06-2.06.94zm10 10l.94 2.06.94-2.06 2.06-.94-2.06-.94-.94-2.06-.94 2.06-2.06.94z\"/><path d=\"M17.41 7.96l-1.37-1.37c-.4-.4-.92-.59-1.43-.59-.52 0-1.04.2-1.43.59L10.3 9.45l-7.72 7.72c-.78.78-.78 2.05 0 2.83L4 21.41c.39.39.9.59 1.41.59.51 0 1.02-.2 1.41-.59l7.78-7.78 2.81-2.81c.8-.78.8-2.07 0-2.86zM5.41 20L4 18.59l7.72-7.72 1.47 1.35L5.41 20z\"/>\n",
              "  </svg>\n",
              "      </button>\n",
              "      \n",
              "  <style>\n",
              "    .colab-df-container {\n",
              "      display:flex;\n",
              "      flex-wrap:wrap;\n",
              "      gap: 12px;\n",
              "    }\n",
              "\n",
              "    .colab-df-convert {\n",
              "      background-color: #E8F0FE;\n",
              "      border: none;\n",
              "      border-radius: 50%;\n",
              "      cursor: pointer;\n",
              "      display: none;\n",
              "      fill: #1967D2;\n",
              "      height: 32px;\n",
              "      padding: 0 0 0 0;\n",
              "      width: 32px;\n",
              "    }\n",
              "\n",
              "    .colab-df-convert:hover {\n",
              "      background-color: #E2EBFA;\n",
              "      box-shadow: 0px 1px 2px rgba(60, 64, 67, 0.3), 0px 1px 3px 1px rgba(60, 64, 67, 0.15);\n",
              "      fill: #174EA6;\n",
              "    }\n",
              "\n",
              "    [theme=dark] .colab-df-convert {\n",
              "      background-color: #3B4455;\n",
              "      fill: #D2E3FC;\n",
              "    }\n",
              "\n",
              "    [theme=dark] .colab-df-convert:hover {\n",
              "      background-color: #434B5C;\n",
              "      box-shadow: 0px 1px 3px 1px rgba(0, 0, 0, 0.15);\n",
              "      filter: drop-shadow(0px 1px 2px rgba(0, 0, 0, 0.3));\n",
              "      fill: #FFFFFF;\n",
              "    }\n",
              "  </style>\n",
              "\n",
              "      <script>\n",
              "        const buttonEl =\n",
              "          document.querySelector('#df-4b5e596f-6f9e-411e-ba1c-6a4f2fa99a13 button.colab-df-convert');\n",
              "        buttonEl.style.display =\n",
              "          google.colab.kernel.accessAllowed ? 'block' : 'none';\n",
              "\n",
              "        async function convertToInteractive(key) {\n",
              "          const element = document.querySelector('#df-4b5e596f-6f9e-411e-ba1c-6a4f2fa99a13');\n",
              "          const dataTable =\n",
              "            await google.colab.kernel.invokeFunction('convertToInteractive',\n",
              "                                                     [key], {});\n",
              "          if (!dataTable) return;\n",
              "\n",
              "          const docLinkHtml = 'Like what you see? Visit the ' +\n",
              "            '<a target=\"_blank\" href=https://colab.research.google.com/notebooks/data_table.ipynb>data table notebook</a>'\n",
              "            + ' to learn more about interactive tables.';\n",
              "          element.innerHTML = '';\n",
              "          dataTable['output_type'] = 'display_data';\n",
              "          await google.colab.output.renderOutput(dataTable, element);\n",
              "          const docLink = document.createElement('div');\n",
              "          docLink.innerHTML = docLinkHtml;\n",
              "          element.appendChild(docLink);\n",
              "        }\n",
              "      </script>\n",
              "    </div>\n",
              "  </div>\n",
              "  "
            ]
          },
          "metadata": {},
          "execution_count": 19
        }
      ]
    },
    {
      "cell_type": "code",
      "source": [
        "# Verify data points for each stage\n",
        "df_group1 = df_all_metrics.groupby(['stage_name'])['did_progress'].value_counts()\n",
        "df_group1"
      ],
      "metadata": {
        "id": "D0tGmoARz8Xt",
        "colab": {
          "base_uri": "https://localhost:8080/"
        },
        "outputId": "50e53e90-10f6-40d2-81cc-e3ecf743040f"
      },
      "execution_count": null,
      "outputs": [
        {
          "output_type": "execute_result",
          "data": {
            "text/plain": [
              "stage_name   did_progress\n",
              "Closed Lost  False            10\n",
              "Closed Won   False             9\n",
              "Discover     True              1\n",
              "Negotiate    True            143\n",
              "             False           102\n",
              "Pitch        True            240\n",
              "             False           181\n",
              "Proposal     False           290\n",
              "             True            244\n",
              "Prospect     False           228\n",
              "             True            183\n",
              "Qualify      True              2\n",
              "SQL          True            424\n",
              "             False           134\n",
              "Signatures   True            186\n",
              "             False            59\n",
              "Name: did_progress, dtype: int64"
            ]
          },
          "metadata": {},
          "execution_count": 20
        }
      ]
    },
    {
      "cell_type": "code",
      "source": [
        "# Remove unwanted stages, stage 0 is pre opportunity stage and out of scope for this project\n",
        "stages_to_be_removed = ['Closed Won','Closed Lost','Stage 0', 'New Partner', 'Closed', 'Nurture', 'Trial', 'Verbal Agreement', 'Active Leads', 'Prospects', 'Proposal Sent']\n",
        "df_all_metrics = df_all_metrics[~df_all_metrics[\"stage_name\"].isin(stages_to_be_removed)]"
      ],
      "metadata": {
        "id": "9D5d9x5OveVZ"
      },
      "execution_count": null,
      "outputs": []
    },
    {
      "cell_type": "code",
      "source": [
        "df_all_metrics.shape"
      ],
      "metadata": {
        "id": "xLC6acS0kjDc",
        "colab": {
          "base_uri": "https://localhost:8080/"
        },
        "outputId": "5a0e3024-f364-49ec-f930-38e75fb75ad8"
      },
      "execution_count": null,
      "outputs": [
        {
          "output_type": "execute_result",
          "data": {
            "text/plain": [
              "(2417, 60)"
            ]
          },
          "metadata": {},
          "execution_count": 22
        }
      ]
    },
    {
      "cell_type": "code",
      "source": [
        "# Verify there should not be any nan/null in did_progress\n",
        "df11 = df_all_metrics[df_all_metrics['did_progress'].isna()]\n",
        "df11.shape"
      ],
      "metadata": {
        "id": "gnoBSurVPSh4",
        "colab": {
          "base_uri": "https://localhost:8080/"
        },
        "outputId": "ec634dd4-2fbf-4cb1-c095-23f231bc3e9e"
      },
      "execution_count": null,
      "outputs": [
        {
          "output_type": "execute_result",
          "data": {
            "text/plain": [
              "(0, 60)"
            ]
          },
          "metadata": {},
          "execution_count": 23
        }
      ]
    },
    {
      "cell_type": "code",
      "source": [
        "# Verify which metrics have null values and sum of it\n",
        "df_all_metrics.isnull().sum()"
      ],
      "metadata": {
        "id": "PyXsC5biTO_E",
        "colab": {
          "base_uri": "https://localhost:8080/"
        },
        "outputId": "b8b848c4-a6d1-4da0-d55b-d0e83ae4d1f0"
      },
      "execution_count": null,
      "outputs": [
        {
          "output_type": "execute_result",
          "data": {
            "text/plain": [
              "organization_id                           0\n",
              "account_id                                0\n",
              "opportunity_id                            0\n",
              "start_date                                0\n",
              "end_date                                  0\n",
              "stage_name                                0\n",
              "stage_start_date                          0\n",
              "stage_end_date                            0\n",
              "did_progress                              0\n",
              "activity_start_date                     754\n",
              "activity_end_date                       754\n",
              "time_in_stage                             0\n",
              "total_num_of_contacts                     0\n",
              "rep_response_time_mean                 1344\n",
              "prospect_response_time_mean            1270\n",
              "rep_followup_time_mean                 1334\n",
              "word_count_mean                         795\n",
              "flesch_kincaid_grade_mean               799\n",
              "daily_activity_velocity                   0\n",
              "daily_email_velocity                      0\n",
              "daily_outbound_velocity                   0\n",
              "daily_inbound_velocity                    0\n",
              "daily_call_velocity                       0\n",
              "daily_meeting_velocity                    0\n",
              "daily_sms_velocity                        0\n",
              "daily_linkedin_velocity                   0\n",
              "daily_task_velocity                       0\n",
              "starting_stage                            0\n",
              "stage_num_movements                       0\n",
              "stage_num_progress                        0\n",
              "stage_num_skipped                         0\n",
              "stage_avg_skip_size                       0\n",
              "stage_num_skipped_one                     0\n",
              "stage_num_skipped_many                    0\n",
              "stage_num_backward                        0\n",
              "stage_num_reopened                        0\n",
              "stage_num_closed                          0\n",
              "first_close_date                        806\n",
              "last_mid_stage_close_date               806\n",
              "last_close_date                         806\n",
              "close_date_movements                      0\n",
              "close_date_push_out_count                 0\n",
              "close_date_pull_in_count                  0\n",
              "close_date_max_push_out                   0\n",
              "close_date_avg_push_out                   0\n",
              "close_date_max_pull_in                    0\n",
              "close_date_avg_pull_in                    0\n",
              "close_date_max_movement                   0\n",
              "close_date_avg_movement                   0\n",
              "close_date_final_movement                 0\n",
              "close_date_total_mid_stage_movement       0\n",
              "close_date_final_pull_in                  0\n",
              "close_date_final_push_out                 0\n",
              "close_date_total_mid_stage_pull_in        0\n",
              "close_date_total_mid_stage_push_out       0\n",
              "min_close_date                          806\n",
              "max_close_date                          806\n",
              "type                                      0\n",
              "is_won                                    0\n",
              "amount                                    0\n",
              "dtype: int64"
            ]
          },
          "metadata": {},
          "execution_count": 24
        }
      ]
    },
    {
      "cell_type": "code",
      "source": [
        "# Drop is_won(opportunity level success) and rename did_progress(stage progress success criteria)\n",
        "df_all_metrics.drop(['is_won'], axis=1, inplace=True)\n",
        "df_all_metrics.rename(columns={\"did_progress\": \"is_won\"}, inplace=True)"
      ],
      "metadata": {
        "id": "LvDhDr5Xd15j"
      },
      "execution_count": null,
      "outputs": []
    },
    {
      "cell_type": "markdown",
      "source": [
        "## Select stage and metrics"
      ],
      "metadata": {
        "id": "_brHjDEibXVP"
      }
    },
    {
      "cell_type": "code",
      "source": [
        "# Select the stage\n",
        "df_all_metrics = df_all_metrics[df_all_metrics['stage_name']=='Negotiate']"
      ],
      "metadata": {
        "id": "y1BW1j6WU4Hr"
      },
      "execution_count": null,
      "outputs": []
    },
    {
      "cell_type": "code",
      "source": [
        "df_metrics = df_all_metrics[[ \n",
        "               'daily_activity_velocity', \n",
        "               'daily_meeting_velocity',\n",
        "               'daily_call_velocity',\n",
        "               'daily_inbound_velocity',\n",
        "               'daily_outbound_velocity',  \n",
        "\n",
        "               'rep_response_time_mean',\n",
        "               'prospect_response_time_mean',\n",
        "               'rep_followup_time_mean',\n",
        "            \n",
        "               'word_count_mean', \n",
        "               'flesch_kincaid_grade_mean',\t\n",
        "               \"total_num_of_contacts\",\t\n",
        "\n",
        "               'time_in_stage', \n",
        "\n",
        "               'stage_avg_skip_size',\n",
        "               'stage_num_backward', \n",
        "               'stage_num_reopened',\n",
        "               'stage_num_skipped_many',\n",
        "              \n",
        "               'close_date_avg_push_out',\n",
        "               'close_date_avg_pull_in',\n",
        "               'close_date_push_out_count',\n",
        "               'close_date_pull_in_count', \n",
        "               'close_date_total_mid_stage_pull_in',\n",
        "               'close_date_total_mid_stage_push_out',\n",
        "              \n",
        "               'stage_name',\n",
        "               'is_won']]\n",
        "              #,'verbal_agreement'"
      ],
      "metadata": {
        "id": "5z-0taMYnSpI"
      },
      "execution_count": null,
      "outputs": []
    },
    {
      "cell_type": "code",
      "source": [
        "df_metrics.head()"
      ],
      "metadata": {
        "id": "ArETFGPyTYIS",
        "colab": {
          "base_uri": "https://localhost:8080/",
          "height": 270
        },
        "outputId": "ebc641d9-56fe-4f38-c040-dbcb3393b166"
      },
      "execution_count": null,
      "outputs": [
        {
          "output_type": "execute_result",
          "data": {
            "text/plain": [
              "    daily_activity_velocity  daily_meeting_velocity  daily_call_velocity  \\\n",
              "4                  0.436882                0.026478             0.019858   \n",
              "11                 0.323862                0.011168             0.061422   \n",
              "19                 0.168752                0.013323             0.000000   \n",
              "21                 0.281614                0.022149             0.009493   \n",
              "25                 0.203218                0.000000             0.064174   \n",
              "\n",
              "    daily_inbound_velocity  daily_outbound_velocity  rep_response_time_mean  \\\n",
              "4                 0.178725                 0.211822                1.488500   \n",
              "11                0.033503                 0.189850                2.228137   \n",
              "19                0.075494                 0.071054                1.026611   \n",
              "21                0.113911                 0.129732                1.026611   \n",
              "25                0.026739                 0.112305                8.693319   \n",
              "\n",
              "    prospect_response_time_mean  rep_followup_time_mean  word_count_mean  \\\n",
              "4                      2.543732                6.481075        71.656250   \n",
              "11                     0.837685               25.731281       112.617647   \n",
              "19                     3.646943                2.021871        51.437500   \n",
              "21                     3.646943                2.355764        48.146341   \n",
              "25                     0.823047                4.162533        54.000000   \n",
              "\n",
              "    flesch_kincaid_grade_mean  total_num_of_contacts  time_in_stage  \\\n",
              "4                    4.668330                      1      10.701100   \n",
              "11                   5.064550                      7      15.044109   \n",
              "19                   5.669231                      2       0.003681   \n",
              "21                   4.820760                      5      61.937257   \n",
              "25                   3.605186                      1      14.093507   \n",
              "\n",
              "    stage_avg_skip_size  stage_num_backward  stage_num_reopened  \\\n",
              "4                   3.0                   0                   1   \n",
              "11                  2.0                   0                   0   \n",
              "19                  2.0                   0                   0   \n",
              "21                  2.0                   1                   0   \n",
              "25                  2.0                   1                   0   \n",
              "\n",
              "    stage_num_skipped_many  close_date_avg_push_out  close_date_avg_pull_in  \\\n",
              "4                        1                29.333333               31.333333   \n",
              "11                       0                46.000000                0.000000   \n",
              "19                       0                61.000000                0.000000   \n",
              "21                       0                52.400000                0.000000   \n",
              "25                       0                48.400000               61.000000   \n",
              "\n",
              "    close_date_push_out_count  close_date_pull_in_count  \\\n",
              "4                           6                         3   \n",
              "11                          2                         0   \n",
              "19                          4                         0   \n",
              "21                          5                         0   \n",
              "25                          5                         1   \n",
              "\n",
              "    close_date_total_mid_stage_pull_in  close_date_total_mid_stage_push_out  \\\n",
              "4                                    0                                   82   \n",
              "11                                   0                                   92   \n",
              "19                                   0                                  262   \n",
              "21                                   0                                  262   \n",
              "25                                   0                                  181   \n",
              "\n",
              "   stage_name is_won  \n",
              "4   Negotiate   True  \n",
              "11  Negotiate  False  \n",
              "19  Negotiate  False  \n",
              "21  Negotiate   True  \n",
              "25  Negotiate  False  "
            ],
            "text/html": [
              "\n",
              "  <div id=\"df-fbee2475-4bd7-4245-93f2-e704700dd126\">\n",
              "    <div class=\"colab-df-container\">\n",
              "      <div>\n",
              "<style scoped>\n",
              "    .dataframe tbody tr th:only-of-type {\n",
              "        vertical-align: middle;\n",
              "    }\n",
              "\n",
              "    .dataframe tbody tr th {\n",
              "        vertical-align: top;\n",
              "    }\n",
              "\n",
              "    .dataframe thead th {\n",
              "        text-align: right;\n",
              "    }\n",
              "</style>\n",
              "<table border=\"1\" class=\"dataframe\">\n",
              "  <thead>\n",
              "    <tr style=\"text-align: right;\">\n",
              "      <th></th>\n",
              "      <th>daily_activity_velocity</th>\n",
              "      <th>daily_meeting_velocity</th>\n",
              "      <th>daily_call_velocity</th>\n",
              "      <th>daily_inbound_velocity</th>\n",
              "      <th>daily_outbound_velocity</th>\n",
              "      <th>rep_response_time_mean</th>\n",
              "      <th>prospect_response_time_mean</th>\n",
              "      <th>rep_followup_time_mean</th>\n",
              "      <th>word_count_mean</th>\n",
              "      <th>flesch_kincaid_grade_mean</th>\n",
              "      <th>total_num_of_contacts</th>\n",
              "      <th>time_in_stage</th>\n",
              "      <th>stage_avg_skip_size</th>\n",
              "      <th>stage_num_backward</th>\n",
              "      <th>stage_num_reopened</th>\n",
              "      <th>stage_num_skipped_many</th>\n",
              "      <th>close_date_avg_push_out</th>\n",
              "      <th>close_date_avg_pull_in</th>\n",
              "      <th>close_date_push_out_count</th>\n",
              "      <th>close_date_pull_in_count</th>\n",
              "      <th>close_date_total_mid_stage_pull_in</th>\n",
              "      <th>close_date_total_mid_stage_push_out</th>\n",
              "      <th>stage_name</th>\n",
              "      <th>is_won</th>\n",
              "    </tr>\n",
              "  </thead>\n",
              "  <tbody>\n",
              "    <tr>\n",
              "      <th>4</th>\n",
              "      <td>0.436882</td>\n",
              "      <td>0.026478</td>\n",
              "      <td>0.019858</td>\n",
              "      <td>0.178725</td>\n",
              "      <td>0.211822</td>\n",
              "      <td>1.488500</td>\n",
              "      <td>2.543732</td>\n",
              "      <td>6.481075</td>\n",
              "      <td>71.656250</td>\n",
              "      <td>4.668330</td>\n",
              "      <td>1</td>\n",
              "      <td>10.701100</td>\n",
              "      <td>3.0</td>\n",
              "      <td>0</td>\n",
              "      <td>1</td>\n",
              "      <td>1</td>\n",
              "      <td>29.333333</td>\n",
              "      <td>31.333333</td>\n",
              "      <td>6</td>\n",
              "      <td>3</td>\n",
              "      <td>0</td>\n",
              "      <td>82</td>\n",
              "      <td>Negotiate</td>\n",
              "      <td>True</td>\n",
              "    </tr>\n",
              "    <tr>\n",
              "      <th>11</th>\n",
              "      <td>0.323862</td>\n",
              "      <td>0.011168</td>\n",
              "      <td>0.061422</td>\n",
              "      <td>0.033503</td>\n",
              "      <td>0.189850</td>\n",
              "      <td>2.228137</td>\n",
              "      <td>0.837685</td>\n",
              "      <td>25.731281</td>\n",
              "      <td>112.617647</td>\n",
              "      <td>5.064550</td>\n",
              "      <td>7</td>\n",
              "      <td>15.044109</td>\n",
              "      <td>2.0</td>\n",
              "      <td>0</td>\n",
              "      <td>0</td>\n",
              "      <td>0</td>\n",
              "      <td>46.000000</td>\n",
              "      <td>0.000000</td>\n",
              "      <td>2</td>\n",
              "      <td>0</td>\n",
              "      <td>0</td>\n",
              "      <td>92</td>\n",
              "      <td>Negotiate</td>\n",
              "      <td>False</td>\n",
              "    </tr>\n",
              "    <tr>\n",
              "      <th>19</th>\n",
              "      <td>0.168752</td>\n",
              "      <td>0.013323</td>\n",
              "      <td>0.000000</td>\n",
              "      <td>0.075494</td>\n",
              "      <td>0.071054</td>\n",
              "      <td>1.026611</td>\n",
              "      <td>3.646943</td>\n",
              "      <td>2.021871</td>\n",
              "      <td>51.437500</td>\n",
              "      <td>5.669231</td>\n",
              "      <td>2</td>\n",
              "      <td>0.003681</td>\n",
              "      <td>2.0</td>\n",
              "      <td>0</td>\n",
              "      <td>0</td>\n",
              "      <td>0</td>\n",
              "      <td>61.000000</td>\n",
              "      <td>0.000000</td>\n",
              "      <td>4</td>\n",
              "      <td>0</td>\n",
              "      <td>0</td>\n",
              "      <td>262</td>\n",
              "      <td>Negotiate</td>\n",
              "      <td>False</td>\n",
              "    </tr>\n",
              "    <tr>\n",
              "      <th>21</th>\n",
              "      <td>0.281614</td>\n",
              "      <td>0.022149</td>\n",
              "      <td>0.009493</td>\n",
              "      <td>0.113911</td>\n",
              "      <td>0.129732</td>\n",
              "      <td>1.026611</td>\n",
              "      <td>3.646943</td>\n",
              "      <td>2.355764</td>\n",
              "      <td>48.146341</td>\n",
              "      <td>4.820760</td>\n",
              "      <td>5</td>\n",
              "      <td>61.937257</td>\n",
              "      <td>2.0</td>\n",
              "      <td>1</td>\n",
              "      <td>0</td>\n",
              "      <td>0</td>\n",
              "      <td>52.400000</td>\n",
              "      <td>0.000000</td>\n",
              "      <td>5</td>\n",
              "      <td>0</td>\n",
              "      <td>0</td>\n",
              "      <td>262</td>\n",
              "      <td>Negotiate</td>\n",
              "      <td>True</td>\n",
              "    </tr>\n",
              "    <tr>\n",
              "      <th>25</th>\n",
              "      <td>0.203218</td>\n",
              "      <td>0.000000</td>\n",
              "      <td>0.064174</td>\n",
              "      <td>0.026739</td>\n",
              "      <td>0.112305</td>\n",
              "      <td>8.693319</td>\n",
              "      <td>0.823047</td>\n",
              "      <td>4.162533</td>\n",
              "      <td>54.000000</td>\n",
              "      <td>3.605186</td>\n",
              "      <td>1</td>\n",
              "      <td>14.093507</td>\n",
              "      <td>2.0</td>\n",
              "      <td>1</td>\n",
              "      <td>0</td>\n",
              "      <td>0</td>\n",
              "      <td>48.400000</td>\n",
              "      <td>61.000000</td>\n",
              "      <td>5</td>\n",
              "      <td>1</td>\n",
              "      <td>0</td>\n",
              "      <td>181</td>\n",
              "      <td>Negotiate</td>\n",
              "      <td>False</td>\n",
              "    </tr>\n",
              "  </tbody>\n",
              "</table>\n",
              "</div>\n",
              "      <button class=\"colab-df-convert\" onclick=\"convertToInteractive('df-fbee2475-4bd7-4245-93f2-e704700dd126')\"\n",
              "              title=\"Convert this dataframe to an interactive table.\"\n",
              "              style=\"display:none;\">\n",
              "        \n",
              "  <svg xmlns=\"http://www.w3.org/2000/svg\" height=\"24px\"viewBox=\"0 0 24 24\"\n",
              "       width=\"24px\">\n",
              "    <path d=\"M0 0h24v24H0V0z\" fill=\"none\"/>\n",
              "    <path d=\"M18.56 5.44l.94 2.06.94-2.06 2.06-.94-2.06-.94-.94-2.06-.94 2.06-2.06.94zm-11 1L8.5 8.5l.94-2.06 2.06-.94-2.06-.94L8.5 2.5l-.94 2.06-2.06.94zm10 10l.94 2.06.94-2.06 2.06-.94-2.06-.94-.94-2.06-.94 2.06-2.06.94z\"/><path d=\"M17.41 7.96l-1.37-1.37c-.4-.4-.92-.59-1.43-.59-.52 0-1.04.2-1.43.59L10.3 9.45l-7.72 7.72c-.78.78-.78 2.05 0 2.83L4 21.41c.39.39.9.59 1.41.59.51 0 1.02-.2 1.41-.59l7.78-7.78 2.81-2.81c.8-.78.8-2.07 0-2.86zM5.41 20L4 18.59l7.72-7.72 1.47 1.35L5.41 20z\"/>\n",
              "  </svg>\n",
              "      </button>\n",
              "      \n",
              "  <style>\n",
              "    .colab-df-container {\n",
              "      display:flex;\n",
              "      flex-wrap:wrap;\n",
              "      gap: 12px;\n",
              "    }\n",
              "\n",
              "    .colab-df-convert {\n",
              "      background-color: #E8F0FE;\n",
              "      border: none;\n",
              "      border-radius: 50%;\n",
              "      cursor: pointer;\n",
              "      display: none;\n",
              "      fill: #1967D2;\n",
              "      height: 32px;\n",
              "      padding: 0 0 0 0;\n",
              "      width: 32px;\n",
              "    }\n",
              "\n",
              "    .colab-df-convert:hover {\n",
              "      background-color: #E2EBFA;\n",
              "      box-shadow: 0px 1px 2px rgba(60, 64, 67, 0.3), 0px 1px 3px 1px rgba(60, 64, 67, 0.15);\n",
              "      fill: #174EA6;\n",
              "    }\n",
              "\n",
              "    [theme=dark] .colab-df-convert {\n",
              "      background-color: #3B4455;\n",
              "      fill: #D2E3FC;\n",
              "    }\n",
              "\n",
              "    [theme=dark] .colab-df-convert:hover {\n",
              "      background-color: #434B5C;\n",
              "      box-shadow: 0px 1px 3px 1px rgba(0, 0, 0, 0.15);\n",
              "      filter: drop-shadow(0px 1px 2px rgba(0, 0, 0, 0.3));\n",
              "      fill: #FFFFFF;\n",
              "    }\n",
              "  </style>\n",
              "\n",
              "      <script>\n",
              "        const buttonEl =\n",
              "          document.querySelector('#df-fbee2475-4bd7-4245-93f2-e704700dd126 button.colab-df-convert');\n",
              "        buttonEl.style.display =\n",
              "          google.colab.kernel.accessAllowed ? 'block' : 'none';\n",
              "\n",
              "        async function convertToInteractive(key) {\n",
              "          const element = document.querySelector('#df-fbee2475-4bd7-4245-93f2-e704700dd126');\n",
              "          const dataTable =\n",
              "            await google.colab.kernel.invokeFunction('convertToInteractive',\n",
              "                                                     [key], {});\n",
              "          if (!dataTable) return;\n",
              "\n",
              "          const docLinkHtml = 'Like what you see? Visit the ' +\n",
              "            '<a target=\"_blank\" href=https://colab.research.google.com/notebooks/data_table.ipynb>data table notebook</a>'\n",
              "            + ' to learn more about interactive tables.';\n",
              "          element.innerHTML = '';\n",
              "          dataTable['output_type'] = 'display_data';\n",
              "          await google.colab.output.renderOutput(dataTable, element);\n",
              "          const docLink = document.createElement('div');\n",
              "          docLink.innerHTML = docLinkHtml;\n",
              "          element.appendChild(docLink);\n",
              "        }\n",
              "      </script>\n",
              "    </div>\n",
              "  </div>\n",
              "  "
            ]
          },
          "metadata": {},
          "execution_count": 28
        }
      ]
    },
    {
      "cell_type": "markdown",
      "source": [
        "## Impute missing values"
      ],
      "metadata": {
        "id": "vU-uKqM4bcne"
      }
    },
    {
      "cell_type": "code",
      "source": [
        "metrics_for_imputer = [ 'daily_activity_velocity', \n",
        "                        'daily_meeting_velocity',\n",
        "                        'daily_call_velocity',\n",
        "                        'daily_inbound_velocity',\n",
        "                        'daily_outbound_velocity',  \n",
        "\n",
        "                        'rep_response_time_mean',\n",
        "                        'prospect_response_time_mean',\n",
        "                        'rep_followup_time_mean',\n",
        "                      \n",
        "                        'word_count_mean', \n",
        "                        'flesch_kincaid_grade_mean',\t\n",
        "                        \"total_num_of_contacts\",\t\n",
        "\n",
        "                        'time_in_stage']"
      ],
      "metadata": {
        "id": "0dckkTSV2gBe"
      },
      "execution_count": null,
      "outputs": []
    },
    {
      "cell_type": "code",
      "source": [
        "from sklearn.impute import SimpleImputer\n",
        "\n",
        "imputer = SimpleImputer(missing_values=np.nan, strategy='median')\n",
        "imputer = imputer.fit(df_metrics.loc[:,metrics_for_imputer])\n",
        "\n",
        "df_metrics.loc[:,metrics_for_imputer] = imputer.transform(df_metrics.loc[:,metrics_for_imputer])\n",
        "#df_metrics.loc[:,metrics_for_imputer]"
      ],
      "metadata": {
        "id": "9qaFLUARKA0R"
      },
      "execution_count": null,
      "outputs": []
    },
    {
      "cell_type": "code",
      "source": [
        "# Save imputer pickle\n",
        "import pickle \n",
        "\n",
        "# Provide the GCP filepath where imputer needs to be saved\n",
        "filename = \"/tmp/new_Negotiation_8.pickle\"\n",
        "pickle.dump(imputer, open(filename, 'wb'))\n",
        "\n",
        "# Save imputer model to GCP\n",
        "!gsutil cp /tmp/new_Negotiation_8.pickle gs://triple-draw/stage_level_probability_model/model_artifacts/imputers/Negotiation_model.joblib"
      ],
      "metadata": {
        "id": "fRBCaIAGQdqL",
        "colab": {
          "base_uri": "https://localhost:8080/"
        },
        "outputId": "09946e3b-5759-420d-9663-707c30b5d46f"
      },
      "execution_count": null,
      "outputs": [
        {
          "output_type": "stream",
          "name": "stdout",
          "text": [
            "Copying file:///tmp/new_Negotiation_8.pickle [Content-Type=application/octet-stream]...\n",
            "/ [1 files][  962.0 B/  962.0 B]                                                \n",
            "Operation completed over 1 objects/962.0 B.                                      \n"
          ]
        }
      ]
    },
    {
      "cell_type": "code",
      "source": [
        "# Load imputer and test\n",
        "# np.set_printoptions(suppress=True)\n",
        "# loaded_imputer = pickle.load(open(filename, 'rb'))\n",
        "# result = loaded_imputer.transform([[np.nan,np.nan,0.019858,0.178725,np.nan,1.488500,2.543732,np.nan,np.nan,np.nan,np.nan,np.nan]])\n",
        "# print(result)"
      ],
      "metadata": {
        "id": "jOhAUisCQf0P"
      },
      "execution_count": null,
      "outputs": []
    },
    {
      "cell_type": "code",
      "source": [
        "df_metrics.shape"
      ],
      "metadata": {
        "id": "x5_HQRuCURul",
        "colab": {
          "base_uri": "https://localhost:8080/"
        },
        "outputId": "a38ebf1d-706f-4ee0-b214-e7fa5ea12bcd"
      },
      "execution_count": null,
      "outputs": [
        {
          "output_type": "execute_result",
          "data": {
            "text/plain": [
              "(245, 24)"
            ]
          },
          "metadata": {},
          "execution_count": 35
        }
      ]
    },
    {
      "cell_type": "code",
      "source": [
        "# Verify which metrics have null values and sum of it\n",
        "df_metrics.isnull().sum()"
      ],
      "metadata": {
        "id": "CFjbZHb-TpSz",
        "colab": {
          "base_uri": "https://localhost:8080/"
        },
        "outputId": "49ebf055-91d6-4045-a089-0e00248f34ae"
      },
      "execution_count": null,
      "outputs": [
        {
          "output_type": "execute_result",
          "data": {
            "text/plain": [
              "daily_activity_velocity                0\n",
              "daily_meeting_velocity                 0\n",
              "daily_call_velocity                    0\n",
              "daily_inbound_velocity                 0\n",
              "daily_outbound_velocity                0\n",
              "rep_response_time_mean                 0\n",
              "prospect_response_time_mean            0\n",
              "rep_followup_time_mean                 0\n",
              "word_count_mean                        0\n",
              "flesch_kincaid_grade_mean              0\n",
              "total_num_of_contacts                  0\n",
              "time_in_stage                          0\n",
              "stage_avg_skip_size                    0\n",
              "stage_num_backward                     0\n",
              "stage_num_reopened                     0\n",
              "stage_num_skipped_many                 0\n",
              "close_date_avg_push_out                0\n",
              "close_date_avg_pull_in                 0\n",
              "close_date_push_out_count              0\n",
              "close_date_pull_in_count               0\n",
              "close_date_total_mid_stage_pull_in     0\n",
              "close_date_total_mid_stage_push_out    0\n",
              "stage_name                             0\n",
              "is_won                                 0\n",
              "dtype: int64"
            ]
          },
          "metadata": {},
          "execution_count": 36
        }
      ]
    },
    {
      "cell_type": "code",
      "source": [
        "# Drop rows if null in did progress\n",
        "df_metrics.drop(df_metrics[(df_metrics['is_won'].isnull())].index, inplace=True)"
      ],
      "metadata": {
        "id": "K_iYgCx2mMqs"
      },
      "execution_count": null,
      "outputs": []
    },
    {
      "cell_type": "markdown",
      "metadata": {
        "id": "hQoi-lMH_Ln0"
      },
      "source": [
        "## Feature Engineering"
      ]
    },
    {
      "cell_type": "code",
      "source": [
        "# This method is used to get the log of given metrics\n",
        "# As math.log(1) = 0, log(x+1) is used\n",
        "\n",
        "def apply_log(list_of_metrics, df):\n",
        "  for metric in list_of_metrics:\n",
        "    df[metric] = df[metric].apply(lambda x: math.log(x+1))\n",
        "  \n",
        "  return df"
      ],
      "metadata": {
        "id": "KOu8LX_elCEc"
      },
      "execution_count": null,
      "outputs": []
    },
    {
      "cell_type": "code",
      "source": [
        "metrics_for_log = ['total_num_of_contacts', 'time_in_stage', 'word_count_mean',\n",
        "                   'rep_response_time_mean', 'prospect_response_time_mean', 'rep_followup_time_mean',\n",
        "                   \n",
        "                   'daily_activity_velocity', 'daily_outbound_velocity', 'daily_inbound_velocity',\n",
        "                   'daily_call_velocity', 'daily_meeting_velocity', \n",
        "                   \n",
        "                   'close_date_avg_push_out', 'close_date_avg_pull_in',\n",
        "                   'close_date_total_mid_stage_push_out', 'close_date_total_mid_stage_pull_in']\n",
        "\n",
        "# Apply log function to get the log of metrics\n",
        "df_final = apply_log(metrics_for_log, df_metrics)"
      ],
      "metadata": {
        "id": "vlmIgLUCnZ5D"
      },
      "execution_count": null,
      "outputs": []
    },
    {
      "cell_type": "code",
      "metadata": {
        "id": "30ckQkdXRlYf",
        "colab": {
          "base_uri": "https://localhost:8080/",
          "height": 270
        },
        "outputId": "2c0b116a-69c0-43b5-bc37-5a8e7a55c7be"
      },
      "source": [
        "df_final.head()"
      ],
      "execution_count": null,
      "outputs": [
        {
          "output_type": "execute_result",
          "data": {
            "text/plain": [
              "    daily_activity_velocity  daily_meeting_velocity  daily_call_velocity  \\\n",
              "4                  0.362476                0.026133             0.019664   \n",
              "11                 0.280554                0.011106             0.059610   \n",
              "19                 0.155937                0.013235             0.000000   \n",
              "21                 0.248120                0.021908             0.009448   \n",
              "25                 0.184999                0.000000             0.062199   \n",
              "\n",
              "    daily_inbound_velocity  daily_outbound_velocity  rep_response_time_mean  \\\n",
              "4                 0.164433                 0.192125                0.911680   \n",
              "11                0.032954                 0.173828                1.171905   \n",
              "19                0.072780                 0.068643                0.706365   \n",
              "21                0.107877                 0.121981                0.706365   \n",
              "25                0.026388                 0.106434                2.271437   \n",
              "\n",
              "    prospect_response_time_mean  rep_followup_time_mean  word_count_mean  \\\n",
              "4                      1.265181                2.012376         4.285739   \n",
              "11                     0.608507                3.285834         4.732839   \n",
              "19                     1.536210                1.105876         3.959622   \n",
              "21                     1.536210                1.210679         3.894802   \n",
              "25                     0.600509                1.641427         4.007333   \n",
              "\n",
              "    flesch_kincaid_grade_mean  total_num_of_contacts  time_in_stage  \\\n",
              "4                    4.668330               0.693147       2.459683   \n",
              "11                   5.064550               2.079442       2.775342   \n",
              "19                   5.669231               1.098612       0.003674   \n",
              "21                   4.820760               1.791759       4.142138   \n",
              "25                   3.605186               0.693147       2.714265   \n",
              "\n",
              "    stage_avg_skip_size  stage_num_backward  stage_num_reopened  \\\n",
              "4                   3.0                   0                   1   \n",
              "11                  2.0                   0                   0   \n",
              "19                  2.0                   0                   0   \n",
              "21                  2.0                   1                   0   \n",
              "25                  2.0                   1                   0   \n",
              "\n",
              "    stage_num_skipped_many  close_date_avg_push_out  close_date_avg_pull_in  \\\n",
              "4                        1                 3.412247                3.476099   \n",
              "11                       0                 3.850148                0.000000   \n",
              "19                       0                 4.127134                0.000000   \n",
              "21                       0                 3.977811                0.000000   \n",
              "25                       0                 3.899950                4.127134   \n",
              "\n",
              "    close_date_push_out_count  close_date_pull_in_count  \\\n",
              "4                           6                         3   \n",
              "11                          2                         0   \n",
              "19                          4                         0   \n",
              "21                          5                         0   \n",
              "25                          5                         1   \n",
              "\n",
              "    close_date_total_mid_stage_pull_in  close_date_total_mid_stage_push_out  \\\n",
              "4                                  0.0                             4.418841   \n",
              "11                                 0.0                             4.532599   \n",
              "19                                 0.0                             5.572154   \n",
              "21                                 0.0                             5.572154   \n",
              "25                                 0.0                             5.204007   \n",
              "\n",
              "   stage_name is_won  \n",
              "4   Negotiate   True  \n",
              "11  Negotiate  False  \n",
              "19  Negotiate  False  \n",
              "21  Negotiate   True  \n",
              "25  Negotiate  False  "
            ],
            "text/html": [
              "\n",
              "  <div id=\"df-f4efec4e-217f-45e9-8e3a-c56755f330f9\">\n",
              "    <div class=\"colab-df-container\">\n",
              "      <div>\n",
              "<style scoped>\n",
              "    .dataframe tbody tr th:only-of-type {\n",
              "        vertical-align: middle;\n",
              "    }\n",
              "\n",
              "    .dataframe tbody tr th {\n",
              "        vertical-align: top;\n",
              "    }\n",
              "\n",
              "    .dataframe thead th {\n",
              "        text-align: right;\n",
              "    }\n",
              "</style>\n",
              "<table border=\"1\" class=\"dataframe\">\n",
              "  <thead>\n",
              "    <tr style=\"text-align: right;\">\n",
              "      <th></th>\n",
              "      <th>daily_activity_velocity</th>\n",
              "      <th>daily_meeting_velocity</th>\n",
              "      <th>daily_call_velocity</th>\n",
              "      <th>daily_inbound_velocity</th>\n",
              "      <th>daily_outbound_velocity</th>\n",
              "      <th>rep_response_time_mean</th>\n",
              "      <th>prospect_response_time_mean</th>\n",
              "      <th>rep_followup_time_mean</th>\n",
              "      <th>word_count_mean</th>\n",
              "      <th>flesch_kincaid_grade_mean</th>\n",
              "      <th>total_num_of_contacts</th>\n",
              "      <th>time_in_stage</th>\n",
              "      <th>stage_avg_skip_size</th>\n",
              "      <th>stage_num_backward</th>\n",
              "      <th>stage_num_reopened</th>\n",
              "      <th>stage_num_skipped_many</th>\n",
              "      <th>close_date_avg_push_out</th>\n",
              "      <th>close_date_avg_pull_in</th>\n",
              "      <th>close_date_push_out_count</th>\n",
              "      <th>close_date_pull_in_count</th>\n",
              "      <th>close_date_total_mid_stage_pull_in</th>\n",
              "      <th>close_date_total_mid_stage_push_out</th>\n",
              "      <th>stage_name</th>\n",
              "      <th>is_won</th>\n",
              "    </tr>\n",
              "  </thead>\n",
              "  <tbody>\n",
              "    <tr>\n",
              "      <th>4</th>\n",
              "      <td>0.362476</td>\n",
              "      <td>0.026133</td>\n",
              "      <td>0.019664</td>\n",
              "      <td>0.164433</td>\n",
              "      <td>0.192125</td>\n",
              "      <td>0.911680</td>\n",
              "      <td>1.265181</td>\n",
              "      <td>2.012376</td>\n",
              "      <td>4.285739</td>\n",
              "      <td>4.668330</td>\n",
              "      <td>0.693147</td>\n",
              "      <td>2.459683</td>\n",
              "      <td>3.0</td>\n",
              "      <td>0</td>\n",
              "      <td>1</td>\n",
              "      <td>1</td>\n",
              "      <td>3.412247</td>\n",
              "      <td>3.476099</td>\n",
              "      <td>6</td>\n",
              "      <td>3</td>\n",
              "      <td>0.0</td>\n",
              "      <td>4.418841</td>\n",
              "      <td>Negotiate</td>\n",
              "      <td>True</td>\n",
              "    </tr>\n",
              "    <tr>\n",
              "      <th>11</th>\n",
              "      <td>0.280554</td>\n",
              "      <td>0.011106</td>\n",
              "      <td>0.059610</td>\n",
              "      <td>0.032954</td>\n",
              "      <td>0.173828</td>\n",
              "      <td>1.171905</td>\n",
              "      <td>0.608507</td>\n",
              "      <td>3.285834</td>\n",
              "      <td>4.732839</td>\n",
              "      <td>5.064550</td>\n",
              "      <td>2.079442</td>\n",
              "      <td>2.775342</td>\n",
              "      <td>2.0</td>\n",
              "      <td>0</td>\n",
              "      <td>0</td>\n",
              "      <td>0</td>\n",
              "      <td>3.850148</td>\n",
              "      <td>0.000000</td>\n",
              "      <td>2</td>\n",
              "      <td>0</td>\n",
              "      <td>0.0</td>\n",
              "      <td>4.532599</td>\n",
              "      <td>Negotiate</td>\n",
              "      <td>False</td>\n",
              "    </tr>\n",
              "    <tr>\n",
              "      <th>19</th>\n",
              "      <td>0.155937</td>\n",
              "      <td>0.013235</td>\n",
              "      <td>0.000000</td>\n",
              "      <td>0.072780</td>\n",
              "      <td>0.068643</td>\n",
              "      <td>0.706365</td>\n",
              "      <td>1.536210</td>\n",
              "      <td>1.105876</td>\n",
              "      <td>3.959622</td>\n",
              "      <td>5.669231</td>\n",
              "      <td>1.098612</td>\n",
              "      <td>0.003674</td>\n",
              "      <td>2.0</td>\n",
              "      <td>0</td>\n",
              "      <td>0</td>\n",
              "      <td>0</td>\n",
              "      <td>4.127134</td>\n",
              "      <td>0.000000</td>\n",
              "      <td>4</td>\n",
              "      <td>0</td>\n",
              "      <td>0.0</td>\n",
              "      <td>5.572154</td>\n",
              "      <td>Negotiate</td>\n",
              "      <td>False</td>\n",
              "    </tr>\n",
              "    <tr>\n",
              "      <th>21</th>\n",
              "      <td>0.248120</td>\n",
              "      <td>0.021908</td>\n",
              "      <td>0.009448</td>\n",
              "      <td>0.107877</td>\n",
              "      <td>0.121981</td>\n",
              "      <td>0.706365</td>\n",
              "      <td>1.536210</td>\n",
              "      <td>1.210679</td>\n",
              "      <td>3.894802</td>\n",
              "      <td>4.820760</td>\n",
              "      <td>1.791759</td>\n",
              "      <td>4.142138</td>\n",
              "      <td>2.0</td>\n",
              "      <td>1</td>\n",
              "      <td>0</td>\n",
              "      <td>0</td>\n",
              "      <td>3.977811</td>\n",
              "      <td>0.000000</td>\n",
              "      <td>5</td>\n",
              "      <td>0</td>\n",
              "      <td>0.0</td>\n",
              "      <td>5.572154</td>\n",
              "      <td>Negotiate</td>\n",
              "      <td>True</td>\n",
              "    </tr>\n",
              "    <tr>\n",
              "      <th>25</th>\n",
              "      <td>0.184999</td>\n",
              "      <td>0.000000</td>\n",
              "      <td>0.062199</td>\n",
              "      <td>0.026388</td>\n",
              "      <td>0.106434</td>\n",
              "      <td>2.271437</td>\n",
              "      <td>0.600509</td>\n",
              "      <td>1.641427</td>\n",
              "      <td>4.007333</td>\n",
              "      <td>3.605186</td>\n",
              "      <td>0.693147</td>\n",
              "      <td>2.714265</td>\n",
              "      <td>2.0</td>\n",
              "      <td>1</td>\n",
              "      <td>0</td>\n",
              "      <td>0</td>\n",
              "      <td>3.899950</td>\n",
              "      <td>4.127134</td>\n",
              "      <td>5</td>\n",
              "      <td>1</td>\n",
              "      <td>0.0</td>\n",
              "      <td>5.204007</td>\n",
              "      <td>Negotiate</td>\n",
              "      <td>False</td>\n",
              "    </tr>\n",
              "  </tbody>\n",
              "</table>\n",
              "</div>\n",
              "      <button class=\"colab-df-convert\" onclick=\"convertToInteractive('df-f4efec4e-217f-45e9-8e3a-c56755f330f9')\"\n",
              "              title=\"Convert this dataframe to an interactive table.\"\n",
              "              style=\"display:none;\">\n",
              "        \n",
              "  <svg xmlns=\"http://www.w3.org/2000/svg\" height=\"24px\"viewBox=\"0 0 24 24\"\n",
              "       width=\"24px\">\n",
              "    <path d=\"M0 0h24v24H0V0z\" fill=\"none\"/>\n",
              "    <path d=\"M18.56 5.44l.94 2.06.94-2.06 2.06-.94-2.06-.94-.94-2.06-.94 2.06-2.06.94zm-11 1L8.5 8.5l.94-2.06 2.06-.94-2.06-.94L8.5 2.5l-.94 2.06-2.06.94zm10 10l.94 2.06.94-2.06 2.06-.94-2.06-.94-.94-2.06-.94 2.06-2.06.94z\"/><path d=\"M17.41 7.96l-1.37-1.37c-.4-.4-.92-.59-1.43-.59-.52 0-1.04.2-1.43.59L10.3 9.45l-7.72 7.72c-.78.78-.78 2.05 0 2.83L4 21.41c.39.39.9.59 1.41.59.51 0 1.02-.2 1.41-.59l7.78-7.78 2.81-2.81c.8-.78.8-2.07 0-2.86zM5.41 20L4 18.59l7.72-7.72 1.47 1.35L5.41 20z\"/>\n",
              "  </svg>\n",
              "      </button>\n",
              "      \n",
              "  <style>\n",
              "    .colab-df-container {\n",
              "      display:flex;\n",
              "      flex-wrap:wrap;\n",
              "      gap: 12px;\n",
              "    }\n",
              "\n",
              "    .colab-df-convert {\n",
              "      background-color: #E8F0FE;\n",
              "      border: none;\n",
              "      border-radius: 50%;\n",
              "      cursor: pointer;\n",
              "      display: none;\n",
              "      fill: #1967D2;\n",
              "      height: 32px;\n",
              "      padding: 0 0 0 0;\n",
              "      width: 32px;\n",
              "    }\n",
              "\n",
              "    .colab-df-convert:hover {\n",
              "      background-color: #E2EBFA;\n",
              "      box-shadow: 0px 1px 2px rgba(60, 64, 67, 0.3), 0px 1px 3px 1px rgba(60, 64, 67, 0.15);\n",
              "      fill: #174EA6;\n",
              "    }\n",
              "\n",
              "    [theme=dark] .colab-df-convert {\n",
              "      background-color: #3B4455;\n",
              "      fill: #D2E3FC;\n",
              "    }\n",
              "\n",
              "    [theme=dark] .colab-df-convert:hover {\n",
              "      background-color: #434B5C;\n",
              "      box-shadow: 0px 1px 3px 1px rgba(0, 0, 0, 0.15);\n",
              "      filter: drop-shadow(0px 1px 2px rgba(0, 0, 0, 0.3));\n",
              "      fill: #FFFFFF;\n",
              "    }\n",
              "  </style>\n",
              "\n",
              "      <script>\n",
              "        const buttonEl =\n",
              "          document.querySelector('#df-f4efec4e-217f-45e9-8e3a-c56755f330f9 button.colab-df-convert');\n",
              "        buttonEl.style.display =\n",
              "          google.colab.kernel.accessAllowed ? 'block' : 'none';\n",
              "\n",
              "        async function convertToInteractive(key) {\n",
              "          const element = document.querySelector('#df-f4efec4e-217f-45e9-8e3a-c56755f330f9');\n",
              "          const dataTable =\n",
              "            await google.colab.kernel.invokeFunction('convertToInteractive',\n",
              "                                                     [key], {});\n",
              "          if (!dataTable) return;\n",
              "\n",
              "          const docLinkHtml = 'Like what you see? Visit the ' +\n",
              "            '<a target=\"_blank\" href=https://colab.research.google.com/notebooks/data_table.ipynb>data table notebook</a>'\n",
              "            + ' to learn more about interactive tables.';\n",
              "          element.innerHTML = '';\n",
              "          dataTable['output_type'] = 'display_data';\n",
              "          await google.colab.output.renderOutput(dataTable, element);\n",
              "          const docLink = document.createElement('div');\n",
              "          docLink.innerHTML = docLinkHtml;\n",
              "          element.appendChild(docLink);\n",
              "        }\n",
              "      </script>\n",
              "    </div>\n",
              "  </div>\n",
              "  "
            ]
          },
          "metadata": {},
          "execution_count": 40
        }
      ]
    },
    {
      "cell_type": "code",
      "source": [
        "# Conver is_won to bool\n",
        "df_final[\"is_won\"] = df_final[\"is_won\"].astype(bool)"
      ],
      "metadata": {
        "id": "KulPqTQAD3MV"
      },
      "execution_count": null,
      "outputs": []
    },
    {
      "cell_type": "markdown",
      "metadata": {
        "id": "8LI8fKCb6cE7"
      },
      "source": [
        "## Splitting the dataset into the Training set and Test set\n"
      ]
    },
    {
      "cell_type": "code",
      "source": [
        "from sklearn.model_selection import train_test_split\n",
        "np.set_printoptions(precision=3, threshold=np.inf)\n",
        "\n",
        "X = df_final.drop(['is_won', 'stage_name'],axis=1).values\n",
        "\n",
        "y = df_final['is_won'].values\n",
        "\n",
        "X_train, X_test, y_train, y_test = train_test_split(X, y, test_size=0.30, random_state=None, shuffle=True)"
      ],
      "metadata": {
        "id": "Tb5VkCWhfR6f"
      },
      "execution_count": null,
      "outputs": []
    },
    {
      "cell_type": "markdown",
      "metadata": {
        "id": "HtAAJT1SZ7Wn"
      },
      "source": [
        "## Normalize the data"
      ]
    },
    {
      "cell_type": "code",
      "metadata": {
        "id": "tv3ptg75h3ov"
      },
      "source": [
        "# Feature Scaling\n",
        "from sklearn.preprocessing import MinMaxScaler\n",
        "\n",
        "scaler = MinMaxScaler()\n",
        "\n",
        "X_train = scaler.fit_transform(X_train)\n",
        "X_test =  scaler.transform(X_test)"
      ],
      "execution_count": null,
      "outputs": []
    },
    {
      "cell_type": "markdown",
      "source": [
        "## SVM\n"
      ],
      "metadata": {
        "id": "zqSugf2ge3Ep"
      }
    },
    {
      "cell_type": "code",
      "source": [
        "from scipy.stats.stats import gmean\n",
        "from sklearn.calibration import CalibratedClassifierCV\n",
        "from sklearn.svm import SVC\n",
        "\n",
        "classifier_svm = SVC(C=10, gamma=1)\n",
        "classifier = CalibratedClassifierCV(base_estimator=classifier_svm, cv=3)\n",
        "\n",
        "classifier.fit(X_train, y_train)\n",
        "\n",
        "y_pred = classifier.predict(X_test)"
      ],
      "metadata": {
        "id": "y3JH2dtj4wJK"
      },
      "execution_count": null,
      "outputs": []
    },
    {
      "cell_type": "code",
      "source": [
        "from sklearn.metrics import confusion_matrix\n",
        "\n",
        "confusion_matrix(y_test, y_pred)"
      ],
      "metadata": {
        "id": "67TpGFNa_r3t",
        "colab": {
          "base_uri": "https://localhost:8080/"
        },
        "outputId": "9939a5e3-3c00-4e2c-eb1a-b3219f1c9cf5"
      },
      "execution_count": null,
      "outputs": [
        {
          "output_type": "execute_result",
          "data": {
            "text/plain": [
              "array([[19,  9],\n",
              "       [10, 36]])"
            ]
          },
          "metadata": {},
          "execution_count": 45
        }
      ]
    },
    {
      "cell_type": "code",
      "metadata": {
        "id": "mOSw4ET1yteP",
        "colab": {
          "base_uri": "https://localhost:8080/"
        },
        "outputId": "960a4543-180e-442f-d9a7-33d2f786284f"
      },
      "source": [
        "from sklearn.metrics import f1_score\n",
        "\n",
        "f1_score(y_test, y_pred, average='macro')"
      ],
      "execution_count": null,
      "outputs": [
        {
          "output_type": "execute_result",
          "data": {
            "text/plain": [
              "0.7289377289377289"
            ]
          },
          "metadata": {},
          "execution_count": 46
        }
      ]
    },
    {
      "cell_type": "code",
      "source": [
        "print(classifier.classes_)"
      ],
      "metadata": {
        "id": "P0jTmDqrrKdT",
        "colab": {
          "base_uri": "https://localhost:8080/"
        },
        "outputId": "10bdf0ed-5e0c-440f-ff30-a40c753ab30f"
      },
      "execution_count": null,
      "outputs": [
        {
          "output_type": "stream",
          "name": "stdout",
          "text": [
            "[False  True]\n"
          ]
        }
      ]
    },
    {
      "cell_type": "code",
      "source": [
        "y_pred_proba = classifier.predict_proba(X_test)\n",
        "y_pred_proba = np.argmax(y_pred_proba, axis=1)\n",
        "y_pred_proba"
      ],
      "metadata": {
        "id": "ghA4bMYdrQyE",
        "colab": {
          "base_uri": "https://localhost:8080/"
        },
        "outputId": "f7c6eaa7-dac1-4aa1-a3db-78bb54e3fccf"
      },
      "execution_count": null,
      "outputs": [
        {
          "output_type": "execute_result",
          "data": {
            "text/plain": [
              "array([1, 1, 0, 0, 0, 1, 1, 0, 0, 1, 1, 1, 1, 0, 1, 1, 1, 0, 1, 0, 1, 1,\n",
              "       1, 1, 1, 0, 1, 1, 1, 1, 0, 0, 0, 1, 0, 1, 0, 1, 0, 0, 1, 1, 1, 1,\n",
              "       1, 1, 0, 1, 1, 1, 0, 1, 1, 1, 1, 1, 0, 0, 0, 1, 0, 0, 0, 1, 1, 1,\n",
              "       0, 1, 1, 0, 1, 0, 0, 0])"
            ]
          },
          "metadata": {},
          "execution_count": 48
        }
      ]
    },
    {
      "cell_type": "code",
      "source": [
        "from sklearn.metrics import f1_score\n",
        "\n",
        "f1_score(y_pred_proba, y_pred, average='macro')"
      ],
      "metadata": {
        "id": "nQXom_RPs62Y",
        "colab": {
          "base_uri": "https://localhost:8080/"
        },
        "outputId": "348fc07f-61b4-4b16-9b42-047d118ec4df"
      },
      "execution_count": null,
      "outputs": [
        {
          "output_type": "execute_result",
          "data": {
            "text/plain": [
              "1.0"
            ]
          },
          "metadata": {},
          "execution_count": 49
        }
      ]
    },
    {
      "cell_type": "markdown",
      "source": [
        "## Grid"
      ],
      "metadata": {
        "id": "BCXGSH6Frck4"
      }
    },
    {
      "cell_type": "code",
      "source": [
        "from scipy.stats.stats import gmean\n",
        "from sklearn.svm import SVC\n",
        "from sklearn.pipeline import Pipeline\n",
        "from sklearn.model_selection import StratifiedShuffleSplit\n",
        "from sklearn.model_selection import GridSearchCV\n",
        "\n",
        "svm_est = Pipeline([('svc',SVC(probability=True))])\n",
        "Cs = [0.0001, 0.001, 0.01, 0.1, 1, 10, 100]\n",
        "gammas = [0.0001, 0.001, 0.01, 0.1, 1, 10, 100]\n",
        "\n",
        "param_grid = dict(svc__gamma=gammas, svc__C=Cs)\n",
        "cv = StratifiedShuffleSplit(n_splits=5, test_size=0.2, random_state=7)\n",
        "\n",
        "\n",
        "grid_cv = GridSearchCV(svm_est, param_grid=param_grid, cv=cv, scoring=\"f1_macro\")\n",
        "grid_cv.fit(X_train, y_train)"
      ],
      "metadata": {
        "id": "sNfP6uZSCsZD",
        "colab": {
          "base_uri": "https://localhost:8080/"
        },
        "outputId": "40be957d-46c6-4def-a915-60c142ffcecc"
      },
      "execution_count": null,
      "outputs": [
        {
          "output_type": "execute_result",
          "data": {
            "text/plain": [
              "GridSearchCV(cv=StratifiedShuffleSplit(n_splits=5, random_state=7, test_size=0.2,\n",
              "            train_size=None),\n",
              "             estimator=Pipeline(steps=[('svc', SVC(probability=True))]),\n",
              "             param_grid={'svc__C': [0.0001, 0.001, 0.01, 0.1, 1, 10, 100],\n",
              "                         'svc__gamma': [0.0001, 0.001, 0.01, 0.1, 1, 10, 100]},\n",
              "             scoring='f1_macro')"
            ]
          },
          "metadata": {},
          "execution_count": 50
        }
      ]
    },
    {
      "cell_type": "code",
      "source": [
        "print(grid_cv.best_params_)\n",
        "print(grid_cv.best_score_)"
      ],
      "metadata": {
        "id": "WSulGX79F4t-",
        "colab": {
          "base_uri": "https://localhost:8080/"
        },
        "outputId": "5f1dc85e-9986-456a-926e-d2bd1bf8674f"
      },
      "execution_count": null,
      "outputs": [
        {
          "output_type": "stream",
          "name": "stdout",
          "text": [
            "{'svc__C': 1, 'svc__gamma': 0.1}\n",
            "0.7499161053999763\n"
          ]
        }
      ]
    },
    {
      "cell_type": "markdown",
      "source": [
        "## Save model\n",
        "\n",
        "\n",
        "> Change the filepath to where model needs to be saved in gcp\n"
      ],
      "metadata": {
        "id": "V-RIa4Y3ri-q"
      }
    },
    {
      "cell_type": "code",
      "source": [
        "# Save probability model pickle file\n",
        "import joblib\n",
        "\n",
        "filename ='/tmp/Negotiation_model.joblib'\n",
        "joblib.dump(classifier, filename)\n",
        "\n",
        "!gsutil cp /tmp/Negotiation_model.joblib gs://triple-draw/stage_level_probability_model/model_artifacts/org_13/Negotiate_13/Negotiation_model.joblib"
      ],
      "metadata": {
        "id": "_CN2mPFPjF9w",
        "colab": {
          "base_uri": "https://localhost:8080/"
        },
        "outputId": "48d9c9eb-23b8-4187-f6bb-f84b031de3b6"
      },
      "execution_count": null,
      "outputs": [
        {
          "output_type": "stream",
          "name": "stdout",
          "text": [
            "Copying file:///tmp/Negotiation_model.joblib [Content-Type=application/octet-stream]...\n",
            "/ [1 files][ 49.1 KiB/ 49.1 KiB]                                                \n",
            "Operation completed over 1 objects/49.1 KiB.                                     \n"
          ]
        }
      ]
    },
    {
      "cell_type": "code",
      "source": [
        "# Verify the model\n",
        "\n",
        "#loaded_model = joblib.load(filename)\n",
        "#loaded_model.predict_proba([[0.21114538798804383,0.0,0.0,0.14457461017319456,0.24502126974613753,0.015558234340554493,1.0,0.9999999999999999,0.0,0.38367447273686067,0.2789429456511298,0.7733581292498118,0.5,0.6666666666666666,0.0,0.0,0.8720575436985503,1.0,1.0,0.25,0.0,1.0]])\n",
        "#loaded_model.predict_proba([[0.141,0,1,0,0.306,1,0,0.246,0.134,0,0,0.655,0,1,0,0,0.682,1,0.75,0.333,0,0.681]])"
      ],
      "metadata": {
        "id": "EAkb1IQuXi1x"
      },
      "execution_count": null,
      "outputs": []
    }
  ]
}